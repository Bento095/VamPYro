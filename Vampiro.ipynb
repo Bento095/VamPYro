{
  "nbformat": 4,
  "nbformat_minor": 0,
  "metadata": {
    "colab": {
      "provenance": [],
      "authorship_tag": "ABX9TyMbnkSDelljnpC41cH2Arch",
      "include_colab_link": true
    },
    "kernelspec": {
      "name": "python3",
      "display_name": "Python 3"
    },
    "language_info": {
      "name": "python"
    }
  },
  "cells": [
    {
      "cell_type": "markdown",
      "metadata": {
        "id": "view-in-github",
        "colab_type": "text"
      },
      "source": [
        "<a href=\"https://colab.research.google.com/github/Bento095/VamPYro/blob/main/Vampiro.ipynb\" target=\"_parent\"><img src=\"https://colab.research.google.com/assets/colab-badge.svg\" alt=\"Open In Colab\"/></a>"
      ]
    },
    {
      "cell_type": "code",
      "source": [
        "import random"
      ],
      "metadata": {
        "id": "uFxXZjepa_PK"
      },
      "execution_count": 1330,
      "outputs": []
    },
    {
      "cell_type": "markdown",
      "source": [
        "LISTAS INICIAIS"
      ],
      "metadata": {
        "id": "rThvUWlF1VEn"
      }
    },
    {
      "cell_type": "code",
      "source": [
        "lista_cla = {\n",
        "    \"Brujah\":{\"Rapidez\":0,\"Potencia\":0,\"Presença\":0},\n",
        "    \"Gangrel\":{\"Animalismo\":0,\"Metamorfose\":0,\"Fortitude\":0},\n",
        "    \"Malkavian\":{\"Demencia\":0,\"Auspicios\":0,\"Ofuscacao\":0},\n",
        "    \"Nosferatu\":{\"Ofuscacao\":0,\"Potencia\":0,\"Animalismo\":0},\n",
        "    \"Toreador\":{\"Auspicios\":0,\"Rapidez\":0,\"Presença\":0},\n",
        "    \"Tremere\":{\"Auspicios\":0,\"Dominacao\": 0,\"Taumaturgia\": 0},\n",
        "    \"Ventrue\":{\"Dominacao\": 0,\"Fortitude\":0,\"Presença\":0},\n",
        "    \"Tzimisce\":{\"Vicissitude\":0,\"Animalismo\":0,\"Auspicios\":0},\n",
        "    \"Lasombra\":{\"Tenebrosidade\":0,\"Dominacao\": 0,\"Potencia\":0},\n",
        "    \"Giovanni\":{\"Necromancia\": 0,\"Dominacao\": 0,\"Potencia\":0},\n",
        "    \"Assamita\":{\"Quietus\":0,\"Rapidez\":0,\"Ofuscacao\":0},\n",
        "    \"Setita\":{\"Serpentis\":0,\"Ofuscacao\":0,\"Presença\":0},\n",
        "    \"Ravnos\":{\"Quimerismo\":0,\"Animalismo\":0,\"Fortitude\":0},\n",
        "    \"Caitif\":{}\n",
        "}"
      ],
      "metadata": {
        "id": "yNLMuAXRzm6O"
      },
      "execution_count": 1331,
      "outputs": []
    },
    {
      "cell_type": "code",
      "source": [
        "#lista_cla[\"Giovanni\"][\"Necromancia\"]"
      ],
      "metadata": {
        "id": "GqaFiAyKZeKi"
      },
      "execution_count": 1332,
      "outputs": []
    },
    {
      "cell_type": "code",
      "source": [
        "for disciplina, pontuacao in lista_cla[\"Brujah\"].items():\n",
        "    print(f\"{disciplina}:{pontuacao}\")"
      ],
      "metadata": {
        "colab": {
          "base_uri": "https://localhost:8080/"
        },
        "id": "6my9SoIL370y",
        "outputId": "b45bb62d-0327-4d05-965d-6977ca67b790"
      },
      "execution_count": 1333,
      "outputs": [
        {
          "output_type": "stream",
          "name": "stdout",
          "text": [
            "Rapidez:0\n",
            "Potencia:0\n",
            "Presença:0\n"
          ]
        }
      ]
    },
    {
      "cell_type": "code",
      "source": [
        "lista_disciplinas = {\n",
        "    \"Animalismo\": 0,\n",
        "    \"Auspícios\": 0,\n",
        "    \"Demencia\": 0,\n",
        "    \"Dominacao\": 0,\n",
        "    \"Fortitude\": 0,\n",
        "    \"Metamorfose\": 0,\n",
        "    \"Necromancia\": 0,\n",
        "    \"Ofuscacao\": 0,\n",
        "    \"Potencia\": 0,\n",
        "    \"Presença\": 0,\n",
        "    \"Quietus\": 0,\n",
        "    \"Quimerismo\": 0,\n",
        "    \"Rapidez\": 0,\n",
        "    \"Serpentis\": 0,\n",
        "    \"Taumaturgia\": 0,\n",
        "    \"Tenebrosidade\": 0,\n",
        "    \"Vicissitude\": 0\n",
        "}"
      ],
      "metadata": {
        "id": "Qo-qRhwDjOJh"
      },
      "execution_count": 1334,
      "outputs": []
    },
    {
      "cell_type": "code",
      "source": [
        "lista_atributos = {\n",
        "    \"fisicos\": {\n",
        "        \"forca\": 1,\n",
        "        \"destreza\": 1,\n",
        "        \"vigor\": 1},\n",
        "    \"sociais\": {\n",
        "        \"carisma\": 1,\n",
        "        \"manipulacao\": 1,\n",
        "        \"aparencia\": 1},\n",
        "    \"mentais\": {\n",
        "        \"percepcao\": 1,\n",
        "        \"inteligencia\": 1,\n",
        "        \"raciocinio\": 1}\n",
        "}"
      ],
      "metadata": {
        "id": "NfM6lE_Pikpn"
      },
      "execution_count": 1335,
      "outputs": []
    },
    {
      "cell_type": "code",
      "source": [
        "for atributo, pontuacao in lista_atributos[\"fisicos\"].items():\n",
        "    print(f\"{atributo}:{pontuacao}\")"
      ],
      "metadata": {
        "colab": {
          "base_uri": "https://localhost:8080/"
        },
        "id": "ry3SaRwvhKg-",
        "outputId": "9eeb3664-2684-4faf-a254-a4483538ba14"
      },
      "execution_count": 1336,
      "outputs": [
        {
          "output_type": "stream",
          "name": "stdout",
          "text": [
            "forca:1\n",
            "destreza:1\n",
            "vigor:1\n"
          ]
        }
      ]
    },
    {
      "cell_type": "code",
      "source": [
        "lista_habilidades = {\n",
        "    \"talentos\": {\n",
        "        'prontidao': 0,\n",
        "        'esportes': 0,\n",
        "        'briga': 0,\n",
        "        'esquiva': 0,\n",
        "        'empatia': 0,\n",
        "        'expressao': 0,\n",
        "        'intimidacao': 0,\n",
        "        'lideranca': 0,\n",
        "        'manha': 0,\n",
        "        'labia': 0},\n",
        "    \"pericias\": {\n",
        "        'animais': 0,\n",
        "        'oficios': 0,\n",
        "        'conducao': 0,\n",
        "        'etiqueta': 0,\n",
        "        'armas_de_fogo': 0,\n",
        "        'armas_brancas': 0,\n",
        "        'performance': 0,\n",
        "        'seguranca': 0,\n",
        "        'furtividade': 0,\n",
        "        'sobrevivencia': 0},\n",
        "    \"conhecimento\": {\n",
        "        'academicos': 0,\n",
        "        'computador': 0,\n",
        "        'financas': 0,\n",
        "        'investigacao': 0,\n",
        "        'direito': 0,\n",
        "        'linguistica': 0,\n",
        "        'medicina': 0,\n",
        "        'ocultismo': 0,\n",
        "        'politica': 0,\n",
        "        'ciencia': 0}\n",
        "}"
      ],
      "metadata": {
        "id": "UQT9twHpfvtU"
      },
      "execution_count": 1337,
      "outputs": []
    },
    {
      "cell_type": "code",
      "source": [
        "for habilidade, pontuacao in lista_habilidades[\"talentos\"].items():\n",
        "    print(f\"{habilidade}:{pontuacao}\")"
      ],
      "metadata": {
        "colab": {
          "base_uri": "https://localhost:8080/"
        },
        "id": "wcyI_Bpu4nxk",
        "outputId": "e562596c-326c-499a-a921-75381b585bcf"
      },
      "execution_count": 1338,
      "outputs": [
        {
          "output_type": "stream",
          "name": "stdout",
          "text": [
            "prontidao:0\n",
            "esportes:0\n",
            "briga:0\n",
            "esquiva:0\n",
            "empatia:0\n",
            "expressao:0\n",
            "intimidacao:0\n",
            "lideranca:0\n",
            "manha:0\n",
            "labia:0\n"
          ]
        }
      ]
    },
    {
      "cell_type": "code",
      "source": [
        "lista_vantagens = {\n",
        "    'antecedentes':{'aliados':0,'contatos':0,'fama':0,'geracao':0,'rebanho':0,'influencia':0,'mentor':0,'recursos':0,'lacaios':0,'status':0},\n",
        "    'virtudes':{'consiencia':1,'autocontrole':1,'coragem':1}\n",
        "}"
      ],
      "metadata": {
        "id": "QHTdEPZu_2dM"
      },
      "execution_count": 1339,
      "outputs": []
    },
    {
      "cell_type": "code",
      "source": [
        "for vantagens, pontuacao in lista_vantagens[\"antecedentes\"].items():\n",
        "    print(f\"{vantagens}:{pontuacao}\")"
      ],
      "metadata": {
        "colab": {
          "base_uri": "https://localhost:8080/"
        },
        "id": "ZnasHlrNDW2S",
        "outputId": "cfbd03e8-10b4-4564-e945-7b4e87f51691"
      },
      "execution_count": 1340,
      "outputs": [
        {
          "output_type": "stream",
          "name": "stdout",
          "text": [
            "aliados:0\n",
            "contatos:0\n",
            "fama:0\n",
            "geracao:0\n",
            "rebanho:0\n",
            "influencia:0\n",
            "mentor:0\n",
            "recursos:0\n",
            "lacaios:0\n",
            "status:0\n"
          ]
        }
      ]
    },
    {
      "cell_type": "markdown",
      "source": [
        "DEFINIÇÃO DA CLASS"
      ],
      "metadata": {
        "id": "nQKhUzZm2HHp"
      }
    },
    {
      "cell_type": "code",
      "source": [
        "class Vampiro():\n",
        "  def __init__(self,nome,geracao,cla,atributos,habilidades,vantagens,qualidades_defeitos,trilha,forca_de_vontade,pontos_de_sangue):\n",
        "    self.nome = nome #feito\n",
        "    self.geracao = geracao # FALTA modificar apartir de antecedentes\n",
        "    self.cla = cla # feito, verifica se nosfratu pra zerar aparencia caso TRUE\n",
        "    self.atributos = atributos # aguardando sistema de pontos\n",
        "    self.habilidades = habilidades# ta funcionando\n",
        "    self.vantagens = vantagens #feito\n",
        "    self.qualidades_defeitos = qualidades_defeitos\n",
        "    self.trilha = trilha\n",
        "    self.forca_de_vontade = forca_de_vontade\n",
        "    self.pontos_de_sangue = pontos_de_sangue\n",
        "\n",
        "  def ficha(self):\n",
        "    print(f'{self.nome}, de {self.geracao} geração, do cla {self.cla}')"
      ],
      "metadata": {
        "id": "tOFBpkPPPW13"
      },
      "execution_count": 1341,
      "outputs": []
    },
    {
      "cell_type": "code",
      "execution_count": 1342,
      "metadata": {
        "id": "-d-Z6L6qOwq8"
      },
      "outputs": [],
      "source": [
        "#vampiro = Vampiro()\n",
        "#vampiro.ficha()"
      ]
    },
    {
      "cell_type": "markdown",
      "source": [
        "Nome"
      ],
      "metadata": {
        "id": "aBICNeK_Jhhs"
      }
    },
    {
      "cell_type": "code",
      "source": [
        "nome = input('Seu personagem tem nome? ').title()\n",
        "\n",
        "if nome == \"\":\n",
        "    nome = \"Indigente\"\n",
        "    print(nome)\n",
        "else:\n",
        "    print(nome)"
      ],
      "metadata": {
        "colab": {
          "base_uri": "https://localhost:8080/"
        },
        "id": "3IW2_ekMZmht",
        "outputId": "db6fed20-e4bd-4169-9d38-0503135597c1"
      },
      "execution_count": 1343,
      "outputs": [
        {
          "output_type": "stream",
          "name": "stdout",
          "text": [
            "Seu personagem tem nome? \n",
            "Indigente\n"
          ]
        }
      ]
    },
    {
      "cell_type": "markdown",
      "source": [
        "Clã"
      ],
      "metadata": {
        "id": "cC0nmzcMJYnW"
      }
    },
    {
      "cell_type": "code",
      "source": [
        "def escolher_cla():\n",
        "  global cla\n",
        "  cla = input('Seu personagem é de qual cla? ').title()\n",
        "\n",
        "  if cla == \"\":\n",
        "    cla = random.choice(list(lista_cla.keys()))\n",
        "    cla = cla\n",
        "    print(cla)\n",
        "  elif cla in lista_cla:\n",
        "    print(cla)\n",
        "  else:\n",
        "    print('Verifique a lista de clãs')\n",
        "    print(list(lista_cla.keys()))\n",
        "    escolher_cla()\n",
        "\n",
        "escolher_cla()"
      ],
      "metadata": {
        "colab": {
          "base_uri": "https://localhost:8080/"
        },
        "id": "8zIzuNl_iYE1",
        "outputId": "57edbb02-09ed-45ca-e812-84fc74238873"
      },
      "execution_count": 1344,
      "outputs": [
        {
          "output_type": "stream",
          "name": "stdout",
          "text": [
            "Seu personagem é de qual cla? \n",
            "Gangrel\n"
          ]
        }
      ]
    },
    {
      "cell_type": "markdown",
      "source": [
        "Disciplinas"
      ],
      "metadata": {
        "id": "_pX8xKeQ1isY"
      }
    },
    {
      "cell_type": "code",
      "source": [
        "global disciplinas_caitif"
      ],
      "metadata": {
        "id": "ZKgsh_CTdm_-"
      },
      "execution_count": 1345,
      "outputs": []
    },
    {
      "cell_type": "code",
      "source": [
        "if cla == \"Caitif\":\n",
        "  while len(lista_cla['Caitif']) < 3: # checa se 'Caitif' tem ao menos 3 disciplines\n",
        "    disciplina = random.choice(list(lista_disciplinas.keys())) # escolhe disciplinas aleatorias\n",
        "    lista_cla['Caitif'][disciplina] = int(0) # define o nivel como 0\n",
        "  print(lista_cla['Caitif'])\n",
        "  disciplinas_caitif = lista_cla['Caitif'].copy()# Cria uma cópia do dicionário\n",
        "  (lista_cla['Caitif']).clear()\n",
        "  disciplinas = disciplinas_caitif\n",
        "else:\n",
        "  disciplinas = lista_cla[cla].copy()\n",
        "\n",
        "for i in range(3):\n",
        "  disciplina = random.choice(list(disciplinas.items()))\n",
        "  if disciplina in disciplinas.items():\n",
        "    disciplinas[disciplina[0]] +=1"
      ],
      "metadata": {
        "id": "yywehftHXLkD"
      },
      "execution_count": 1346,
      "outputs": []
    },
    {
      "cell_type": "code",
      "source": [
        "disciplinas"
      ],
      "metadata": {
        "colab": {
          "base_uri": "https://localhost:8080/"
        },
        "id": "_MeUC4kpijDm",
        "outputId": "99047792-987a-4991-d12f-72ccf2259799"
      },
      "execution_count": 1347,
      "outputs": [
        {
          "output_type": "execute_result",
          "data": {
            "text/plain": [
              "{'Animalismo': 1, 'Metamorfose': 1, 'Fortitude': 1}"
            ]
          },
          "metadata": {},
          "execution_count": 1347
        }
      ]
    },
    {
      "cell_type": "markdown",
      "source": [
        "Geração"
      ],
      "metadata": {
        "id": "Gajc6rD5JkeA"
      }
    },
    {
      "cell_type": "code",
      "source": [
        "def escolher_geracao():\n",
        "  global geracao #declara a geração globalmente\n",
        "  while True: #loop ate um input valido\n",
        "    try:\n",
        "      geracao_input = input('Seu personagem é de qual geração? ')\n",
        "      if geracao_input == \"\":\n",
        "        geracao = random.randint(8,13)\n",
        "        print(geracao)\n",
        "        break #sai do loop apos sortear uma geração no range\n",
        "      geracao = int(geracao_input) #tenta converter o input pra inteiro\n",
        "      if 8 <= geracao <= 13:\n",
        "        print(geracao)\n",
        "        break #sai do loop apos receber um input valido\n",
        "      else:\n",
        "        print('A geração deve ser um número entre 8 e 13')\n",
        "    except ValueError:\n",
        "      print('Entrada inválida. Por favor, digite um número inteiro.')\n",
        "\n",
        "escolher_geracao()"
      ],
      "metadata": {
        "colab": {
          "base_uri": "https://localhost:8080/"
        },
        "id": "RpWnapAhfinC",
        "outputId": "52f043bb-d31d-41bb-a4d6-ac8c856b4870"
      },
      "execution_count": 1348,
      "outputs": [
        {
          "output_type": "stream",
          "name": "stdout",
          "text": [
            "Seu personagem é de qual geração? \n",
            "13\n"
          ]
        }
      ]
    },
    {
      "cell_type": "markdown",
      "source": [
        "Atributos"
      ],
      "metadata": {
        "id": "KcXBcBtdkrAh"
      }
    },
    {
      "cell_type": "markdown",
      "source": [
        "relaçao de atributos para uso das disciplinas, ao gerar ficha a consulta de atributos vai se basear nessa preseleção"
      ],
      "metadata": {
        "id": "RbLCtRMXDJq1"
      }
    },
    {
      "cell_type": "code",
      "source": [
        "testes_disciplinas = {\n",
        "    'Animalismo':{'manipulacao','carisma','animais','sobrevivencia','intimidacao'},#autocontrole\n",
        "    'Auspicios':{'percepcao','empatia','inteligencia','labia','ocultismo'},#força de vontade\n",
        "    'Demencia':{'carisma','empatia','manipulacao','labia','percepcao','ocultismo','intimidacao'},#pontos de sangue\n",
        "    'Dominacao':{'manipulacao','intimidacao','lideranca','raciocinio','labia','carisma'},#força de vontade\n",
        "    'Fortitude':{'vigor'},\n",
        "    'Metamorfose':{'forca'},\n",
        "    'Necromancia':{'percepcao','ocultismo','manipulacao','vigor','empatia','destreza','raciocinio','prontidao','inteligencia'},#Força de Vontade\n",
        "    'Ofuscacao':{'raciocinio','furtividade','manipulacao','performance','carisma'},\n",
        "    'Potencia':{'forca','destreza','esportes','briga'},\n",
        "    'Presença':{'carisma','performance','intimidacao','aparencia','empatia','labia'},#força de vontade\n",
        "    'Quietus':{'vigor','esportes','forca'},#pontos de sangue\n",
        "    'Quimerismo':{'manipulacao','labia'},#força de vontade\n",
        "    'Rapidez':{'destreza','esportes'},\n",
        "    'Serpentis':{'forca','vigor'},\n",
        "    'Taumaturgia':{'oficios','ciencia','vigor','esportes','raciocinio','sobrevivencia'},\n",
        "    'Tenebrosidade':{'furtividade','manipulacao','ocultismo','vigor'},\n",
        "    'Vicissitude':{'inteligencia','medicina','percepcao','destreza','forca','vigor'}\n",
        "}"
      ],
      "metadata": {
        "id": "fmQCigCgniAb"
      },
      "execution_count": 1349,
      "outputs": []
    },
    {
      "cell_type": "code",
      "source": [
        "testes_do_cla = []\n",
        "\n",
        "for item in disciplinas:\n",
        "  if item in testes_disciplinas:\n",
        "    testes_do_cla.append(testes_disciplinas[item])\n",
        "    print(testes_disciplinas[item])"
      ],
      "metadata": {
        "colab": {
          "base_uri": "https://localhost:8080/"
        },
        "id": "gwdn3JHJeXpZ",
        "outputId": "551d33ae-5e64-46df-96cb-036281868f65"
      },
      "execution_count": 1350,
      "outputs": [
        {
          "output_type": "stream",
          "name": "stdout",
          "text": [
            "{'animais', 'manipulacao', 'carisma', 'intimidacao', 'sobrevivencia'}\n",
            "{'forca'}\n",
            "{'vigor'}\n"
          ]
        }
      ]
    },
    {
      "cell_type": "code",
      "source": [
        "atributos_teste = []\n",
        "habilidades_teste = []"
      ],
      "metadata": {
        "id": "28pcP0Onir9X"
      },
      "execution_count": 1351,
      "outputs": []
    },
    {
      "cell_type": "code",
      "source": [
        "atributos_teste.clear()\n",
        "habilidades_teste.clear()\n",
        "\n",
        "for itens_teste in testes_do_cla:\n",
        "  atributos_teste.extend(list(filter(lambda x: x in [a for b in lista_atributos.values() for a in b], itens_teste)))\n",
        "  habilidades_teste.extend(list(filter(lambda x: x in [a for b in lista_habilidades.values() for a in b], itens_teste)))\n",
        "\n",
        "print(\"Atributos:\", atributos_teste)\n",
        "print(\"Habilidades:\", habilidades_teste)\n"
      ],
      "metadata": {
        "colab": {
          "base_uri": "https://localhost:8080/"
        },
        "id": "YmxrhddK0oKe",
        "outputId": "e2833f37-50b3-4427-fa88-402d8109f110"
      },
      "execution_count": 1352,
      "outputs": [
        {
          "output_type": "stream",
          "name": "stdout",
          "text": [
            "Atributos: ['manipulacao', 'carisma', 'forca', 'vigor']\n",
            "Habilidades: ['animais', 'intimidacao', 'sobrevivencia']\n"
          ]
        }
      ]
    },
    {
      "cell_type": "code",
      "source": [
        "testes_do_cla"
      ],
      "metadata": {
        "colab": {
          "base_uri": "https://localhost:8080/"
        },
        "id": "1FPDMUGE5mIw",
        "outputId": "aa87e940-4be2-430a-e5b7-cc0b785c3175"
      },
      "execution_count": 1353,
      "outputs": [
        {
          "output_type": "execute_result",
          "data": {
            "text/plain": [
              "[{'animais', 'carisma', 'intimidacao', 'manipulacao', 'sobrevivencia'},\n",
              " {'forca'},\n",
              " {'vigor'}]"
            ]
          },
          "metadata": {},
          "execution_count": 1353
        }
      ]
    },
    {
      "cell_type": "code",
      "source": [
        "atributos = {}"
      ],
      "metadata": {
        "id": "Cw-I7Ng-9pkH"
      },
      "execution_count": 1354,
      "outputs": []
    },
    {
      "cell_type": "code",
      "source": [
        "atributos.clear()\n",
        "atributos = lista_atributos.copy()\n",
        "\n",
        "for i in atributos_teste:\n",
        "  if i in atributos['fisicos']:\n",
        "    atributos['fisicos'][i] +=1\n",
        "  elif i in atributos['sociais']:\n",
        "    atributos['sociais'][i] +=1\n",
        "  elif i in atributos['mentais']:\n",
        "    atributos['mentais'][i] +=1\n",
        "\n",
        "if cla == 'Nosferatu':\n",
        "  atributos['sociais']['aparencia'] = 0\n",
        "atributos"
      ],
      "metadata": {
        "colab": {
          "base_uri": "https://localhost:8080/"
        },
        "id": "rQxdBhCp29z6",
        "outputId": "75b9ac12-b4b2-4f37-c6ba-7fc345702543"
      },
      "execution_count": 1355,
      "outputs": [
        {
          "output_type": "execute_result",
          "data": {
            "text/plain": [
              "{'fisicos': {'forca': 2, 'destreza': 1, 'vigor': 2},\n",
              " 'sociais': {'carisma': 2, 'manipulacao': 2, 'aparencia': 1},\n",
              " 'mentais': {'percepcao': 1, 'inteligencia': 1, 'raciocinio': 1}}"
            ]
          },
          "metadata": {},
          "execution_count": 1355
        }
      ]
    },
    {
      "cell_type": "code",
      "source": [
        "habilidades = lista_habilidades.copy()\n",
        "\n",
        "for i in habilidades_teste:\n",
        "  if i in habilidades['talentos']:\n",
        "    habilidades['talentos'][i] +=1\n",
        "  elif i in habilidades['pericias']:\n",
        "    habilidades['pericias'][i] +=1\n",
        "  elif i in habilidades['conhecimento']:\n",
        "    habilidades['conhecimento'][i] +=1"
      ],
      "metadata": {
        "id": "4B89AlYK6ZVA"
      },
      "execution_count": 1356,
      "outputs": []
    },
    {
      "cell_type": "code",
      "source": [
        "habilidades = {tipo: {hab: pont for hab, pont in hab_dict.items() if pont != 0}\n",
        "              for tipo, hab_dict in habilidades.items()}"
      ],
      "metadata": {
        "id": "AJQbqTtr8cJu"
      },
      "execution_count": 1357,
      "outputs": []
    },
    {
      "cell_type": "code",
      "source": [
        "habilidades"
      ],
      "metadata": {
        "colab": {
          "base_uri": "https://localhost:8080/"
        },
        "id": "1BgskuHcCkaf",
        "outputId": "5a5355a0-9186-4415-f4ea-ec6fab167e8c"
      },
      "execution_count": 1358,
      "outputs": [
        {
          "output_type": "execute_result",
          "data": {
            "text/plain": [
              "{'talentos': {'intimidacao': 1},\n",
              " 'pericias': {'animais': 1, 'sobrevivencia': 1},\n",
              " 'conhecimento': {}}"
            ]
          },
          "metadata": {},
          "execution_count": 1358
        }
      ]
    },
    {
      "cell_type": "markdown",
      "source": [
        "Apartir dessas listas de **atributos** e **habilidades** serão sorteados os pontos a serem distribuidos"
      ],
      "metadata": {
        "id": "deS2lkhRA9pu"
      }
    },
    {
      "cell_type": "markdown",
      "source": [
        "**VANTAGENS**"
      ],
      "metadata": {
        "id": "Kf8SQAYy2s-L"
      }
    },
    {
      "cell_type": "code",
      "source": [
        "antecedentes = {}\n",
        "virtudes = {}"
      ],
      "metadata": {
        "id": "W5ru7vYdEQuZ"
      },
      "execution_count": 1359,
      "outputs": []
    },
    {
      "cell_type": "code",
      "source": [
        "lista_vantagens[\"antecedentes\"]"
      ],
      "metadata": {
        "colab": {
          "base_uri": "https://localhost:8080/"
        },
        "id": "HLKseAmUNjbT",
        "outputId": "41081958-6023-4bf9-d9d8-4e2e8b7b8b21"
      },
      "execution_count": 1360,
      "outputs": [
        {
          "output_type": "execute_result",
          "data": {
            "text/plain": [
              "{'aliados': 0,\n",
              " 'contatos': 0,\n",
              " 'fama': 0,\n",
              " 'geracao': 0,\n",
              " 'rebanho': 0,\n",
              " 'influencia': 0,\n",
              " 'mentor': 0,\n",
              " 'recursos': 0,\n",
              " 'lacaios': 0,\n",
              " 'status': 0}"
            ]
          },
          "metadata": {},
          "execution_count": 1360
        }
      ]
    },
    {
      "cell_type": "code",
      "source": [
        "antecedentes.clear()\n",
        "antecedentes = lista_vantagens[\"antecedentes\"].copy()\n",
        "for i in range(5):\n",
        "  antecedente = random.choice(list(antecedentes.items()))\n",
        "  if antecedente in antecedentes.items():\n",
        "    antecedentes[antecedente[0]] += 1\n",
        "  else:\n",
        "    antecedentes[antecedente[0]] = 0\n",
        "\n",
        "for i in list(antecedentes.keys()):\n",
        "  if antecedentes[i] == 0:\n",
        "    del antecedentes[i]\n",
        "\n",
        "antecedentes"
      ],
      "metadata": {
        "id": "ezRXY-2hFD9x",
        "colab": {
          "base_uri": "https://localhost:8080/"
        },
        "outputId": "d8040388-540d-47ba-98a1-10dd09521556"
      },
      "execution_count": 1379,
      "outputs": [
        {
          "output_type": "execute_result",
          "data": {
            "text/plain": [
              "{'fama': 1, 'rebanho': 2, 'influencia': 2}"
            ]
          },
          "metadata": {},
          "execution_count": 1379
        }
      ]
    },
    {
      "cell_type": "code",
      "source": [
        "virtudes.clear() #começa limpando\n",
        "\n",
        "virtudes = lista_vantagens[\"virtudes\"].copy() # {'consiencia': 1, 'autocontrole': 1, 'coragem': 1}\n",
        "''' copia o dicionario de lista_vantagens['virtudes'] '''\n",
        "\n",
        "\n",
        "\n",
        "for i in range(8): # repete 8x\n",
        "  virtude = random.choice(list(virtudes.items())) # declara a virtude sorteada\n",
        "  if virtude in virtudes.items() and virtudes[virtude[0]] < 5: # verifica a virtude na lista\n",
        "    virtudes[virtude[0]] +=1 #adiciona +1 ponto a virtude\n",
        "\n",
        "\n",
        "\n",
        "virtudes"
      ],
      "metadata": {
        "colab": {
          "base_uri": "https://localhost:8080/"
        },
        "id": "wcyS8sJXN7Lh",
        "outputId": "79426d2e-db25-4382-ded7-37c373cebe9f"
      },
      "execution_count": 1362,
      "outputs": [
        {
          "output_type": "execute_result",
          "data": {
            "text/plain": [
              "{'consiencia': 2, 'autocontrole': 2, 'coragem': 5}"
            ]
          },
          "metadata": {},
          "execution_count": 1362
        }
      ]
    },
    {
      "cell_type": "code",
      "source": [
        "for vantagens, pontuacao in lista_vantagens[\"virtudes\"].items():\n",
        "    print(f\"{vantagens}:{pontuacao}\")"
      ],
      "metadata": {
        "colab": {
          "base_uri": "https://localhost:8080/"
        },
        "id": "3mhhYMCLF2z0",
        "outputId": "93d65daa-390b-48b6-886d-a9ee0681e9b7"
      },
      "execution_count": 1363,
      "outputs": [
        {
          "output_type": "stream",
          "name": "stdout",
          "text": [
            "consiencia:1\n",
            "autocontrole:1\n",
            "coragem:1\n"
          ]
        }
      ]
    },
    {
      "cell_type": "code",
      "source": [
        "input('Enter para finalizar')\n",
        "print(nome,cla,geracao,\"geração,\",\n",
        "      '\\natributos',\n",
        "      '\\nfisicos:',atributos['fisicos'],\n",
        "      '\\nsociais:',atributos['sociais'],\n",
        "      '\\nmentais:',atributos['mentais'],\n",
        "      '\\nhabilidades:',\n",
        "      '\\ntalentos:', habilidades['talentos'],\n",
        "      '\\npericias:', habilidades['pericias'],\n",
        "      '\\nconhecimentos:', habilidades['conhecimento'],\n",
        "      '\\nantecedentes', antecedentes,\n",
        "      \"\\ndisciplinas\", disciplinas,\n",
        "      \"\\nvirtudes\",virtudes)"
      ],
      "metadata": {
        "colab": {
          "base_uri": "https://localhost:8080/"
        },
        "id": "BxHXoMu5WLUM",
        "outputId": "5e07f9cb-0385-4da6-b8c7-399e329620c4"
      },
      "execution_count": 1380,
      "outputs": [
        {
          "output_type": "stream",
          "name": "stdout",
          "text": [
            "Enter para finalizar\n",
            "Indigente Gangrel 13 geração, \n",
            "atributos \n",
            "fisicos: {'forca': 2, 'destreza': 1, 'vigor': 2} \n",
            "sociais: {'carisma': 2, 'manipulacao': 2, 'aparencia': 1} \n",
            "mentais: {'percepcao': 1, 'inteligencia': 1, 'raciocinio': 1} \n",
            "habilidades: \n",
            "talentos: {'intimidacao': 1} \n",
            "pericias: {'animais': 1, 'sobrevivencia': 1} \n",
            "conhecimentos: {} \n",
            "antecedentes {'fama': 1, 'rebanho': 2, 'influencia': 2} \n",
            "disciplinas {'Animalismo': 1, 'Metamorfose': 1, 'Fortitude': 1} \n",
            "virtudes {'consiencia': 2, 'autocontrole': 2, 'coragem': 5}\n"
          ]
        }
      ]
    }
  ]
}