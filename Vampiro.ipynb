{
  "nbformat": 4,
  "nbformat_minor": 0,
  "metadata": {
    "colab": {
      "provenance": [],
      "authorship_tag": "ABX9TyMosTePqpY8I+du7wgFNVpH",
      "include_colab_link": true
    },
    "kernelspec": {
      "name": "python3",
      "display_name": "Python 3"
    },
    "language_info": {
      "name": "python"
    }
  },
  "cells": [
    {
      "cell_type": "markdown",
      "metadata": {
        "id": "view-in-github",
        "colab_type": "text"
      },
      "source": [
        "<a href=\"https://colab.research.google.com/github/Bento095/VamPYro/blob/main/Vampiro.ipynb\" target=\"_parent\"><img src=\"https://colab.research.google.com/assets/colab-badge.svg\" alt=\"Open In Colab\"/></a>"
      ]
    },
    {
      "cell_type": "markdown",
      "source": [
        "# Bem-vindo ao gerador de fichas de NPC para Vampire: The Masquerade, 3ª edição!\n",
        "\n",
        "## Execução: Para gerar a ficha, clique em \"Ambiente de Execução/Executar Tudo\" (ou pressione Ctrl+F9).\n",
        "Para melhor visualização, clicar em \"Ver/Recolher seções\" (ou \"Ctrl+]\")\n",
        "\n",
        "## Instruções de Uso:\n",
        "Preencha os campos ou não, no mínimo três cliques em 'ENTER' gerarão uma ficha utilizável.\n",
        "\n",
        "## Personalização: A ficha gerada é apenas uma sugestão.\n",
        " Sinta-se à vontade para modificar qualquer informação após a geração.\n",
        "\n",
        "Resultado: A ficha finalizada será exibida ao final desta página.\n",
        "\n",
        "Uma versão em Django estará disponível no futuro."
      ],
      "metadata": {
        "id": "79XHUFTw8Fih"
      }
    },
    {
      "cell_type": "markdown",
      "source": [
        "# Bloco do código\n",
        "clique na seta para esconder"
      ],
      "metadata": {
        "id": "ebF5HU4cCif-"
      }
    },
    {
      "cell_type": "code",
      "source": [
        "# @title\n",
        "import random"
      ],
      "metadata": {
        "id": "uFxXZjepa_PK",
        "cellView": "form"
      },
      "execution_count": 1887,
      "outputs": []
    },
    {
      "cell_type": "code",
      "source": [
        "# @title\n",
        "lista_cla = {\n",
        "    \"Brujah\":{\"Rapidez\":0,\"Potencia\":0,\"Presença\":0},\n",
        "    \"Gangrel\":{\"Animalismo\":0,\"Metamorfose\":0,\"Fortitude\":0},\n",
        "    \"Malkavian\":{\"Demencia\":0,\"Auspicios\":0,\"Ofuscacao\":0},\n",
        "    \"Nosferatu\":{\"Ofuscacao\":0,\"Potencia\":0,\"Animalismo\":0},\n",
        "    \"Toreador\":{\"Auspicios\":0,\"Rapidez\":0,\"Presença\":0},\n",
        "    \"Tremere\":{\"Auspicios\":0,\"Dominacao\": 0,\"Taumaturgia\": 0},\n",
        "    \"Ventrue\":{\"Dominacao\": 0,\"Fortitude\":0,\"Presença\":0},\n",
        "    \"Tzimisce\":{\"Vicissitude\":0,\"Animalismo\":0,\"Auspicios\":0},\n",
        "    \"Lasombra\":{\"Tenebrosidade\":0,\"Dominacao\": 0,\"Potencia\":0},\n",
        "    \"Giovanni\":{\"Necromancia\": 0,\"Dominacao\": 0,\"Potencia\":0},\n",
        "    \"Assamita\":{\"Quietus\":0,\"Rapidez\":0,\"Ofuscacao\":0},\n",
        "    \"Setita\":{\"Serpentis\":0,\"Ofuscacao\":0,\"Presença\":0},\n",
        "    \"Ravnos\":{\"Quimerismo\":0,\"Animalismo\":0,\"Fortitude\":0},\n",
        "    \"Caitif\":{}\n",
        "}"
      ],
      "metadata": {
        "id": "yNLMuAXRzm6O",
        "cellView": "form"
      },
      "execution_count": 1888,
      "outputs": []
    },
    {
      "cell_type": "code",
      "source": [
        "# @title\n",
        "lista_disciplinas = {\n",
        "    \"Animalismo\": 0,\n",
        "    \"Auspícios\": 0,\n",
        "    \"Demencia\": 0,\n",
        "    \"Dominacao\": 0,\n",
        "    \"Fortitude\": 0,\n",
        "    \"Metamorfose\": 0,\n",
        "    \"Necromancia\": 0,\n",
        "    \"Ofuscacao\": 0,\n",
        "    \"Potencia\": 0,\n",
        "    \"Presença\": 0,\n",
        "    \"Quietus\": 0,\n",
        "    \"Quimerismo\": 0,\n",
        "    \"Rapidez\": 0,\n",
        "    \"Serpentis\": 0,\n",
        "    \"Taumaturgia\": 0,\n",
        "    \"Tenebrosidade\": 0,\n",
        "    \"Vicissitude\": 0\n",
        "}"
      ],
      "metadata": {
        "id": "Qo-qRhwDjOJh",
        "cellView": "form"
      },
      "execution_count": 1889,
      "outputs": []
    },
    {
      "cell_type": "code",
      "source": [
        "# @title\n",
        "lista_atributos = {\n",
        "    \"fisicos\": {\n",
        "        \"forca\": 1,\n",
        "        \"destreza\": 1,\n",
        "        \"vigor\": 1},\n",
        "    \"sociais\": {\n",
        "        \"carisma\": 1,\n",
        "        \"manipulacao\": 1,\n",
        "        \"aparencia\": 1},\n",
        "    \"mentais\": {\n",
        "        \"percepcao\": 1,\n",
        "        \"inteligencia\": 1,\n",
        "        \"raciocinio\": 1}\n",
        "}"
      ],
      "metadata": {
        "id": "NfM6lE_Pikpn",
        "cellView": "form"
      },
      "execution_count": 1890,
      "outputs": []
    },
    {
      "cell_type": "code",
      "source": [
        "# @title\n",
        "lista_habilidades = {\n",
        "    \"talentos\": {\n",
        "        'prontidao': 0,\n",
        "        'esportes': 0,\n",
        "        'briga': 0,\n",
        "        'esquiva': 0,\n",
        "        'empatia': 0,\n",
        "        'expressao': 0,\n",
        "        'intimidacao': 0,\n",
        "        'lideranca': 0,\n",
        "        'manha': 0,\n",
        "        'labia': 0},\n",
        "    \"pericias\": {\n",
        "        'animais': 0,\n",
        "        'oficios': 0,\n",
        "        'conducao': 0,\n",
        "        'etiqueta': 0,\n",
        "        'armas_de_fogo': 0,\n",
        "        'armas_brancas': 0,\n",
        "        'performance': 0,\n",
        "        'seguranca': 0,\n",
        "        'furtividade': 0,\n",
        "        'sobrevivencia': 0},\n",
        "    \"conhecimento\": {\n",
        "        'academicos': 0,\n",
        "        'computador': 0,\n",
        "        'financas': 0,\n",
        "        'investigacao': 0,\n",
        "        'direito': 0,\n",
        "        'linguistica': 0,\n",
        "        'medicina': 0,\n",
        "        'ocultismo': 0,\n",
        "        'politica': 0,\n",
        "        'ciencia': 0}\n",
        "}"
      ],
      "metadata": {
        "id": "UQT9twHpfvtU",
        "cellView": "form"
      },
      "execution_count": 1891,
      "outputs": []
    },
    {
      "cell_type": "code",
      "source": [
        "# @title\n",
        "lista_vantagens = {\n",
        "    'antecedentes':{'aliados':0,'contatos':0,'fama':0,'geracao':0,'rebanho':0,'influencia':0,'mentor':0,'recursos':0,'lacaios':0,'status':0},\n",
        "    'virtudes':{'consiencia':1,'autocontrole':1,'coragem':1}\n",
        "}"
      ],
      "metadata": {
        "id": "QHTdEPZu_2dM",
        "cellView": "form"
      },
      "execution_count": 1892,
      "outputs": []
    },
    {
      "cell_type": "code",
      "source": [
        "# @title\n",
        "lista_qed = {\n",
        "    'sentidos aguçados':-1, 'ambidestro':-1, 'ingerir comida':-1, 'equilibrio perfeito':-1, 'rubror de saude':-2, 'voz encantadora':-2,\n",
        "    'temerario':-3, 'digestão eficiente':-3, 'cheiro de tumulo':1, 'deficiencia auditiva':1,\n",
        "    'mordida infecciosa':2, 'deficiencia visual':1, 'caolho':2, 'desfigurado':2, 'deformidade':3,\n",
        "    'ferimento permanente':3, 'cura demorada':3, 'vicio':3, 'sangue fraco':4, 'portador de doença contagiosa':4,\n",
        "    'pele cadavérica':5, 'bom senso':-1, 'concentração':-1, 'noção exata do tempo':-1, 'codigo de honra':-2,\n",
        "    'memoria eidetica':-2, 'sono leve':-2, 'linguista nato':-2, 'temperamento calmo':-3, 'vontade de ferro':-3, 'sono pesado':1,\n",
        "    'pesadelos':1, 'fobia':2, 'exclusao de presa':1, 'timidez':1, 'coração mole':1, 'dificuldade de fala':1, 'bairrismo':2, 'cabeça quente':2,\n",
        "    'vingança':2, 'amnésia':1, 'lunatico':2, 'vontade fraca':3, 'consumo conspícuo':4, 'senhor de prestígio':-1, 'lider nato':-1,\n",
        "    'divida de gratidão':1, 'senhor indigno':1, 'segredo sombrio':1, 'identidade trocada':1, 'ressentimento do senhor':1, 'inimigo':1, 'caçado':4,\n",
        "    'membro de seita sob investigação':4, 'médium':-2, 'resistencia a magia':-2, 'habilidade oracular':-3, 'mentor espiritual':-3,\n",
        "    'imunidade ao laço de sangue':-3, 'sorte':-3, 'amor verdadeiro':-4, 'nove vidas':-6, 'fé verdadeira':-7, 'toque de congelamento':1,\n",
        "    'repulsa ao alho':1, 'amaldiçoado':1, 'imagem sem reflexo':1, 'presença sinistra':2, 'repulsa a cruzes':3, 'incapacidade de cruzar agua corrente':3,\n",
        "    'assombrado':3, 'aperto dos amaldiçoados':4, 'futuro negro':5, 'sensibilidade a luz':5\n",
        "} # Qualidades e Defeitos\n",
        "# alguns foram removidos para nao impactar a limitação de narrativa, demais com multipla escolha em seu custo estao utilizando o menor, em caso de conflito, fica a escolha do mestre\n",
        "\n",
        "removidos = {\n",
        "    'corpo grande':-4, 'estatura baixa':1, 'criança':3, 'aleijado':3, 'monstruoso':3, 'mudo':4, 'surdez':4,'14 geração':2, 'cegueira':6\n",
        "}"
      ],
      "metadata": {
        "id": "uehd8TMwSTZx",
        "cellView": "form"
      },
      "execution_count": 1893,
      "outputs": []
    },
    {
      "cell_type": "code",
      "source": [
        "# @title\n",
        "def escolher_nome():\n",
        "  print('Olá, espaço em branco tera um nome padrão!')\n",
        "\n",
        "  global nome\n",
        "\n",
        "  nome = input('Nome do personagem: ').title()\n",
        "  if nome == \"\":\n",
        "      nome = \"Indigente\"\n",
        "      print(nome)\n",
        "  else:\n",
        "      print(nome)"
      ],
      "metadata": {
        "id": "3IW2_ekMZmht",
        "cellView": "form"
      },
      "execution_count": 1894,
      "outputs": []
    },
    {
      "cell_type": "code",
      "source": [
        "# @title\n",
        "def escolher_cla():\n",
        "  print('Espaço em branco tera uma cla aleatório!')\n",
        "  global cla\n",
        "  cla = input('Cla do personagem: ').title()\n",
        "\n",
        "  if cla == \"\":\n",
        "    cla = random.choice(list(lista_cla.keys()))\n",
        "    cla = cla\n",
        "    print(cla)\n",
        "  elif cla in lista_cla:\n",
        "    print(cla)\n",
        "  else:\n",
        "    print('Verifique a lista de clãs')\n",
        "    print(list(lista_cla.keys()))\n",
        "    escolher_cla()\n",
        "\n"
      ],
      "metadata": {
        "id": "8zIzuNl_iYE1",
        "cellView": "form"
      },
      "execution_count": 1895,
      "outputs": []
    },
    {
      "cell_type": "markdown",
      "source": [
        "# Nome"
      ],
      "metadata": {
        "id": "aBICNeK_Jhhs"
      }
    },
    {
      "cell_type": "code",
      "source": [
        "escolher_nome()"
      ],
      "metadata": {
        "colab": {
          "base_uri": "https://localhost:8080/"
        },
        "id": "544Q4QolD3rc",
        "outputId": "d2b1a215-4707-4028-a7f1-b108bc3ebd2e"
      },
      "execution_count": 1896,
      "outputs": [
        {
          "output_type": "stream",
          "name": "stdout",
          "text": [
            "Olá, espaço em branco tera um nome padrão!\n",
            "Nome do personagem: \n",
            "Indigente\n"
          ]
        }
      ]
    },
    {
      "cell_type": "markdown",
      "source": [
        "# Clã"
      ],
      "metadata": {
        "id": "cC0nmzcMJYnW"
      }
    },
    {
      "cell_type": "code",
      "source": [
        "escolher_cla()"
      ],
      "metadata": {
        "colab": {
          "base_uri": "https://localhost:8080/"
        },
        "id": "e8eagwheEv_z",
        "outputId": "6dcbb073-d919-4ed5-8e39-ebd8c4e36e41"
      },
      "execution_count": 1897,
      "outputs": [
        {
          "output_type": "stream",
          "name": "stdout",
          "text": [
            "Espaço em branco tera uma cla aleatório!\n",
            "Cla do personagem: \n",
            "Brujah\n"
          ]
        }
      ]
    },
    {
      "cell_type": "markdown",
      "source": [
        "### Disciplinas e mais código\n",
        "clique na seta para esconder"
      ],
      "metadata": {
        "id": "_pX8xKeQ1isY"
      }
    },
    {
      "cell_type": "code",
      "source": [
        "# @title\n",
        "global disciplinas_caitif"
      ],
      "metadata": {
        "id": "ZKgsh_CTdm_-",
        "cellView": "form"
      },
      "execution_count": 1898,
      "outputs": []
    },
    {
      "cell_type": "code",
      "source": [
        "# @title\n",
        "if cla == \"Caitif\":\n",
        "  while len(lista_cla['Caitif']) < 3: # checa se 'Caitif' tem ao menos 3 disciplines\n",
        "    disciplina = random.choice(list(lista_disciplinas.keys())) # escolhe disciplinas aleatorias\n",
        "    lista_cla['Caitif'][disciplina] = int(0) # define o nivel como 0\n",
        "  print(lista_cla['Caitif'])\n",
        "  disciplinas_caitif = lista_cla['Caitif'].copy()# Cria uma cópia do dicionário\n",
        "  (lista_cla['Caitif']).clear()\n",
        "  disciplinas = disciplinas_caitif\n",
        "else:\n",
        "  disciplinas = lista_cla[cla].copy()\n",
        "\n",
        "for i in range(3):\n",
        "  disciplina = random.choice(list(disciplinas.items()))\n",
        "  if disciplina in disciplinas.items():\n",
        "    disciplinas[disciplina[0]] +=1"
      ],
      "metadata": {
        "id": "yywehftHXLkD",
        "cellView": "form"
      },
      "execution_count": 1899,
      "outputs": []
    },
    {
      "cell_type": "markdown",
      "source": [
        "Atributos"
      ],
      "metadata": {
        "id": "KcXBcBtdkrAh"
      }
    },
    {
      "cell_type": "code",
      "source": [
        "# @title\n",
        "testes_disciplinas = {\n",
        "    'Animalismo':{'manipulacao','carisma','animais','sobrevivencia','intimidacao'},#autocontrole\n",
        "    'Auspicios':{'percepcao','empatia','inteligencia','labia','ocultismo'},#força de vontade\n",
        "    'Demencia':{'carisma','empatia','manipulacao','labia','percepcao','ocultismo','intimidacao'},#pontos de sangue\n",
        "    'Dominacao':{'manipulacao','intimidacao','lideranca','raciocinio','labia','carisma'},#força de vontade\n",
        "    'Fortitude':{'vigor'},\n",
        "    'Metamorfose':{'forca'},\n",
        "    'Necromancia':{'percepcao','ocultismo','manipulacao','vigor','empatia','destreza','raciocinio','prontidao','inteligencia'},#Força de Vontade\n",
        "    'Ofuscacao':{'raciocinio','furtividade','manipulacao','performance','carisma'},\n",
        "    'Potencia':{'forca','destreza','esportes','briga'},\n",
        "    'Presença':{'carisma','performance','intimidacao','aparencia','empatia','labia'},#força de vontade\n",
        "    'Quietus':{'vigor','esportes','forca'},#pontos de sangue\n",
        "    'Quimerismo':{'manipulacao','labia'},#força de vontade\n",
        "    'Rapidez':{'destreza','esportes'},\n",
        "    'Serpentis':{'forca','vigor'},\n",
        "    'Taumaturgia':{'oficios','ciencia','vigor','esportes','raciocinio','sobrevivencia'},\n",
        "    'Tenebrosidade':{'furtividade','manipulacao','ocultismo','vigor'},\n",
        "    'Vicissitude':{'inteligencia','medicina','percepcao','destreza','forca','vigor'} #levando em consideração que moldar a carne seja = medicina\n",
        "}"
      ],
      "metadata": {
        "id": "fmQCigCgniAb",
        "cellView": "form"
      },
      "execution_count": 1900,
      "outputs": []
    },
    {
      "cell_type": "code",
      "source": [
        "# @title\n",
        "testes_do_cla = []\n",
        "\n",
        "for item in disciplinas:\n",
        "  if item in testes_disciplinas:\n",
        "    testes_do_cla.append(testes_disciplinas[item])\n"
      ],
      "metadata": {
        "id": "gwdn3JHJeXpZ",
        "cellView": "form"
      },
      "execution_count": 1901,
      "outputs": []
    },
    {
      "cell_type": "code",
      "source": [
        "# @title\n",
        "atributos_teste = []\n",
        "habilidades_teste = []"
      ],
      "metadata": {
        "id": "28pcP0Onir9X",
        "cellView": "form"
      },
      "execution_count": 1902,
      "outputs": []
    },
    {
      "cell_type": "code",
      "source": [
        "# @title\n",
        "atributos_teste.clear()\n",
        "habilidades_teste.clear()\n",
        "\n",
        "for itens_teste in testes_do_cla:\n",
        "  atributos_teste.extend(list(filter(lambda x: x in [a for b in lista_atributos.values() for a in b], itens_teste)))\n",
        "  habilidades_teste.extend(list(filter(lambda x: x in [a for b in lista_habilidades.values() for a in b], itens_teste)))\n"
      ],
      "metadata": {
        "id": "YmxrhddK0oKe",
        "cellView": "form"
      },
      "execution_count": 1903,
      "outputs": []
    },
    {
      "cell_type": "code",
      "source": [
        "# @title\n",
        "atributos = {}"
      ],
      "metadata": {
        "id": "Cw-I7Ng-9pkH",
        "cellView": "form"
      },
      "execution_count": 1904,
      "outputs": []
    },
    {
      "cell_type": "code",
      "source": [
        "# @title\n",
        "atributos.clear()\n",
        "atributos = lista_atributos.copy()\n",
        "\n",
        "for i in atributos_teste:\n",
        "  if i in atributos['fisicos']:\n",
        "    atributos['fisicos'][i] +=1\n",
        "  elif i in atributos['sociais']:\n",
        "    atributos['sociais'][i] +=1\n",
        "  elif i in atributos['mentais']:\n",
        "    atributos['mentais'][i] +=1\n",
        "\n",
        "if cla == 'Nosferatu':\n",
        "  atributos['sociais']['aparencia'] = 0\n"
      ],
      "metadata": {
        "id": "rQxdBhCp29z6",
        "cellView": "form"
      },
      "execution_count": 1905,
      "outputs": []
    },
    {
      "cell_type": "code",
      "source": [
        "# @title\n",
        "habilidades = lista_habilidades.copy()\n",
        "\n",
        "for i in habilidades_teste:\n",
        "  if i in habilidades['talentos']:\n",
        "    habilidades['talentos'][i] +=1\n",
        "  elif i in habilidades['pericias']:\n",
        "    habilidades['pericias'][i] +=1\n",
        "  elif i in habilidades['conhecimento']:\n",
        "    habilidades['conhecimento'][i] +=1"
      ],
      "metadata": {
        "id": "4B89AlYK6ZVA",
        "cellView": "form"
      },
      "execution_count": 1906,
      "outputs": []
    },
    {
      "cell_type": "markdown",
      "source": [
        "VANTAGENS"
      ],
      "metadata": {
        "id": "Kf8SQAYy2s-L"
      }
    },
    {
      "cell_type": "code",
      "source": [
        "# @title\n",
        "antecedentes = {}\n",
        "virtudes = {}"
      ],
      "metadata": {
        "id": "W5ru7vYdEQuZ",
        "cellView": "form"
      },
      "execution_count": 1907,
      "outputs": []
    },
    {
      "cell_type": "code",
      "source": [
        "# @title\n",
        "antecedentes.clear()\n",
        "antecedentes = lista_vantagens[\"antecedentes\"].copy()\n",
        "for i in range(5):\n",
        "  antecedente = random.choice(list(antecedentes.items()))\n",
        "  if antecedente in antecedentes.items():\n",
        "    antecedentes[antecedente[0]] += 1\n",
        "  else:\n",
        "    antecedentes[antecedente[0]] = 0\n",
        "\n",
        "for i in list(antecedentes.keys()):\n",
        "  if antecedentes[i] == 0:\n",
        "    del antecedentes[i]\n",
        "\n"
      ],
      "metadata": {
        "id": "ezRXY-2hFD9x",
        "cellView": "form"
      },
      "execution_count": 1908,
      "outputs": []
    },
    {
      "cell_type": "code",
      "source": [
        "# @title\n",
        "virtudes.clear() #começa limpando\n",
        "\n",
        "virtudes = lista_vantagens[\"virtudes\"].copy() # {'consiencia': 1, 'autocontrole': 1, 'coragem': 1}\n",
        "''' copia o dicionario de lista_vantagens['virtudes'] '''\n",
        "\n",
        "for i in range(8): # repete 8x\n",
        "  virtude = random.choice(list(virtudes.items())) # declara a virtude sorteada\n",
        "  if virtude in virtudes.items() and virtudes[virtude[0]] < 5: # verifica a virtude na lista\n",
        "    virtudes[virtude[0]] +=1 #adiciona +1 ponto a virtude\n",
        "\n"
      ],
      "metadata": {
        "id": "wcyS8sJXN7Lh",
        "cellView": "form"
      },
      "execution_count": 1909,
      "outputs": []
    },
    {
      "cell_type": "markdown",
      "source": [
        "QUALIDADES E DEFEITOS"
      ],
      "metadata": {
        "id": "Ottn7kkswJ0Y"
      }
    },
    {
      "cell_type": "code",
      "source": [
        "# @title\n",
        "qed = {} #qualidades e defeitos\n"
      ],
      "metadata": {
        "id": "5a5TfbFLgXGM",
        "cellView": "form"
      },
      "execution_count": 1910,
      "outputs": []
    },
    {
      "cell_type": "code",
      "source": [
        "# @title\n",
        "qed.clear()\n",
        "pontos_extras = 15\n",
        "for i in range(5):\n",
        "  caracteristica = random.choice(list(lista_qed.items()))\n",
        "  if caracteristica not in qed.items():\n",
        "    qed[caracteristica[0]] = caracteristica[1]\n",
        "\n",
        "pontos_extras += sum(qed.values())"
      ],
      "metadata": {
        "id": "c79YDV71hbgi",
        "cellView": "form"
      },
      "execution_count": 1911,
      "outputs": []
    },
    {
      "cell_type": "markdown",
      "source": [
        "HUMANIDADE"
      ],
      "metadata": {
        "id": "tCcmet73wcM9"
      }
    },
    {
      "cell_type": "code",
      "source": [
        "# @title\n",
        "humanidade = virtudes['consiencia'] + virtudes['autocontrole']\n"
      ],
      "metadata": {
        "id": "XxKXCTMawiYW",
        "cellView": "form"
      },
      "execution_count": 1912,
      "outputs": []
    },
    {
      "cell_type": "markdown",
      "source": [
        "FORÇA DE VONTADE"
      ],
      "metadata": {
        "id": "yvawl4yUwi1Z"
      }
    },
    {
      "cell_type": "code",
      "source": [
        "# @title\n",
        "forca_de_vontade = virtudes['coragem']\n"
      ],
      "metadata": {
        "id": "m1nqzl9nwlXn",
        "cellView": "form"
      },
      "execution_count": 1913,
      "outputs": []
    },
    {
      "cell_type": "markdown",
      "source": [
        "PONTOS DE SANGUE"
      ],
      "metadata": {
        "id": "nxyjrAJ8wlqT"
      }
    },
    {
      "cell_type": "code",
      "source": [
        "# @title\n",
        "d10 = list(range(1,11))\n",
        "pontos_de_sangue = random.choice(d10)\n"
      ],
      "metadata": {
        "id": "U-RnzLKBwrOk",
        "cellView": "form"
      },
      "execution_count": 1914,
      "outputs": []
    },
    {
      "cell_type": "markdown",
      "source": [
        "GERAÇÃO"
      ],
      "metadata": {
        "id": "Gajc6rD5JkeA"
      }
    },
    {
      "cell_type": "code",
      "source": [
        "# @title\n",
        "geracao = 13\n",
        "\n",
        "if 'geracao' in antecedentes:\n",
        "  geracao -= antecedentes['geracao']\n"
      ],
      "metadata": {
        "id": "RpWnapAhfinC",
        "cellView": "form"
      },
      "execution_count": 1915,
      "outputs": []
    },
    {
      "cell_type": "markdown",
      "source": [
        "Distribuição de pontos\n"
      ],
      "metadata": {
        "id": "pTDX7yvwX77i"
      }
    },
    {
      "cell_type": "code",
      "source": [
        "# @title\n",
        "custo_disciplinas = -7\n",
        "custo_atributos = -5\n",
        "custo_habilidades = -2\n",
        "custo_virtudes = -2\n",
        "custo_antecedentes = -1\n",
        "custo_humanidade = -1\n",
        "custo_forca_de_vontade = -1\n"
      ],
      "metadata": {
        "id": "yq4rigJLp7W5",
        "cellView": "form"
      },
      "execution_count": 1916,
      "outputs": []
    },
    {
      "cell_type": "code",
      "source": [
        "# @title\n",
        "#recuperar pontos gastos em atributos,habilidades\n",
        "pontos_preset_atributos = sum(atributos['fisicos'].values())-3,sum(atributos['sociais'].values())-3,sum(atributos['mentais'].values())-3\n"
      ],
      "metadata": {
        "id": "0zWBMcEXY1Us",
        "cellView": "form"
      },
      "execution_count": 1917,
      "outputs": []
    },
    {
      "cell_type": "code",
      "source": [
        "# @title\n",
        "if (sum(atributos['fisicos'].values())-3 >= 4 and sum(atributos['sociais'].values())-3 >= 4) or (sum(atributos['fisicos'].values())-3 >= 4  and sum(atributos['mentais'].values())-3 >= 4) or (sum(atributos['sociais'].values())-3 >= 4 and sum(atributos['mentais'].values())-3 >= 4):\n",
        "  pontos_extras += custo_atributos\n"
      ],
      "metadata": {
        "id": "q2YH8nN_YNLw",
        "cellView": "form"
      },
      "execution_count": 1918,
      "outputs": []
    },
    {
      "cell_type": "code",
      "source": [
        "# @title\n",
        "pontos_atributos = [7,5,3] # pontos para atributos"
      ],
      "metadata": {
        "id": "30AnUE2AcX5G",
        "cellView": "form"
      },
      "execution_count": 1919,
      "outputs": []
    },
    {
      "cell_type": "code",
      "source": [
        "# @title\n",
        "# Define a função para distribuir pontos de atributos\n",
        "def distribuir_pontos_atributos():\n",
        "    \"\"\"\n",
        "    Distribui pontos de atributos aleatoriamente para um personagem,\n",
        "    considerando limites e regras específicas.\n",
        "    \"\"\"\n",
        "    global atributos, pontos_preset_atributos  # Acessa variáveis globais\n",
        "\n",
        "    # Cria uma lista com as categorias de atributos (físicos, sociais, mentais)\n",
        "    categorias_disponiveis = list(atributos.keys())\n",
        "\n",
        "    # Embaralha a ordem dos pontos a serem distribuídos ([7, 5, 3])\n",
        "    random.shuffle(pontos_atributos)\n",
        "\n",
        "    # Cria uma cópia da lista de pontos para evitar modificá-la diretamente\n",
        "    pontos_atributos_copia = pontos_atributos.copy()\n",
        "\n",
        "    # Itera pelas 3 categorias de atributos (físicos, sociais, mentais)\n",
        "    for i in range(3):\n",
        "        # Define a quantidade de pontos para a categoria atual\n",
        "        ponto = pontos_atributos_copia[i]\n",
        "\n",
        "        # Subtrai os pontos já gastos na categoria\n",
        "        ponto -= pontos_preset_atributos[i]\n",
        "\n",
        "        # Se não há mais pontos para distribuir na categoria, pula para a próxima\n",
        "        if ponto <= 0:\n",
        "            continue\n",
        "\n",
        "        # Define a categoria de atributo atual (físicos, sociais ou mentais)\n",
        "        categoria_escolhida = list(atributos.keys())[i]\n",
        "\n",
        "        # Distribui pontos na categoria enquanto houver pontos disponíveis\n",
        "        while ponto > 0:\n",
        "            # Cria uma lista de atributos disponíveis para receber pontos\n",
        "            # (valor menor que 5 e respeitando a regra do Nosferatu)\n",
        "            atributos_disponiveis = [\n",
        "                atributo for atributo, valor in atributos[categoria_escolhida].items()\n",
        "                if valor < 5 and (cla != 'Nosferatu' or atributo != 'aparencia')\n",
        "            ]\n",
        "\n",
        "            # Se não houver mais atributos disponíveis na categoria, sai do loop\n",
        "            if not atributos_disponiveis:\n",
        "                break\n",
        "\n",
        "            # Escolhe aleatoriamente um atributo da lista de atributos disponíveis\n",
        "            atributo_escolhido = random.choice(atributos_disponiveis)\n",
        "\n",
        "            # Adiciona 1 ponto ao atributo escolhido\n",
        "            atributos[categoria_escolhida][atributo_escolhido] += 1\n",
        "\n",
        "            # Diminui 1 da quantidade de pontos disponíveis para a categoria\n",
        "            ponto -= 1"
      ],
      "metadata": {
        "id": "et0zuZGKmMCn",
        "cellView": "form"
      },
      "execution_count": 1920,
      "outputs": []
    },
    {
      "cell_type": "code",
      "source": [
        "# @title\n",
        "distribuir_pontos_atributos()"
      ],
      "metadata": {
        "cellView": "form",
        "id": "MtUu3YA_Sg1P"
      },
      "execution_count": 1921,
      "outputs": []
    },
    {
      "cell_type": "code",
      "source": [
        "# @title\n",
        "pontos_habilidades = [13,9,5] #pontos para habilidades\n"
      ],
      "metadata": {
        "id": "LU72S5kPgFoi",
        "cellView": "form"
      },
      "execution_count": 1922,
      "outputs": []
    },
    {
      "cell_type": "code",
      "source": [
        "# @title\n",
        "pontos_preset_habilidades = sum(habilidades['talentos'].values()),sum(habilidades['pericias'].values()),sum(habilidades['conhecimento'].values())\n"
      ],
      "metadata": {
        "id": "mBgF4ELTgPtu",
        "cellView": "form"
      },
      "execution_count": 1923,
      "outputs": []
    },
    {
      "cell_type": "code",
      "source": [
        "# @title\n",
        "def distribuir_pontos_habilidades():\n",
        "    \"\"\"\n",
        "    Distribui pontos de habilidades aleatoriamente para um personagem,\n",
        "    considerando limites e regras específicas.\n",
        "    \"\"\"\n",
        "    global habilidades, pontos_preset_habilidades  # Acessa variáveis globais\n",
        "\n",
        "    categorias_disponiveis = list(habilidades.keys())  # Cria uma lista com as categorias de habilidades\n",
        "\n",
        "    random.shuffle(pontos_habilidades)  # Embaralha a ordem dos pontos a serem distribuídos\n",
        "\n",
        "    pontos_habilidades_copia = pontos_habilidades.copy()\n",
        "\n",
        "    for i in range(3):\n",
        "        ponto = pontos_habilidades_copia[i]\n",
        "        ponto -= pontos_preset_habilidades[i]\n",
        "\n",
        "        if ponto <= 0:\n",
        "            continue\n",
        "\n",
        "        categoria_escolhida = list(habilidades.keys())[i]\n",
        "\n",
        "        while ponto > 0:\n",
        "            habilidades_disponiveis = [\n",
        "                habilidade for habilidade, valor in habilidades[categoria_escolhida].items()\n",
        "                if valor < 5\n",
        "            ]\n",
        "\n",
        "            if not habilidades_disponiveis:\n",
        "                break\n",
        "\n",
        "            habilidade_escolhida = random.choice(habilidades_disponiveis)\n",
        "            habilidades[categoria_escolhida][habilidade_escolhida] += 1\n",
        "            ponto -= 1"
      ],
      "metadata": {
        "cellView": "form",
        "id": "J1Sc8NUkx_7S"
      },
      "execution_count": 1924,
      "outputs": []
    },
    {
      "cell_type": "code",
      "source": [
        "# @title\n",
        "\n",
        "distribuir_pontos_habilidades()\n",
        "habilidades = {tipo: {hab: pont for hab, pont in hab_dict.items() if pont != 0}\n",
        "              for tipo, hab_dict in habilidades.items()}\n"
      ],
      "metadata": {
        "id": "rRh-H140y8dX",
        "cellView": "form"
      },
      "execution_count": 1925,
      "outputs": []
    },
    {
      "cell_type": "code",
      "source": [
        "# @title\n",
        "def gerar_ficha():\n",
        "  vampiro = Vampiro(nome, geracao, cla, atributos, habilidades, vantagens, qed, \"Humanidade\", forca_de_vontade, pontos_de_sangue)\n",
        "\n",
        "  input('Enter para finalizar')\n",
        "  vampiro.ficha()"
      ],
      "metadata": {
        "id": "T1Bgwewq3rrx",
        "cellView": "form"
      },
      "execution_count": 1926,
      "outputs": []
    },
    {
      "cell_type": "markdown",
      "source": [
        "# FICHA"
      ],
      "metadata": {
        "id": "H4s8DWEHDHx4"
      }
    },
    {
      "cell_type": "code",
      "source": [
        "gerar_ficha()"
      ],
      "metadata": {
        "colab": {
          "base_uri": "https://localhost:8080/"
        },
        "id": "KIGpXE5DFb2A",
        "outputId": "5d398231-6607-4d70-f4a3-b7768ed0180c"
      },
      "execution_count": 1927,
      "outputs": [
        {
          "output_type": "stream",
          "name": "stdout",
          "text": [
            "Enter para finalizar\n",
            "\n",
            "Indigente, Brujah, 12ª geração,\n",
            "Atributos:\n",
            "  Físicos: {'forca': 2, 'destreza': 3, 'vigor': 1}\n",
            "  Sociais: {'carisma': 4, 'manipulacao': 2, 'aparencia': 2}\n",
            "  Mentais: {'percepcao': 3, 'inteligencia': 3, 'raciocinio': 4}\n",
            "Habilidades:\n",
            "  Talentos: {'esportes': 2, 'briga': 1, 'empatia': 1, 'intimidacao': 1, 'labia': 1}\n",
            "  Perícias: {'animais': 2, 'conducao': 2, 'armas_de_fogo': 2, 'armas_brancas': 2, 'performance': 2, 'seguranca': 2, 'furtividade': 1}\n",
            "  Conhecimentos: {'financas': 1, 'investigacao': 1, 'linguistica': 1, 'medicina': 2, 'politica': 1, 'ciencia': 3}\n",
            "Vantagens:\n",
            "  Antecedentes: {'geracao': 1, 'influencia': 1, 'mentor': 2, 'lacaios': 1}\n",
            "  Disciplinas: {'Rapidez': 1, 'Potencia': 1, 'Presença': 1}\n",
            "  Virtudes: {'consiencia': 4, 'autocontrole': 3, 'coragem': 4}\n",
            "Qualidades e Defeitos: {'cabeça quente': 2, 'mentor espiritual': -3, 'deficiencia auditiva': 1, 'segredo sombrio': 1, 'habilidade oracular': -3}\n",
            "Humanidade: 7 | Força de Vontade: 4 | Pontos de Sangue: 3\n",
            "\n"
          ]
        }
      ]
    }
  ]
}