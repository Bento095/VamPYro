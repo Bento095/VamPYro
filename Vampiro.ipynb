{
  "nbformat": 4,
  "nbformat_minor": 0,
  "metadata": {
    "colab": {
      "provenance": [],
      "authorship_tag": "ABX9TyP/cubI+j/Vhj8E1KFvUPjW",
      "include_colab_link": true
    },
    "kernelspec": {
      "name": "python3",
      "display_name": "Python 3"
    },
    "language_info": {
      "name": "python"
    }
  },
  "cells": [
    {
      "cell_type": "markdown",
      "metadata": {
        "id": "view-in-github",
        "colab_type": "text"
      },
      "source": [
        "<a href=\"https://colab.research.google.com/github/Bento095/VamPYro/blob/main/Vampiro.ipynb\" target=\"_parent\"><img src=\"https://colab.research.google.com/assets/colab-badge.svg\" alt=\"Open In Colab\"/></a>"
      ]
    },
    {
      "cell_type": "code",
      "source": [
        "import random"
      ],
      "metadata": {
        "id": "uFxXZjepa_PK"
      },
      "execution_count": 1,
      "outputs": []
    },
    {
      "cell_type": "code",
      "source": [
        "lista_cla = {\n",
        "    \"Brujah\":{\"Rapidez\":0,\"Potencia\":0,\"Presença\":0},\n",
        "    \"Gangrel\":{\"Animalismo\":0,\"Metamorfose\":0,\"Fortitude\":0},\n",
        "    \"Malkavian\":{\"Demencia\":0,\"Auspicios\":0,\"Ofuscacao\":0},\n",
        "    \"Nosferatu\":{\"Ofuscacao\":0,\"Potencia\":0,\"Animalismo\":0},\n",
        "    \"Toreador\":{\"Auspicios\":0,\"Rapidez\":0,\"Presença\":0},\n",
        "    \"Tremere\":{\"Auspicios\":0,\"Dominacao\": 0,\"Taumaturgia\": 0},\n",
        "    \"Ventrue\":{\"Dominacao\": 0,\"Fortitude\":0,\"Presença\":0},\n",
        "    \"Tzimisce\":{\"Vicissitude\":0,\"Animalismo\":0,\"Auspicios\":0},\n",
        "    \"Lasombra\":{\"Tenebrosidade\":0,\"Dominacao\": 0,\"Potencia\":0},\n",
        "    \"Giovanni\":{\"Necromancia\": 0,\"Dominacao\": 0,\"Potencia\":0},\n",
        "    \"Assamita\":{\"Quietus\":0,\"Rapidez\":0,\"Ofuscacao\":0},\n",
        "    \"Setita\":{\"Serpentis\":0,\"Ofuscacao\":0,\"Presença\":0},\n",
        "    \"Ravnos\":{\"Quimerismo\":0,\"Animalismo\":0,\"Fortitude\":0},\n",
        "    \"Caitif\":{}\n",
        "}"
      ],
      "metadata": {
        "id": "yNLMuAXRzm6O"
      },
      "execution_count": 2,
      "outputs": []
    },
    {
      "cell_type": "code",
      "source": [
        "#lista_cla[\"Giovanni\"][\"Necromancia\"]"
      ],
      "metadata": {
        "id": "GqaFiAyKZeKi"
      },
      "execution_count": 3,
      "outputs": []
    },
    {
      "cell_type": "code",
      "source": [
        "for disciplina, pontuacao in lista_cla[\"Brujah\"].items():\n",
        "    print(f\"{disciplina}:{pontuacao}\")"
      ],
      "metadata": {
        "colab": {
          "base_uri": "https://localhost:8080/"
        },
        "id": "6my9SoIL370y",
        "outputId": "43daaa61-b9e4-4b2b-da3d-995bd5dedec6"
      },
      "execution_count": 4,
      "outputs": [
        {
          "output_type": "stream",
          "name": "stdout",
          "text": [
            "Rapidez:0\n",
            "Potencia:0\n",
            "Presença:0\n"
          ]
        }
      ]
    },
    {
      "cell_type": "code",
      "source": [
        "lista_disciplinas = {\n",
        "    \"Animalismo\": 0,\n",
        "    \"Auspícios\": 0,\n",
        "    \"Demencia\": 0,\n",
        "    \"Dominacao\": 0,\n",
        "    \"Fortitude\": 0,\n",
        "    \"Metamorfose\": 0,\n",
        "    \"Necromancia\": 0,\n",
        "    \"Ofuscacao\": 0,\n",
        "    \"Potencia\": 0,\n",
        "    \"Presença\": 0,\n",
        "    \"Quietus\": 0,\n",
        "    \"Quimerismo\": 0,\n",
        "    \"Rapidez\": 0,\n",
        "    \"Serpentis\": 0,\n",
        "    \"Taumaturgia\": 0,\n",
        "    \"Tenebrosidade\": 0,\n",
        "    \"Vicissitude\": 0\n",
        "}"
      ],
      "metadata": {
        "id": "Qo-qRhwDjOJh"
      },
      "execution_count": 5,
      "outputs": []
    },
    {
      "cell_type": "code",
      "source": [
        "lista_atributos = {\n",
        "    \"fisicos\": {\n",
        "        \"forca\": 1,\n",
        "        \"destreza\": 1,\n",
        "        \"vigor\": 1},\n",
        "    \"sociais\": {\n",
        "        \"carisma\": 1,\n",
        "        \"manipulacao\": 1,\n",
        "        \"aparencia\": 1},\n",
        "    \"mentais\": {\n",
        "        \"percepcao\": 1,\n",
        "        \"inteligencia\": 1,\n",
        "        \"raciocinio\": 1}\n",
        "}"
      ],
      "metadata": {
        "id": "NfM6lE_Pikpn"
      },
      "execution_count": 6,
      "outputs": []
    },
    {
      "cell_type": "code",
      "source": [
        "for atributo, pontuacao in lista_atributos[\"fisicos\"].items():\n",
        "    print(f\"{atributo}:{pontuacao}\")"
      ],
      "metadata": {
        "colab": {
          "base_uri": "https://localhost:8080/"
        },
        "id": "ry3SaRwvhKg-",
        "outputId": "b845d2a7-c41f-4a41-eeac-2b2ed26e7904"
      },
      "execution_count": 7,
      "outputs": [
        {
          "output_type": "stream",
          "name": "stdout",
          "text": [
            "forca:1\n",
            "destreza:1\n",
            "vigor:1\n"
          ]
        }
      ]
    },
    {
      "cell_type": "code",
      "source": [
        "lista_habilidades = {\n",
        "    \"talentos\": {\n",
        "        'prontidao': 0,\n",
        "        'esportes': 0,\n",
        "        'briga': 0,\n",
        "        'esquiva': 0,\n",
        "        'empatia': 0,\n",
        "        'expressao': 0,\n",
        "        'intimidacao': 0,\n",
        "        'lideranca': 0,\n",
        "        'manha': 0,\n",
        "        'labia': 0},\n",
        "    \"pericias\": {\n",
        "        'animais': 0,\n",
        "        'oficios': 0,\n",
        "        'conducao': 0,\n",
        "        'etiqueta': 0,\n",
        "        'armas_de_fogo': 0,\n",
        "        'armas_brancas': 0,\n",
        "        'performance': 0,\n",
        "        'seguranca': 0,\n",
        "        'furtividade': 0,\n",
        "        'sobrevivencia': 0},\n",
        "    \"conhecimento\": {\n",
        "        'academicos': 0,\n",
        "        'computador': 0,\n",
        "        'financas': 0,\n",
        "        'investigacao': 0,\n",
        "        'direito': 0,\n",
        "        'linguistica': 0,\n",
        "        'medicina': 0,\n",
        "        'ocultismo': 0,\n",
        "        'politica': 0,\n",
        "        'ciencia': 0}\n",
        "}"
      ],
      "metadata": {
        "id": "UQT9twHpfvtU"
      },
      "execution_count": 8,
      "outputs": []
    },
    {
      "cell_type": "code",
      "source": [
        "for habilidade, pontuacao in lista_habilidades[\"talentos\"].items():\n",
        "    print(f\"{habilidade}:{pontuacao}\")"
      ],
      "metadata": {
        "colab": {
          "base_uri": "https://localhost:8080/"
        },
        "id": "wcyI_Bpu4nxk",
        "outputId": "ce46e98a-10c3-4be5-a167-a02218fb22c6"
      },
      "execution_count": 9,
      "outputs": [
        {
          "output_type": "stream",
          "name": "stdout",
          "text": [
            "prontidao:0\n",
            "esportes:0\n",
            "briga:0\n",
            "esquiva:0\n",
            "empatia:0\n",
            "expressao:0\n",
            "intimidacao:0\n",
            "lideranca:0\n",
            "manha:0\n",
            "labia:0\n"
          ]
        }
      ]
    },
    {
      "cell_type": "code",
      "source": [
        "lista_vantagens = {\n",
        "    'antecedentes':{'aliados':0,'contatos':0,'fama':0,'geracao':0,'rebanho':0,'influencia':0,'mentor':0,'recursos':0,'lacaios':0,'status':0},\n",
        "    'disciplinas_com_nivel':{},\n",
        "    'virtudes':{'consiencia':0,'autocontrole':0,'coragem':0}\n",
        "}"
      ],
      "metadata": {
        "id": "QHTdEPZu_2dM"
      },
      "execution_count": 37,
      "outputs": []
    },
    {
      "cell_type": "code",
      "source": [
        "for vantagens, pontuacao in lista_vantagens[\"antecedentes\"].items():\n",
        "    print(f\"{vantagens}:{pontuacao}\")"
      ],
      "metadata": {
        "colab": {
          "base_uri": "https://localhost:8080/"
        },
        "id": "ZnasHlrNDW2S",
        "outputId": "b12580be-7331-4c2a-b2b6-b5a305a9ceff"
      },
      "execution_count": 38,
      "outputs": [
        {
          "output_type": "stream",
          "name": "stdout",
          "text": [
            "aliados:0\n",
            "contatos:0\n",
            "fama:0\n",
            "geracao:0\n",
            "rebanho:0\n",
            "influencia:0\n",
            "mentor:0\n",
            "recursos:0\n",
            "lacaios:0\n",
            "status:0\n"
          ]
        }
      ]
    },
    {
      "cell_type": "code",
      "source": [
        "class Vampiro():\n",
        "  def __init__(self,nome,geracao,cla,atributos,habilidades,vantagens,qualidades_defeitos,trilha,forca_de_vontade,pontos_de_sangue):\n",
        "    self.nome = nome #feito\n",
        "    self.geracao = geracao #feito\n",
        "    self.cla = cla # feito, verificar se nosfratu pra zerar aparencia caso TRUE\n",
        "    self.atributos = atributos #ok por hora, voltar quando implementar a atribuiçao de pontos\n",
        "    self.habilidades = habilidades# ta funcionando\n",
        "    self.vantagens = vantagens #trabalhando em virtudes\n",
        "    self.qualidades_defeitos = qualidades_defeitos\n",
        "    self.trilha = trilha\n",
        "    self.forca_de_vontade = forca_de_vontade\n",
        "    self.pontos_de_sangue = pontos_de_sangue\n",
        "\n",
        "  def ficha(self):\n",
        "    print(f'{self.nome}, de {self.geracao} geração, do cla {self.cla}')"
      ],
      "metadata": {
        "id": "tOFBpkPPPW13"
      },
      "execution_count": 10,
      "outputs": []
    },
    {
      "cell_type": "code",
      "execution_count": 11,
      "metadata": {
        "id": "-d-Z6L6qOwq8"
      },
      "outputs": [],
      "source": [
        "#vampiro = Vampiro()\n",
        "#vampiro.ficha()"
      ]
    },
    {
      "cell_type": "markdown",
      "source": [
        "Nome"
      ],
      "metadata": {
        "id": "aBICNeK_Jhhs"
      }
    },
    {
      "cell_type": "code",
      "source": [
        "nome = input('Seu personagem tem nome? ').title()\n",
        "\n",
        "if nome == \"\":\n",
        "    nome = \"Indigente\"\n",
        "    print(nome)\n",
        "else:\n",
        "    print(nome)"
      ],
      "metadata": {
        "colab": {
          "base_uri": "https://localhost:8080/"
        },
        "id": "3IW2_ekMZmht",
        "outputId": "7ce57490-b392-45ae-f8b7-d9a810adeb8c"
      },
      "execution_count": 12,
      "outputs": [
        {
          "output_type": "stream",
          "name": "stdout",
          "text": [
            "Seu personagem tem nome? polo\n",
            "Polo\n"
          ]
        }
      ]
    },
    {
      "cell_type": "code",
      "source": [
        "nome"
      ],
      "metadata": {
        "colab": {
          "base_uri": "https://localhost:8080/",
          "height": 35
        },
        "id": "EJ80UXJXLbMG",
        "outputId": "acd19e40-5227-490f-d77a-9a20b7aa01de"
      },
      "execution_count": 13,
      "outputs": [
        {
          "output_type": "execute_result",
          "data": {
            "text/plain": [
              "'Polo'"
            ],
            "application/vnd.google.colaboratory.intrinsic+json": {
              "type": "string"
            }
          },
          "metadata": {},
          "execution_count": 13
        }
      ]
    },
    {
      "cell_type": "markdown",
      "source": [
        "Clã"
      ],
      "metadata": {
        "id": "cC0nmzcMJYnW"
      }
    },
    {
      "cell_type": "code",
      "source": [
        "def escolher_cla():\n",
        "  global cla\n",
        "  cla = input('Seu personagem é de qual cla? ').title()\n",
        "\n",
        "  if cla == \"\":\n",
        "    cla = random.choice(list(lista_cla.keys()))\n",
        "    cla = cla\n",
        "    print(cla)\n",
        "  elif cla in lista_cla:\n",
        "    print(cla)\n",
        "  else:\n",
        "    print('Verifique a lista de clãs')\n",
        "    print(list(lista_cla.keys()))\n",
        "    escolher_cla()\n",
        "\n",
        "escolher_cla()"
      ],
      "metadata": {
        "colab": {
          "base_uri": "https://localhost:8080/"
        },
        "id": "8zIzuNl_iYE1",
        "outputId": "cfdea383-31db-4745-aebb-095e1351b53d"
      },
      "execution_count": 14,
      "outputs": [
        {
          "output_type": "stream",
          "name": "stdout",
          "text": [
            "Seu personagem é de qual cla? 5\n",
            "Verifique a lista de clãs\n",
            "['Brujah', 'Gangrel', 'Malkavian', 'Nosferatu', 'Toreador', 'Tremere', 'Ventrue', 'Tzimisce', 'Lasombra', 'Giovanni', 'Assamita', 'Setita', 'Ravnos', 'Caitif']\n",
            "Seu personagem é de qual cla? \n",
            "Nosferatu\n"
          ]
        }
      ]
    },
    {
      "cell_type": "code",
      "source": [
        "#print(list(lista_cla.keys()))"
      ],
      "metadata": {
        "id": "AmkgY4_cE6Uc"
      },
      "execution_count": 15,
      "outputs": []
    },
    {
      "cell_type": "code",
      "source": [
        "cla"
      ],
      "metadata": {
        "colab": {
          "base_uri": "https://localhost:8080/",
          "height": 35
        },
        "id": "xVOYsNNFF-G6",
        "outputId": "a4ea4e54-a716-48e1-92ca-393223d7569e"
      },
      "execution_count": 16,
      "outputs": [
        {
          "output_type": "execute_result",
          "data": {
            "text/plain": [
              "'Nosferatu'"
            ],
            "application/vnd.google.colaboratory.intrinsic+json": {
              "type": "string"
            }
          },
          "metadata": {},
          "execution_count": 16
        }
      ]
    },
    {
      "cell_type": "code",
      "source": [
        "global disciplinas_caitif"
      ],
      "metadata": {
        "id": "ZKgsh_CTdm_-"
      },
      "execution_count": 17,
      "outputs": []
    },
    {
      "cell_type": "code",
      "source": [
        "if cla == \"Caitif\":\n",
        "  while len(lista_cla['Caitif']) < 3: # checa se 'Caitif' tem ao menos 3 disciplines\n",
        "    disciplina = random.choice(list(lista_disciplinas.keys())) # escolhe disciplinas aleatorias\n",
        "    lista_cla['Caitif'][disciplina] = int(0) # define o nivel como 0\n",
        "  print(lista_cla['Caitif'])\n",
        "  disciplinas_caitif = lista_cla['Caitif'].copy()# Cria uma cópia do dicionário\n",
        "  (lista_cla['Caitif']).clear()\n",
        "  disciplinas = disciplinas_caitif\n",
        "else:\n",
        "  disciplinas = lista_cla[cla]"
      ],
      "metadata": {
        "id": "yywehftHXLkD"
      },
      "execution_count": 18,
      "outputs": []
    },
    {
      "cell_type": "code",
      "source": [
        "#disciplinas_caitif"
      ],
      "metadata": {
        "id": "F5BGtte7ed7S"
      },
      "execution_count": 19,
      "outputs": []
    },
    {
      "cell_type": "code",
      "source": [
        "disciplinas"
      ],
      "metadata": {
        "colab": {
          "base_uri": "https://localhost:8080/"
        },
        "id": "_MeUC4kpijDm",
        "outputId": "57debf77-9542-4b1e-90d6-82fb154c3083"
      },
      "execution_count": 20,
      "outputs": [
        {
          "output_type": "execute_result",
          "data": {
            "text/plain": [
              "{'Ofuscacao': 0, 'Potencia': 0, 'Animalismo': 0}"
            ]
          },
          "metadata": {},
          "execution_count": 20
        }
      ]
    },
    {
      "cell_type": "markdown",
      "source": [
        "Geração"
      ],
      "metadata": {
        "id": "Gajc6rD5JkeA"
      }
    },
    {
      "cell_type": "code",
      "source": [
        "def escolher_geracao():\n",
        "  global geracao #declara a geração globalmente\n",
        "  while True: #loop ate um input valido\n",
        "    try:\n",
        "      geracao_input = input('Seu personagem é de qual geração? ')\n",
        "      if geracao_input == \"\":\n",
        "        geracao = random.randint(8,13)\n",
        "        print(geracao)\n",
        "        break #sai do loop apos sortear uma geração no range\n",
        "      geracao = int(geracao_input) #tenta converter o input pra inteiro\n",
        "      if 8 <= geracao <= 13:\n",
        "        print(geracao)\n",
        "        break #sai do loop apos receber um input valido\n",
        "      else:\n",
        "        print('A geração deve ser um número entre 8 e 13')\n",
        "    except ValueError:\n",
        "      print('Entrada inválida. Por favor, digite um número inteiro.')\n",
        "\n",
        "escolher_geracao()"
      ],
      "metadata": {
        "colab": {
          "base_uri": "https://localhost:8080/"
        },
        "id": "RpWnapAhfinC",
        "outputId": "c31a27dc-1e79-4541-8334-367ec1f05391"
      },
      "execution_count": 21,
      "outputs": [
        {
          "output_type": "stream",
          "name": "stdout",
          "text": [
            "Seu personagem é de qual geração? \n",
            "9\n"
          ]
        }
      ]
    },
    {
      "cell_type": "code",
      "source": [
        "geracao"
      ],
      "metadata": {
        "colab": {
          "base_uri": "https://localhost:8080/"
        },
        "id": "PVmR4QHaVupG",
        "outputId": "f8c652fb-1407-4005-8563-44947cd89e55"
      },
      "execution_count": 22,
      "outputs": [
        {
          "output_type": "execute_result",
          "data": {
            "text/plain": [
              "9"
            ]
          },
          "metadata": {},
          "execution_count": 22
        }
      ]
    },
    {
      "cell_type": "markdown",
      "source": [
        "Atributos"
      ],
      "metadata": {
        "id": "KcXBcBtdkrAh"
      }
    },
    {
      "cell_type": "code",
      "source": [
        "pontos_atributos = [7,5,3]"
      ],
      "metadata": {
        "id": "vBQ6BKJvlpQ8"
      },
      "execution_count": 23,
      "outputs": []
    },
    {
      "cell_type": "markdown",
      "source": [
        "relaçao de atributos para uso das disciplinas, ao gerar ficha a consulta de atributos vai se basear nessa preseleção"
      ],
      "metadata": {
        "id": "RbLCtRMXDJq1"
      }
    },
    {
      "cell_type": "code",
      "source": [
        "testes_disciplinas = {\n",
        "    'Animalismo':{'manipulacao','carisma','animais','sobrevivencia','intimidacao'},#autocontrole\n",
        "    'Auspicios':{'percepcao','empatia','inteligencia','labia','ocultismo'},#força de vontade\n",
        "    'Demencia':{'carisma','empatia','manipulacao','labia','percepcao','ocultismo','intimidacao'},#pontos de sangue\n",
        "    'Dominacao':{'manipulacao','intimidacao','lideranca','raciocinio','labia','carisma'},#força de vontade\n",
        "    'Fortitude':{'vigor'},\n",
        "    'Metamorfose':{'forca'},\n",
        "    'Necromancia':{'percepcao','ocultismo','manipulacao','vigor','empatia','destreza','raciocinio','prontidao','inteligencia'},#Força de Vontade\n",
        "    'Ofuscacao':{'raciocinio','furtividade','manipulacao','performance','carisma'},\n",
        "    'Potencia':{'forca','destreza','esportes','briga'},\n",
        "    'Presença':{'carisma','performance','intimidacao','aparencia','empatia','labia'},#força de vontade\n",
        "    'Quietus':{'vigor','esportes','forca'},#pontos de sangue\n",
        "    'Quimerismo':{'manipulacao','labia'},#força de vontade\n",
        "    'Rapidez':{'destreza'},\n",
        "    'Serpentis':{'forca','vigor'},\n",
        "    'Taumaturgia':{'oficios','ciencia','vigor','esportes','raciocinio','sobrevivencia'},\n",
        "    'Tenebrosidade':{'furtividade','manipulacao','ocultismo','vigor'},\n",
        "    'Vicissitude':{'inteligencia','medicina','percepcao','destreza','forca','vigor'}\n",
        "}"
      ],
      "metadata": {
        "id": "fmQCigCgniAb"
      },
      "execution_count": 24,
      "outputs": []
    },
    {
      "cell_type": "code",
      "source": [
        "disciplinas"
      ],
      "metadata": {
        "colab": {
          "base_uri": "https://localhost:8080/"
        },
        "id": "GC2QmYNffgtb",
        "outputId": "b39aa525-a30e-4931-a54e-e9ceae5b72db"
      },
      "execution_count": 25,
      "outputs": [
        {
          "output_type": "execute_result",
          "data": {
            "text/plain": [
              "{'Ofuscacao': 0, 'Potencia': 0, 'Animalismo': 0}"
            ]
          },
          "metadata": {},
          "execution_count": 25
        }
      ]
    },
    {
      "cell_type": "code",
      "source": [
        "testes = []\n",
        "\n",
        "for item in disciplinas:\n",
        "  if item in testes_disciplinas:\n",
        "    testes.append(testes_disciplinas[item])\n",
        "    print(testes_disciplinas[item])"
      ],
      "metadata": {
        "colab": {
          "base_uri": "https://localhost:8080/"
        },
        "id": "gwdn3JHJeXpZ",
        "outputId": "afec6084-5051-4812-cfbb-7b922e872458"
      },
      "execution_count": 26,
      "outputs": [
        {
          "output_type": "stream",
          "name": "stdout",
          "text": [
            "{'manipulacao', 'performance', 'carisma', 'raciocinio', 'furtividade'}\n",
            "{'destreza', 'forca', 'esportes', 'briga'}\n",
            "{'manipulacao', 'carisma', 'animais', 'intimidacao', 'sobrevivencia'}\n"
          ]
        }
      ]
    },
    {
      "cell_type": "code",
      "source": [
        "testes"
      ],
      "metadata": {
        "colab": {
          "base_uri": "https://localhost:8080/"
        },
        "id": "WJD-UrfwigV9",
        "outputId": "9f9465d8-1609-4953-f94e-b8721dea546a"
      },
      "execution_count": 27,
      "outputs": [
        {
          "output_type": "execute_result",
          "data": {
            "text/plain": [
              "[{'carisma', 'furtividade', 'manipulacao', 'performance', 'raciocinio'},\n",
              " {'briga', 'destreza', 'esportes', 'forca'},\n",
              " {'animais', 'carisma', 'intimidacao', 'manipulacao', 'sobrevivencia'}]"
            ]
          },
          "metadata": {},
          "execution_count": 27
        }
      ]
    },
    {
      "cell_type": "code",
      "source": [
        "atributos = []\n",
        "habilidades = []"
      ],
      "metadata": {
        "id": "28pcP0Onir9X"
      },
      "execution_count": 40,
      "outputs": []
    },
    {
      "cell_type": "code",
      "source": [
        "atributos.clear()\n",
        "habilidades.clear()\n",
        "\n",
        "for itens_teste in testes:\n",
        "  atributos.extend(list(filter(lambda x: x in [a for b in lista_atributos.values() for a in b], itens_teste)))\n",
        "  habilidades.extend(list(filter(lambda x: x in [a for b in lista_habilidades.values() for a in b], itens_teste)))\n",
        "\n",
        "print(\"Atributos:\", atributos)\n",
        "print(\"Habilidades:\", habilidades)\n"
      ],
      "metadata": {
        "colab": {
          "base_uri": "https://localhost:8080/"
        },
        "id": "YmxrhddK0oKe",
        "outputId": "c7ac1dd9-f362-41f7-8c2b-8078c538b085"
      },
      "execution_count": 41,
      "outputs": [
        {
          "output_type": "stream",
          "name": "stdout",
          "text": [
            "Atributos: ['manipulacao', 'carisma', 'raciocinio', 'destreza', 'forca', 'manipulacao', 'carisma']\n",
            "Habilidades: ['performance', 'furtividade', 'esportes', 'briga', 'animais', 'intimidacao', 'sobrevivencia']\n"
          ]
        }
      ]
    },
    {
      "cell_type": "markdown",
      "source": [
        "Apartir dessas listas de **atributos** e **habilidades** serão sorteados os pontos a serem distribuidos"
      ],
      "metadata": {
        "id": "deS2lkhRA9pu"
      }
    },
    {
      "cell_type": "code",
      "source": [
        "antecedentes = []\n",
        "disciplinas_com_nivel = []\n",
        "virtudes = []"
      ],
      "metadata": {
        "id": "W5ru7vYdEQuZ"
      },
      "execution_count": 42,
      "outputs": []
    },
    {
      "cell_type": "code",
      "source": [
        "antecedentes.clear()\n",
        "while len(antecedentes) < 5:\n",
        "  antecedente = random.choice(list(lista_vantagens[\"antecedentes\"].items()))\n",
        "  antecedentes.append(antecedente)"
      ],
      "metadata": {
        "id": "ezRXY-2hFD9x"
      },
      "execution_count": 73,
      "outputs": []
    },
    {
      "cell_type": "code",
      "source": [
        "antecedentes"
      ],
      "metadata": {
        "colab": {
          "base_uri": "https://localhost:8080/"
        },
        "id": "RaGiWL7mHbUh",
        "outputId": "fe960130-ed80-4c9b-d43c-1fdee492f894"
      },
      "execution_count": 74,
      "outputs": [
        {
          "output_type": "execute_result",
          "data": {
            "text/plain": [
              "[('mentor', 0),\n",
              " ('influencia', 0),\n",
              " ('lacaios', 0),\n",
              " ('contatos', 0),\n",
              " ('aliados', 0)]"
            ]
          },
          "metadata": {},
          "execution_count": 74
        }
      ]
    },
    {
      "cell_type": "code",
      "source": [
        "'''virtudes = []\n",
        "virtudes.clear()\n",
        "while len(virtudes) < 8:\n",
        "  virtude = random.choice(list(lista_vantagens[\"virtudes\"].items()))\n",
        "  se virtude nao estiver in virtudes:\n",
        "  virtudes.append(virtude)'''\n",
        "\n",
        "\n",
        "  #virtudes.append(virtude)\n",
        "\n",
        "  #trabalhando nessa celula"
      ],
      "metadata": {
        "colab": {
          "base_uri": "https://localhost:8080/",
          "height": 106
        },
        "id": "wcyS8sJXN7Lh",
        "outputId": "601c0ca6-c7df-4b5c-f5df-c5bdf12b44cf"
      },
      "execution_count": 81,
      "outputs": [
        {
          "output_type": "error",
          "ename": "SyntaxError",
          "evalue": "invalid syntax (<ipython-input-81-e738f41880c1>, line 5)",
          "traceback": [
            "\u001b[0;36m  File \u001b[0;32m\"<ipython-input-81-e738f41880c1>\"\u001b[0;36m, line \u001b[0;32m5\u001b[0m\n\u001b[0;31m    se virtude na estiver in virtudes:\u001b[0m\n\u001b[0m       ^\u001b[0m\n\u001b[0;31mSyntaxError\u001b[0m\u001b[0;31m:\u001b[0m invalid syntax\n"
          ]
        }
      ]
    },
    {
      "cell_type": "code",
      "source": [
        "virtudes"
      ],
      "metadata": {
        "colab": {
          "base_uri": "https://localhost:8080/"
        },
        "id": "6V9ITW7sOTBN",
        "outputId": "35842f28-549c-492b-8536-baae288a93d5"
      },
      "execution_count": 80,
      "outputs": [
        {
          "output_type": "execute_result",
          "data": {
            "text/plain": [
              "[('coragem', 0),\n",
              " ('autocontrole', 0),\n",
              " ('consiencia', 0),\n",
              " ('autocontrole', 0),\n",
              " ('autocontrole', 0),\n",
              " ('consiencia', 0),\n",
              " ('autocontrole', 0),\n",
              " ('autocontrole', 0)]"
            ]
          },
          "metadata": {},
          "execution_count": 80
        }
      ]
    },
    {
      "cell_type": "code",
      "source": [
        "for vantagens, pontuacao in lista_vantagens[\"virtudes\"].items():\n",
        "    print(f\"{vantagens}:{pontuacao}\")"
      ],
      "metadata": {
        "colab": {
          "base_uri": "https://localhost:8080/"
        },
        "id": "3mhhYMCLF2z0",
        "outputId": "96e4cc8f-b8a4-492b-916b-0015f40a0fbe"
      },
      "execution_count": 76,
      "outputs": [
        {
          "output_type": "stream",
          "name": "stdout",
          "text": [
            "consiencia:0\n",
            "autocontrole:0\n",
            "coragem:0\n"
          ]
        }
      ]
    },
    {
      "cell_type": "code",
      "source": [
        "lista_vantagens"
      ],
      "metadata": {
        "colab": {
          "base_uri": "https://localhost:8080/"
        },
        "id": "-RmPrnSJEJ9t",
        "outputId": "be616e0d-48fd-41e7-e932-790b45c12513"
      },
      "execution_count": 39,
      "outputs": [
        {
          "output_type": "execute_result",
          "data": {
            "text/plain": [
              "{'antecedentes': {'aliados': 0,\n",
              "  'contatos': 0,\n",
              "  'fama': 0,\n",
              "  'geracao': 0,\n",
              "  'rebanho': 0,\n",
              "  'influencia': 0,\n",
              "  'mentor': 0,\n",
              "  'recursos': 0,\n",
              "  'lacaios': 0,\n",
              "  'status': 0},\n",
              " 'disciplinas_com_nivel': {},\n",
              " 'virtudes': {'consiencia': 0, 'autocontrole': 0, 'coragem': 0}}"
            ]
          },
          "metadata": {},
          "execution_count": 39
        }
      ]
    },
    {
      "cell_type": "code",
      "source": [
        "print(nome,cla,geracao,\"geração,\",'\\natributos',atributos, '\\nhabilidades', habilidades, '\\nantecedentes', antecedentes, \"\\ndisciplinas\", disciplinas)"
      ],
      "metadata": {
        "colab": {
          "base_uri": "https://localhost:8080/"
        },
        "id": "BxHXoMu5WLUM",
        "outputId": "3062152c-5815-452f-f8a2-b40fa27a0349"
      },
      "execution_count": 75,
      "outputs": [
        {
          "output_type": "stream",
          "name": "stdout",
          "text": [
            "Polo Nosferatu 9 geração, \n",
            "atributos ['manipulacao', 'carisma', 'raciocinio', 'destreza', 'forca', 'manipulacao', 'carisma'] \n",
            "habilidades ['performance', 'furtividade', 'esportes', 'briga', 'animais', 'intimidacao', 'sobrevivencia'] \n",
            "antecedentes [('mentor', 0), ('influencia', 0), ('lacaios', 0), ('contatos', 0), ('aliados', 0)] \n",
            "disciplinas {'Ofuscacao': 0, 'Potencia': 0, 'Animalismo': 0}\n"
          ]
        }
      ]
    }
  ]
}