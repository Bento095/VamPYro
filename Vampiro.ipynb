{
  "nbformat": 4,
  "nbformat_minor": 0,
  "metadata": {
    "colab": {
      "provenance": [],
      "authorship_tag": "ABX9TyOwpiP0WX7BNGqYuV3mn3tT",
      "include_colab_link": true
    },
    "kernelspec": {
      "name": "python3",
      "display_name": "Python 3"
    },
    "language_info": {
      "name": "python"
    }
  },
  "cells": [
    {
      "cell_type": "markdown",
      "metadata": {
        "id": "view-in-github",
        "colab_type": "text"
      },
      "source": [
        "<a href=\"https://colab.research.google.com/github/Bento095/VamPYro/blob/main/Vampiro.ipynb\" target=\"_parent\"><img src=\"https://colab.research.google.com/assets/colab-badge.svg\" alt=\"Open In Colab\"/></a>"
      ]
    },
    {
      "cell_type": "code",
      "source": [
        "import random"
      ],
      "metadata": {
        "id": "uFxXZjepa_PK"
      },
      "execution_count": 450,
      "outputs": []
    },
    {
      "cell_type": "code",
      "source": [
        "lista_cla = {\n",
        "    \"Brujah\":{\"Rapidez\":0,\"Potencia\":0,\"Presença\":0},\n",
        "    \"Gangrel\":{\"Animalismo\":0,\"Metamorfose\":0,\"Fortitude\":0},\n",
        "    \"Malkavian\":{\"Demencia\":0,\"Auspicios\":0,\"Ofuscacao\":0},\n",
        "    \"Nosferatu\":{\"Ofuscacao\":0,\"Potencia\":0,\"Animalismo\":0},\n",
        "    \"Toreador\":{\"Auspicios\":0,\"Rapidez\":0,\"Presença\":0},\n",
        "    \"Tremere\":{\"Auspicios\":0,\"Dominacao\": 0,\"Taumaturgia\": 0},\n",
        "    \"Ventrue\":{\"Dominacao\": 0,\"Fortitude\":0,\"Presença\":0},\n",
        "    \"Tzimisce\":{\"Vicissitude\":0,\"Animalismo\":0,\"Auspicios\":0},\n",
        "    \"Lasombra\":{\"Tenebrosidade\":0,\"Dominacao\": 0,\"Potencia\":0},\n",
        "    \"Giovanni\":{\"Necromancia\": 0,\"Dominacao\": 0,\"Potencia\":0},\n",
        "    \"Assamita\":{\"Quietus\":0,\"Rapidez\":0,\"Ofuscacao\":0},\n",
        "    \"Setita\":{\"Serpentis\":0,\"Ofuscacao\":0,\"Presença\":0},\n",
        "    \"Ravnos\":{\"Quimerismo\":0,\"Animalismo\":0,\"Fortitude\":0},\n",
        "    \"Caitif\":{}\n",
        "}"
      ],
      "metadata": {
        "id": "yNLMuAXRzm6O"
      },
      "execution_count": 451,
      "outputs": []
    },
    {
      "cell_type": "code",
      "source": [
        "#lista_cla[\"Giovanni\"][\"Necromancia\"]"
      ],
      "metadata": {
        "id": "GqaFiAyKZeKi"
      },
      "execution_count": 452,
      "outputs": []
    },
    {
      "cell_type": "code",
      "source": [
        "for disciplina, pontuacao in lista_cla[\"Brujah\"].items():\n",
        "    print(f\"{disciplina}:{pontuacao}\")"
      ],
      "metadata": {
        "colab": {
          "base_uri": "https://localhost:8080/"
        },
        "id": "6my9SoIL370y",
        "outputId": "2703b06b-8873-448d-e166-22108503a469"
      },
      "execution_count": 453,
      "outputs": [
        {
          "output_type": "stream",
          "name": "stdout",
          "text": [
            "Rapidez:0\n",
            "Potencia:0\n",
            "Presença:0\n"
          ]
        }
      ]
    },
    {
      "cell_type": "code",
      "source": [
        "lista_disciplinas = {\n",
        "    \"Animalismo\": 0,\n",
        "    \"Auspícios\": 0,\n",
        "    \"Demencia\": 0,\n",
        "    \"Dominacao\": 0,\n",
        "    \"Fortitude\": 0,\n",
        "    \"Metamorfose\": 0,\n",
        "    \"Necromancia\": 0,\n",
        "    \"Ofuscacao\": 0,\n",
        "    \"Potencia\": 0,\n",
        "    \"Presença\": 0,\n",
        "    \"Quietus\": 0,\n",
        "    \"Quimerismo\": 0,\n",
        "    \"Rapidez\": 0,\n",
        "    \"Serpentis\": 0,\n",
        "    \"Taumaturgia\": 0,\n",
        "    \"Tenebrosidade\": 0,\n",
        "    \"Vicissitude\": 0\n",
        "}"
      ],
      "metadata": {
        "id": "Qo-qRhwDjOJh"
      },
      "execution_count": 454,
      "outputs": []
    },
    {
      "cell_type": "code",
      "source": [
        "lista_atributos = {\n",
        "    \"fisicos\": {\n",
        "        \"forca\": 1,\n",
        "        \"destreza\": 1,\n",
        "        \"vigor\": 1},\n",
        "    \"sociais\": {\n",
        "        \"carisma\": 1,\n",
        "        \"manipulacao\": 1,\n",
        "        \"aparencia\": 1},\n",
        "    \"mentais\": {\n",
        "        \"percepcao\": 1,\n",
        "        \"inteligencia\": 1,\n",
        "        \"raciocinio\": 1}\n",
        "}"
      ],
      "metadata": {
        "id": "NfM6lE_Pikpn"
      },
      "execution_count": 455,
      "outputs": []
    },
    {
      "cell_type": "code",
      "source": [
        "for atributo, pontuacao in lista_atributos[\"fisicos\"].items():\n",
        "    print(f\"{atributo}:{pontuacao}\")"
      ],
      "metadata": {
        "colab": {
          "base_uri": "https://localhost:8080/"
        },
        "id": "ry3SaRwvhKg-",
        "outputId": "29321ef4-e20b-434d-edc0-a3c5293bffaf"
      },
      "execution_count": 456,
      "outputs": [
        {
          "output_type": "stream",
          "name": "stdout",
          "text": [
            "forca:1\n",
            "destreza:1\n",
            "vigor:1\n"
          ]
        }
      ]
    },
    {
      "cell_type": "code",
      "source": [
        "lista_habilidades = {\n",
        "    \"talentos\": {\n",
        "        'prontidao': 0,\n",
        "        'esportes': 0,\n",
        "        'briga': 0,\n",
        "        'esquiva': 0,\n",
        "        'empatia': 0,\n",
        "        'expressao': 0,\n",
        "        'intimidacao': 0,\n",
        "        'lideranca': 0,\n",
        "        'manha': 0,\n",
        "        'labia': 0},\n",
        "    \"pericias\": {\n",
        "        'animais': 0,\n",
        "        'oficios': 0,\n",
        "        'conducao': 0,\n",
        "        'etiqueta': 0,\n",
        "        'armas_de_fogo': 0,\n",
        "        'armas_brancas': 0,\n",
        "        'performance': 0,\n",
        "        'seguranca': 0,\n",
        "        'furtividade': 0,\n",
        "        'sobrevivencia': 0},\n",
        "    \"conhecimento\": {\n",
        "        'academicos': 0,\n",
        "        'computador': 0,\n",
        "        'financas': 0,\n",
        "        'investigacao': 0,\n",
        "        'direito': 0,\n",
        "        'linguistica': 0,\n",
        "        'medicina': 0,\n",
        "        'ocultismo': 0,\n",
        "        'politica': 0,\n",
        "        'ciencia': 0}\n",
        "}"
      ],
      "metadata": {
        "id": "UQT9twHpfvtU"
      },
      "execution_count": 457,
      "outputs": []
    },
    {
      "cell_type": "code",
      "source": [
        "for habilidade, pontuacao in lista_habilidades[\"talentos\"].items():\n",
        "    print(f\"{habilidade}:{pontuacao}\")"
      ],
      "metadata": {
        "colab": {
          "base_uri": "https://localhost:8080/"
        },
        "id": "wcyI_Bpu4nxk",
        "outputId": "555255ab-760f-4046-ee46-ab9fef620e8d"
      },
      "execution_count": 458,
      "outputs": [
        {
          "output_type": "stream",
          "name": "stdout",
          "text": [
            "prontidao:0\n",
            "esportes:0\n",
            "briga:0\n",
            "esquiva:0\n",
            "empatia:0\n",
            "expressao:0\n",
            "intimidacao:0\n",
            "lideranca:0\n",
            "manha:0\n",
            "labia:0\n"
          ]
        }
      ]
    },
    {
      "cell_type": "code",
      "source": [
        "class Vampiro():\n",
        "  def __init__(self,nome,geracao,cla,atributos,habilidades,vantagens,qualidades_defeitos,trilha,forca_de_vontade,pontos_de_sangue):\n",
        "    self.nome = nome\n",
        "    self.geracao = geracao\n",
        "    self.cla = cla\n",
        "    self.atributos = atributos\n",
        "    self.habilidades = habilidades# trabalhando nisso\n",
        "    self.vantagens = vantagens\n",
        "    self.qualidades_defeitos = qualidades_defeitos\n",
        "    self.trilha = trilha\n",
        "    self.forca_de_vontade = forca_de_vontade\n",
        "    self.pontos_de_sangue = pontos_de_sangue\n",
        "\n",
        "  def ficha(self):\n",
        "    print(f'{self.nome}, de {self.geracao} geração, do cla {self.cla}')"
      ],
      "metadata": {
        "id": "tOFBpkPPPW13"
      },
      "execution_count": 459,
      "outputs": []
    },
    {
      "cell_type": "code",
      "execution_count": 460,
      "metadata": {
        "id": "-d-Z6L6qOwq8"
      },
      "outputs": [],
      "source": [
        "#vampiro = Vampiro()\n",
        "#vampiro.ficha()"
      ]
    },
    {
      "cell_type": "markdown",
      "source": [
        "Nome"
      ],
      "metadata": {
        "id": "aBICNeK_Jhhs"
      }
    },
    {
      "cell_type": "code",
      "source": [
        "nome = input('Seu personagem tem nome? ').title()\n",
        "\n",
        "if nome == \"\":\n",
        "    nome = \"Indigente\"\n",
        "    print(nome)\n",
        "else:\n",
        "    print(nome)"
      ],
      "metadata": {
        "colab": {
          "base_uri": "https://localhost:8080/"
        },
        "id": "3IW2_ekMZmht",
        "outputId": "555fbcc8-c90f-4f96-dfdb-37c3b207dbdf"
      },
      "execution_count": 461,
      "outputs": [
        {
          "output_type": "stream",
          "name": "stdout",
          "text": [
            "Seu personagem tem nome? salazar\n",
            "Salazar\n"
          ]
        }
      ]
    },
    {
      "cell_type": "code",
      "source": [
        "nome"
      ],
      "metadata": {
        "colab": {
          "base_uri": "https://localhost:8080/",
          "height": 35
        },
        "id": "EJ80UXJXLbMG",
        "outputId": "0b548037-e753-4bea-a098-25beb74aabb0"
      },
      "execution_count": 462,
      "outputs": [
        {
          "output_type": "execute_result",
          "data": {
            "text/plain": [
              "'Salazar'"
            ],
            "application/vnd.google.colaboratory.intrinsic+json": {
              "type": "string"
            }
          },
          "metadata": {},
          "execution_count": 462
        }
      ]
    },
    {
      "cell_type": "markdown",
      "source": [
        "Clã"
      ],
      "metadata": {
        "id": "cC0nmzcMJYnW"
      }
    },
    {
      "cell_type": "code",
      "source": [
        "def escolher_cla():\n",
        "  global cla\n",
        "  cla = input('Seu personagem é de qual cla? ').title()\n",
        "\n",
        "  if cla == \"\":\n",
        "    cla = random.choice(list(lista_cla.keys()))\n",
        "    cla = cla\n",
        "    print(cla)\n",
        "  elif cla in lista_cla:\n",
        "    print(cla)\n",
        "  else:\n",
        "    print('Verifique a lista de clãs')\n",
        "    print(list(lista_cla.keys()))\n",
        "    escolher_cla()\n",
        "\n",
        "escolher_cla()"
      ],
      "metadata": {
        "colab": {
          "base_uri": "https://localhost:8080/"
        },
        "id": "8zIzuNl_iYE1",
        "outputId": "9d727f64-acb0-4f82-b124-f97d930f35ad"
      },
      "execution_count": 463,
      "outputs": [
        {
          "output_type": "stream",
          "name": "stdout",
          "text": [
            "Seu personagem é de qual cla? caitif\n",
            "Caitif\n"
          ]
        }
      ]
    },
    {
      "cell_type": "code",
      "source": [
        "#print(list(lista_cla.keys()))"
      ],
      "metadata": {
        "id": "AmkgY4_cE6Uc"
      },
      "execution_count": 464,
      "outputs": []
    },
    {
      "cell_type": "code",
      "source": [
        "cla"
      ],
      "metadata": {
        "colab": {
          "base_uri": "https://localhost:8080/",
          "height": 35
        },
        "id": "xVOYsNNFF-G6",
        "outputId": "2e9433e4-1659-4429-f4ad-791104c4c614"
      },
      "execution_count": 465,
      "outputs": [
        {
          "output_type": "execute_result",
          "data": {
            "text/plain": [
              "'Caitif'"
            ],
            "application/vnd.google.colaboratory.intrinsic+json": {
              "type": "string"
            }
          },
          "metadata": {},
          "execution_count": 465
        }
      ]
    },
    {
      "cell_type": "code",
      "source": [
        "global disciplinas_caitif"
      ],
      "metadata": {
        "id": "ZKgsh_CTdm_-"
      },
      "execution_count": 466,
      "outputs": []
    },
    {
      "cell_type": "code",
      "source": [
        "if cla == \"Caitif\":\n",
        "  while len(lista_cla['Caitif']) < 3: # checa se 'Caitif' tem ao menos 3 disciplines\n",
        "    disciplina = random.choice(list(lista_disciplinas.keys())) # escolhe disciplinas aleatorias\n",
        "    lista_cla['Caitif'][disciplina] = int(0) # define o nivel como 0\n",
        "  print(lista_cla['Caitif'])\n",
        "  disciplinas_caitif = lista_cla['Caitif'].copy()# Cria uma cópia do dicionário\n",
        "  (lista_cla['Caitif']).clear()\n",
        "  disciplinas = disciplinas_caitif\n",
        "else:\n",
        "  disciplinas = lista_cla[cla]"
      ],
      "metadata": {
        "id": "yywehftHXLkD",
        "colab": {
          "base_uri": "https://localhost:8080/"
        },
        "outputId": "26b15f50-1722-485a-9e8a-7a7b203bfd00"
      },
      "execution_count": 467,
      "outputs": [
        {
          "output_type": "stream",
          "name": "stdout",
          "text": [
            "{'Demencia': 0, 'Animalismo': 0, 'Taumaturgia': 0}\n"
          ]
        }
      ]
    },
    {
      "cell_type": "code",
      "source": [
        "#disciplinas_caitif"
      ],
      "metadata": {
        "id": "F5BGtte7ed7S"
      },
      "execution_count": 468,
      "outputs": []
    },
    {
      "cell_type": "code",
      "source": [
        "disciplinas"
      ],
      "metadata": {
        "colab": {
          "base_uri": "https://localhost:8080/"
        },
        "id": "_MeUC4kpijDm",
        "outputId": "063967bc-db9b-494c-a1ca-a7c74cabe4e5"
      },
      "execution_count": 469,
      "outputs": [
        {
          "output_type": "execute_result",
          "data": {
            "text/plain": [
              "{'Demencia': 0, 'Animalismo': 0, 'Taumaturgia': 0}"
            ]
          },
          "metadata": {},
          "execution_count": 469
        }
      ]
    },
    {
      "cell_type": "markdown",
      "source": [
        "Geração"
      ],
      "metadata": {
        "id": "Gajc6rD5JkeA"
      }
    },
    {
      "cell_type": "code",
      "source": [
        "def escolher_geracao():\n",
        "  global geracao #declara a geração globalmente\n",
        "  while True: #loop ate um input valido\n",
        "    try:\n",
        "      geracao_input = input('Seu personagem é de qual geração? ')\n",
        "      if geracao_input == \"\":\n",
        "        geracao = random.randint(8,13)\n",
        "        print(geracao)\n",
        "        break #sai do loop apos sortear uma geração no range\n",
        "      geracao = int(geracao_input) #tenta converter o input pra inteiro\n",
        "      if 8 <= geracao <= 13:\n",
        "        print(geracao)\n",
        "        break #sai do loop apos receber um input valido\n",
        "      else:\n",
        "        print('A geração deve ser um número entre 8 e 13')\n",
        "    except ValueError:\n",
        "      print('Entrada inválida. Por favor, digite um número inteiro.')\n",
        "\n",
        "escolher_geracao()"
      ],
      "metadata": {
        "colab": {
          "base_uri": "https://localhost:8080/"
        },
        "id": "RpWnapAhfinC",
        "outputId": "d8b60069-0062-4cd0-92a0-bec0044c7aa5"
      },
      "execution_count": 470,
      "outputs": [
        {
          "output_type": "stream",
          "name": "stdout",
          "text": [
            "Seu personagem é de qual geração? 11\n",
            "11\n"
          ]
        }
      ]
    },
    {
      "cell_type": "code",
      "source": [
        "geracao"
      ],
      "metadata": {
        "colab": {
          "base_uri": "https://localhost:8080/"
        },
        "id": "PVmR4QHaVupG",
        "outputId": "47ba1c63-7e42-4e84-fcc8-00425e606dea"
      },
      "execution_count": 471,
      "outputs": [
        {
          "output_type": "execute_result",
          "data": {
            "text/plain": [
              "11"
            ]
          },
          "metadata": {},
          "execution_count": 471
        }
      ]
    },
    {
      "cell_type": "markdown",
      "source": [
        "Atributos"
      ],
      "metadata": {
        "id": "KcXBcBtdkrAh"
      }
    },
    {
      "cell_type": "code",
      "source": [
        "pontos_atributos = [7,5,3]"
      ],
      "metadata": {
        "id": "vBQ6BKJvlpQ8"
      },
      "execution_count": 472,
      "outputs": []
    },
    {
      "cell_type": "markdown",
      "source": [
        "relaçao de atributos para uso das disciplinas, ao gerar ficha a consulta de atributos vai se basear nessa preseleção"
      ],
      "metadata": {
        "id": "RbLCtRMXDJq1"
      }
    },
    {
      "cell_type": "code",
      "source": [
        "testes_disciplinas = {\n",
        "    'Animalismo':{'manipulacao','carisma','animais','sobrevivencia','intimidacao'},#autocontrole\n",
        "    'Auspicios':{'percepcao','empatia','inteligencia','labia','ocultismo'},#força de vontade\n",
        "    'Demencia':{'carisma','empatia','manipulacao','labia','percepcao','ocultismo','intimidacao'},#pontos de sangue\n",
        "    'Dominacao':{'manipulacao','intimidacao','lideranca','raciocinio','labia','carisma'},#força de vontade\n",
        "    'Fortitude':{'vigor'},\n",
        "    'Metamorfose':{'forca'},\n",
        "    'Necromancia':{'percepcao','ocultismo','manipulacao','vigor','empatia','destreza','raciocinio','prontidao','inteligencia'},#Força de Vontade\n",
        "    'Ofuscacao':{'raciocinio','furtividade','manipulacao','performance','carisma'},\n",
        "    'Potencia':{'forca','destreza','esportes','briga'},\n",
        "    'Presença':{'carisma','performance','intimidacao','aparencia','empatia','labia'},#força de vontade\n",
        "    'Quietus':{'vigor','esportes','forca'},#pontos de sangue\n",
        "    'Quimerismo':{'manipulacao','labia'},#força de vontade\n",
        "    'Rapidez':{'destreza'},\n",
        "    'Serpentis':{'forca','vigor'},\n",
        "    'Taumaturgia':{'oficios','ciencia','vigor','esportes','raciocinio','sobrevivencia'},\n",
        "    'Tenebrosidade':{'furtividade','manipulacao','ocultismo','vigor'},\n",
        "    'Vicissitude':{'inteligencia','medicina','percepcao','destreza','forca','vigor'}\n",
        "}"
      ],
      "metadata": {
        "id": "fmQCigCgniAb"
      },
      "execution_count": 473,
      "outputs": []
    },
    {
      "cell_type": "code",
      "source": [
        "disciplinas"
      ],
      "metadata": {
        "colab": {
          "base_uri": "https://localhost:8080/"
        },
        "id": "GC2QmYNffgtb",
        "outputId": "8c90f06c-cc66-4f92-f968-0e6322611e23"
      },
      "execution_count": 474,
      "outputs": [
        {
          "output_type": "execute_result",
          "data": {
            "text/plain": [
              "{'Demencia': 0, 'Animalismo': 0, 'Taumaturgia': 0}"
            ]
          },
          "metadata": {},
          "execution_count": 474
        }
      ]
    },
    {
      "cell_type": "code",
      "source": [
        "testes = []\n",
        "\n",
        "for item in disciplinas:\n",
        "  if item in testes_disciplinas:\n",
        "    testes.append(testes_disciplinas[item])\n",
        "    print(testes_disciplinas[item])"
      ],
      "metadata": {
        "colab": {
          "base_uri": "https://localhost:8080/"
        },
        "id": "gwdn3JHJeXpZ",
        "outputId": "af618415-c59e-4248-9099-966c43bd76da"
      },
      "execution_count": 475,
      "outputs": [
        {
          "output_type": "stream",
          "name": "stdout",
          "text": [
            "{'labia', 'intimidacao', 'ocultismo', 'percepcao', 'empatia', 'manipulacao', 'carisma'}\n",
            "{'animais', 'intimidacao', 'sobrevivencia', 'manipulacao', 'carisma'}\n",
            "{'oficios', 'esportes', 'sobrevivencia', 'ciencia', 'raciocinio', 'vigor'}\n"
          ]
        }
      ]
    },
    {
      "cell_type": "code",
      "source": [
        "testes"
      ],
      "metadata": {
        "colab": {
          "base_uri": "https://localhost:8080/"
        },
        "id": "WJD-UrfwigV9",
        "outputId": "f6292728-98ca-4bc1-cd50-6a13dd5bdf03"
      },
      "execution_count": 476,
      "outputs": [
        {
          "output_type": "execute_result",
          "data": {
            "text/plain": [
              "[{'carisma',\n",
              "  'empatia',\n",
              "  'intimidacao',\n",
              "  'labia',\n",
              "  'manipulacao',\n",
              "  'ocultismo',\n",
              "  'percepcao'},\n",
              " {'animais', 'carisma', 'intimidacao', 'manipulacao', 'sobrevivencia'},\n",
              " {'ciencia', 'esportes', 'oficios', 'raciocinio', 'sobrevivencia', 'vigor'}]"
            ]
          },
          "metadata": {},
          "execution_count": 476
        }
      ]
    },
    {
      "cell_type": "code",
      "source": [
        "atributos = []\n",
        "habilidades = []\n",
        "\n"
      ],
      "metadata": {
        "id": "28pcP0Onir9X"
      },
      "execution_count": 477,
      "outputs": []
    },
    {
      "cell_type": "code",
      "source": [
        "atributos.clear()\n",
        "habilidades.clear()\n",
        "\n",
        "for itens_teste in testes:\n",
        "  atributos.extend(list(filter(lambda x: x in [a for b in lista_atributos.values() for a in b], itens_teste)))\n",
        "  habilidades.extend(list(filter(lambda x: x in [a for b in lista_habilidades.values() for a in b], itens_teste)))\n",
        "\n",
        "print(\"Atributos:\", atributos)\n",
        "print(\"Habilidades:\", habilidades)\n"
      ],
      "metadata": {
        "colab": {
          "base_uri": "https://localhost:8080/"
        },
        "id": "YmxrhddK0oKe",
        "outputId": "3593cd64-2697-4000-c6c2-e670a3534071"
      },
      "execution_count": 478,
      "outputs": [
        {
          "output_type": "stream",
          "name": "stdout",
          "text": [
            "Atributos: ['percepcao', 'manipulacao', 'carisma', 'manipulacao', 'carisma', 'raciocinio', 'vigor']\n",
            "Habilidades: ['labia', 'intimidacao', 'ocultismo', 'empatia', 'animais', 'intimidacao', 'sobrevivencia', 'oficios', 'esportes', 'sobrevivencia', 'ciencia']\n"
          ]
        }
      ]
    },
    {
      "cell_type": "markdown",
      "source": [
        "Apartir dessas listas de **atributos** e **habilidades** serão sorteados os pontos a serem distribuidos"
      ],
      "metadata": {
        "id": "deS2lkhRA9pu"
      }
    },
    {
      "cell_type": "code",
      "source": [
        "atributos"
      ],
      "metadata": {
        "colab": {
          "base_uri": "https://localhost:8080/"
        },
        "id": "sexaXY5pmNrn",
        "outputId": "c289ef7a-7858-4922-9210-3c3b65fe4e9c"
      },
      "execution_count": 479,
      "outputs": [
        {
          "output_type": "execute_result",
          "data": {
            "text/plain": [
              "['percepcao',\n",
              " 'manipulacao',\n",
              " 'carisma',\n",
              " 'manipulacao',\n",
              " 'carisma',\n",
              " 'raciocinio',\n",
              " 'vigor']"
            ]
          },
          "metadata": {},
          "execution_count": 479
        }
      ]
    },
    {
      "cell_type": "markdown",
      "source": [],
      "metadata": {
        "id": "gj6ZOQlzA8HP"
      }
    },
    {
      "cell_type": "code",
      "source": [
        "habilidades"
      ],
      "metadata": {
        "colab": {
          "base_uri": "https://localhost:8080/"
        },
        "id": "dBhX0YbkmPi5",
        "outputId": "b1dcb31d-352b-4d47-b8e0-facf03f547d8"
      },
      "execution_count": 480,
      "outputs": [
        {
          "output_type": "execute_result",
          "data": {
            "text/plain": [
              "['labia',\n",
              " 'intimidacao',\n",
              " 'ocultismo',\n",
              " 'empatia',\n",
              " 'animais',\n",
              " 'intimidacao',\n",
              " 'sobrevivencia',\n",
              " 'oficios',\n",
              " 'esportes',\n",
              " 'sobrevivencia',\n",
              " 'ciencia']"
            ]
          },
          "metadata": {},
          "execution_count": 480
        }
      ]
    },
    {
      "cell_type": "code",
      "source": [
        "lista_atributos"
      ],
      "metadata": {
        "colab": {
          "base_uri": "https://localhost:8080/"
        },
        "id": "vutBA8d4mbZj",
        "outputId": "909c5ee5-0f15-4a5e-ec38-5bd2e7d00196"
      },
      "execution_count": 481,
      "outputs": [
        {
          "output_type": "execute_result",
          "data": {
            "text/plain": [
              "{'fisicos': {'forca': 1, 'destreza': 1, 'vigor': 1},\n",
              " 'sociais': {'carisma': 1, 'manipulacao': 1, 'aparencia': 1},\n",
              " 'mentais': {'percepcao': 1, 'inteligencia': 1, 'raciocinio': 1}}"
            ]
          },
          "metadata": {},
          "execution_count": 481
        }
      ]
    },
    {
      "cell_type": "code",
      "source": [
        "\n",
        "lista_habilidades"
      ],
      "metadata": {
        "colab": {
          "base_uri": "https://localhost:8080/"
        },
        "id": "iwJJA_XanMNh",
        "outputId": "249dad11-bae8-419e-d93e-68d6fca15c48"
      },
      "execution_count": 482,
      "outputs": [
        {
          "output_type": "execute_result",
          "data": {
            "text/plain": [
              "{'talentos': {'prontidao': 0,\n",
              "  'esportes': 0,\n",
              "  'briga': 0,\n",
              "  'esquiva': 0,\n",
              "  'empatia': 0,\n",
              "  'expressao': 0,\n",
              "  'intimidacao': 0,\n",
              "  'lideranca': 0,\n",
              "  'manha': 0,\n",
              "  'labia': 0},\n",
              " 'pericias': {'animais': 0,\n",
              "  'oficios': 0,\n",
              "  'conducao': 0,\n",
              "  'etiqueta': 0,\n",
              "  'armas_de_fogo': 0,\n",
              "  'armas_brancas': 0,\n",
              "  'performance': 0,\n",
              "  'seguranca': 0,\n",
              "  'furtividade': 0,\n",
              "  'sobrevivencia': 0},\n",
              " 'conhecimento': {'academicos': 0,\n",
              "  'computador': 0,\n",
              "  'financas': 0,\n",
              "  'investigacao': 0,\n",
              "  'direito': 0,\n",
              "  'linguistica': 0,\n",
              "  'medicina': 0,\n",
              "  'ocultismo': 0,\n",
              "  'politica': 0,\n",
              "  'ciencia': 0}}"
            ]
          },
          "metadata": {},
          "execution_count": 482
        }
      ]
    },
    {
      "cell_type": "code",
      "source": [
        "#lista_disciplinas"
      ],
      "metadata": {
        "id": "eCrqxRbKnCws"
      },
      "execution_count": 483,
      "outputs": []
    },
    {
      "cell_type": "code",
      "source": [
        "print(nome,cla,geracao,\"geração,\",'\\natributos',atributos, '\\nhabilidades', habilidades, \"\\ndisciplinas\", disciplinas)"
      ],
      "metadata": {
        "colab": {
          "base_uri": "https://localhost:8080/"
        },
        "id": "BxHXoMu5WLUM",
        "outputId": "a97be6e5-83ee-4cbc-b0f5-05b7187227a1"
      },
      "execution_count": 484,
      "outputs": [
        {
          "output_type": "stream",
          "name": "stdout",
          "text": [
            "Salazar Caitif 11 geração, \n",
            "atributos ['percepcao', 'manipulacao', 'carisma', 'manipulacao', 'carisma', 'raciocinio', 'vigor'] \n",
            "habilidades ['labia', 'intimidacao', 'ocultismo', 'empatia', 'animais', 'intimidacao', 'sobrevivencia', 'oficios', 'esportes', 'sobrevivencia', 'ciencia'] \n",
            "disciplinas {'Demencia': 0, 'Animalismo': 0, 'Taumaturgia': 0}\n"
          ]
        }
      ]
    },
    {
      "cell_type": "code",
      "source": [],
      "metadata": {
        "id": "SMdvwo45_rk_"
      },
      "execution_count": 484,
      "outputs": []
    }
  ]
}