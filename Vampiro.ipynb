{
  "nbformat": 4,
  "nbformat_minor": 0,
  "metadata": {
    "colab": {
      "provenance": [],
      "authorship_tag": "ABX9TyNtu2zoYqbs/nxI6GbYUPtW",
      "include_colab_link": true
    },
    "kernelspec": {
      "name": "python3",
      "display_name": "Python 3"
    },
    "language_info": {
      "name": "python"
    }
  },
  "cells": [
    {
      "cell_type": "markdown",
      "metadata": {
        "id": "view-in-github",
        "colab_type": "text"
      },
      "source": [
        "<a href=\"https://colab.research.google.com/github/Bento095/VamPYro/blob/main/Vampiro.ipynb\" target=\"_parent\"><img src=\"https://colab.research.google.com/assets/colab-badge.svg\" alt=\"Open In Colab\"/></a>"
      ]
    },
    {
      "cell_type": "code",
      "source": [
        "import random"
      ],
      "metadata": {
        "id": "uFxXZjepa_PK"
      },
      "execution_count": 136,
      "outputs": []
    },
    {
      "cell_type": "markdown",
      "source": [
        "LISTAS INICIAIS"
      ],
      "metadata": {
        "id": "rThvUWlF1VEn"
      }
    },
    {
      "cell_type": "code",
      "source": [
        "lista_cla = {\n",
        "    \"Brujah\":{\"Rapidez\":0,\"Potencia\":0,\"Presença\":0},\n",
        "    \"Gangrel\":{\"Animalismo\":0,\"Metamorfose\":0,\"Fortitude\":0},\n",
        "    \"Malkavian\":{\"Demencia\":0,\"Auspicios\":0,\"Ofuscacao\":0},\n",
        "    \"Nosferatu\":{\"Ofuscacao\":0,\"Potencia\":0,\"Animalismo\":0},\n",
        "    \"Toreador\":{\"Auspicios\":0,\"Rapidez\":0,\"Presença\":0},\n",
        "    \"Tremere\":{\"Auspicios\":0,\"Dominacao\": 0,\"Taumaturgia\": 0},\n",
        "    \"Ventrue\":{\"Dominacao\": 0,\"Fortitude\":0,\"Presença\":0},\n",
        "    \"Tzimisce\":{\"Vicissitude\":0,\"Animalismo\":0,\"Auspicios\":0},\n",
        "    \"Lasombra\":{\"Tenebrosidade\":0,\"Dominacao\": 0,\"Potencia\":0},\n",
        "    \"Giovanni\":{\"Necromancia\": 0,\"Dominacao\": 0,\"Potencia\":0},\n",
        "    \"Assamita\":{\"Quietus\":0,\"Rapidez\":0,\"Ofuscacao\":0},\n",
        "    \"Setita\":{\"Serpentis\":0,\"Ofuscacao\":0,\"Presença\":0},\n",
        "    \"Ravnos\":{\"Quimerismo\":0,\"Animalismo\":0,\"Fortitude\":0},\n",
        "    \"Caitif\":{}\n",
        "}"
      ],
      "metadata": {
        "id": "yNLMuAXRzm6O"
      },
      "execution_count": 137,
      "outputs": []
    },
    {
      "cell_type": "code",
      "source": [
        "#lista_cla[\"Giovanni\"][\"Necromancia\"]"
      ],
      "metadata": {
        "id": "GqaFiAyKZeKi"
      },
      "execution_count": 138,
      "outputs": []
    },
    {
      "cell_type": "code",
      "source": [
        "for disciplina, pontuacao in lista_cla[\"Brujah\"].items():\n",
        "    print(f\"{disciplina}:{pontuacao}\")"
      ],
      "metadata": {
        "colab": {
          "base_uri": "https://localhost:8080/"
        },
        "id": "6my9SoIL370y",
        "outputId": "dd5ab1b5-29dc-48f6-8b69-6e8c3a149b13"
      },
      "execution_count": 139,
      "outputs": [
        {
          "output_type": "stream",
          "name": "stdout",
          "text": [
            "Rapidez:0\n",
            "Potencia:0\n",
            "Presença:0\n"
          ]
        }
      ]
    },
    {
      "cell_type": "code",
      "source": [
        "lista_disciplinas = {\n",
        "    \"Animalismo\": 0,\n",
        "    \"Auspícios\": 0,\n",
        "    \"Demencia\": 0,\n",
        "    \"Dominacao\": 0,\n",
        "    \"Fortitude\": 0,\n",
        "    \"Metamorfose\": 0,\n",
        "    \"Necromancia\": 0,\n",
        "    \"Ofuscacao\": 0,\n",
        "    \"Potencia\": 0,\n",
        "    \"Presença\": 0,\n",
        "    \"Quietus\": 0,\n",
        "    \"Quimerismo\": 0,\n",
        "    \"Rapidez\": 0,\n",
        "    \"Serpentis\": 0,\n",
        "    \"Taumaturgia\": 0,\n",
        "    \"Tenebrosidade\": 0,\n",
        "    \"Vicissitude\": 0\n",
        "}"
      ],
      "metadata": {
        "id": "Qo-qRhwDjOJh"
      },
      "execution_count": 140,
      "outputs": []
    },
    {
      "cell_type": "code",
      "source": [
        "lista_atributos = {\n",
        "    \"fisicos\": {\n",
        "        \"forca\": 1,\n",
        "        \"destreza\": 1,\n",
        "        \"vigor\": 1},\n",
        "    \"sociais\": {\n",
        "        \"carisma\": 1,\n",
        "        \"manipulacao\": 1,\n",
        "        \"aparencia\": 1},\n",
        "    \"mentais\": {\n",
        "        \"percepcao\": 1,\n",
        "        \"inteligencia\": 1,\n",
        "        \"raciocinio\": 1}\n",
        "}"
      ],
      "metadata": {
        "id": "NfM6lE_Pikpn"
      },
      "execution_count": 141,
      "outputs": []
    },
    {
      "cell_type": "code",
      "source": [
        "for atributo, pontuacao in lista_atributos[\"fisicos\"].items():\n",
        "    print(f\"{atributo}:{pontuacao}\")"
      ],
      "metadata": {
        "colab": {
          "base_uri": "https://localhost:8080/"
        },
        "id": "ry3SaRwvhKg-",
        "outputId": "b51c6564-670d-4a04-aa41-1d3566183183"
      },
      "execution_count": 142,
      "outputs": [
        {
          "output_type": "stream",
          "name": "stdout",
          "text": [
            "forca:1\n",
            "destreza:1\n",
            "vigor:1\n"
          ]
        }
      ]
    },
    {
      "cell_type": "code",
      "source": [
        "lista_habilidades = {\n",
        "    \"talentos\": {\n",
        "        'prontidao': 0,\n",
        "        'esportes': 0,\n",
        "        'briga': 0,\n",
        "        'esquiva': 0,\n",
        "        'empatia': 0,\n",
        "        'expressao': 0,\n",
        "        'intimidacao': 0,\n",
        "        'lideranca': 0,\n",
        "        'manha': 0,\n",
        "        'labia': 0},\n",
        "    \"pericias\": {\n",
        "        'animais': 0,\n",
        "        'oficios': 0,\n",
        "        'conducao': 0,\n",
        "        'etiqueta': 0,\n",
        "        'armas_de_fogo': 0,\n",
        "        'armas_brancas': 0,\n",
        "        'performance': 0,\n",
        "        'seguranca': 0,\n",
        "        'furtividade': 0,\n",
        "        'sobrevivencia': 0},\n",
        "    \"conhecimento\": {\n",
        "        'academicos': 0,\n",
        "        'computador': 0,\n",
        "        'financas': 0,\n",
        "        'investigacao': 0,\n",
        "        'direito': 0,\n",
        "        'linguistica': 0,\n",
        "        'medicina': 0,\n",
        "        'ocultismo': 0,\n",
        "        'politica': 0,\n",
        "        'ciencia': 0}\n",
        "}"
      ],
      "metadata": {
        "id": "UQT9twHpfvtU"
      },
      "execution_count": 143,
      "outputs": []
    },
    {
      "cell_type": "code",
      "source": [
        "for habilidade, pontuacao in lista_habilidades[\"talentos\"].items():\n",
        "    print(f\"{habilidade}:{pontuacao}\")"
      ],
      "metadata": {
        "colab": {
          "base_uri": "https://localhost:8080/"
        },
        "id": "wcyI_Bpu4nxk",
        "outputId": "59c4d7f7-b611-4981-8448-b9088c38b694"
      },
      "execution_count": 144,
      "outputs": [
        {
          "output_type": "stream",
          "name": "stdout",
          "text": [
            "prontidao:0\n",
            "esportes:0\n",
            "briga:0\n",
            "esquiva:0\n",
            "empatia:0\n",
            "expressao:0\n",
            "intimidacao:0\n",
            "lideranca:0\n",
            "manha:0\n",
            "labia:0\n"
          ]
        }
      ]
    },
    {
      "cell_type": "code",
      "source": [
        "lista_vantagens = {\n",
        "    'antecedentes':{'aliados':0,'contatos':0,'fama':0,'geracao':0,'rebanho':0,'influencia':0,'mentor':0,'recursos':0,'lacaios':0,'status':0},\n",
        "    'virtudes':{'consiencia':1,'autocontrole':1,'coragem':1}\n",
        "}"
      ],
      "metadata": {
        "id": "QHTdEPZu_2dM"
      },
      "execution_count": 145,
      "outputs": []
    },
    {
      "cell_type": "code",
      "source": [
        "for vantagens, pontuacao in lista_vantagens[\"antecedentes\"].items():\n",
        "    print(f\"{vantagens}:{pontuacao}\")"
      ],
      "metadata": {
        "colab": {
          "base_uri": "https://localhost:8080/"
        },
        "id": "ZnasHlrNDW2S",
        "outputId": "0f087654-ddbd-4d67-a98a-d8127abaf01a"
      },
      "execution_count": 146,
      "outputs": [
        {
          "output_type": "stream",
          "name": "stdout",
          "text": [
            "aliados:0\n",
            "contatos:0\n",
            "fama:0\n",
            "geracao:0\n",
            "rebanho:0\n",
            "influencia:0\n",
            "mentor:0\n",
            "recursos:0\n",
            "lacaios:0\n",
            "status:0\n"
          ]
        }
      ]
    },
    {
      "cell_type": "code",
      "source": [
        "lista_qed = {\n",
        "    'sentidos aguçados':-1, 'ambidestro':-1, 'ingerir comida':-1, 'equilibrio perfeito':-1, 'rubror de saude':-2, 'voz encantadora':-2,\n",
        "    'temerario':-3, 'digestão eficiente':-3, 'cheiro de tumulo':1, 'deficiencia auditiva':1,\n",
        "    '14 geração':2, 'mordida infecciosa':2, 'deficiencia visual':1, 'caolho':2, 'desfigurado':2, 'deformidade':3,\n",
        "    'ferimento permanente':3, 'cura demorada':3, 'vicio':3, 'sangue fraco':4, 'portador de doença contagiosa':4,\n",
        "    'pele cadavérica':5, 'cegueira':6, 'bom senso':-1, 'concentração':-1, 'noção exata do tempo':-1, 'codigo de honra':-2,\n",
        "    'memoria eidetica':-2, 'sono leve':-2, 'linguista nato':-2, 'temperamento calmo':-3, 'vontade de ferro':-3, 'sono pesado':1,\n",
        "    'pesadelos':1, 'fobia':2, 'exclusao de presa':1, 'timidez':1, 'coração mole':1, 'dificuldade de fala':1, 'bairrismo':2, 'cabeça quente':2,\n",
        "    'vingança':2, 'amnésia':1, 'lunatico':2, 'vontade fraca':3, 'consumo conspícuo':4, 'senhor de prestígio':-1, 'lider nato':-1,\n",
        "    'divida de gratidão':1, 'senhor indigno':1, 'segredo sombrio':1, 'identidade trocada':1, 'ressentimento do senhor':1, 'inimigo':1, 'caçado':4,\n",
        "    'membro de seita sob investigação':4, 'médium':-2, 'resistencia a magia':-2, 'habilidade oracular':-3, 'mentor espiritual':-3,\n",
        "    'imunidade ao laço de sangue':-3, 'sorte':-3, 'amor verdadeiro':-4, 'nove vidas':-6, 'fé verdadeira':-7, 'toque de congelamento':1,\n",
        "    'repulsa ao alho':1, 'amaldiçoado':1, 'imagem sem reflexo':1, 'presença sinistra':2, 'repulsa a cruzes':3, 'incapacidade de cruzar agua corrente':3,\n",
        "    'assombrado':3, 'aperto dos amaldiçoados':4, 'futuro negro':5, 'sensibilidade a luz':5\n",
        "} # Qualidades e Defeitos\n",
        "# alguns foram removidos para nao impactar a limitaçao de narrativa, demais com multipla escolha em seu custo estao utilizando o menor\n",
        "\n",
        "removidos = {\n",
        "    'corpo grande':-4, 'estatura baixa':1, 'criança':3, 'aleijado':3, 'monstruoso':3, 'mudo':4, 'surdez':4\n",
        "}"
      ],
      "metadata": {
        "id": "uehd8TMwSTZx"
      },
      "execution_count": 147,
      "outputs": []
    },
    {
      "cell_type": "code",
      "source": [
        "len(lista_qed)"
      ],
      "metadata": {
        "colab": {
          "base_uri": "https://localhost:8080/"
        },
        "id": "RAjrjx9Ye-jn",
        "outputId": "e6bc2038-ac50-4d03-ac4e-9bede9780707"
      },
      "execution_count": 148,
      "outputs": [
        {
          "output_type": "execute_result",
          "data": {
            "text/plain": [
              "76"
            ]
          },
          "metadata": {},
          "execution_count": 148
        }
      ]
    },
    {
      "cell_type": "code",
      "source": [
        "qed = {} #qualidades e defeitos\n"
      ],
      "metadata": {
        "id": "5a5TfbFLgXGM"
      },
      "execution_count": 149,
      "outputs": []
    },
    {
      "cell_type": "code",
      "source": [
        "qed.clear()\n",
        "pontos_extras = 15\n",
        "for i in range(5):\n",
        "  caracteristica = random.choice(list(lista_qed.items()))\n",
        "  if caracteristica not in qed.items():\n",
        "    qed[caracteristica[0]] = caracteristica[1]\n",
        "\n",
        "pontos_extras += sum(qed.values())\n",
        "\n",
        "print(qed, 'pontos extras =',pontos_extras)"
      ],
      "metadata": {
        "colab": {
          "base_uri": "https://localhost:8080/"
        },
        "id": "c79YDV71hbgi",
        "outputId": "5eded0a4-279d-4776-8424-a71feed7aea5"
      },
      "execution_count": 175,
      "outputs": [
        {
          "output_type": "stream",
          "name": "stdout",
          "text": [
            "{'pele cadavérica': 5, 'temperamento calmo': -3, 'membro de seita sob investigação': 4, 'cabeça quente': 2, 'noção exata do tempo': -1} pontos extras = 22\n"
          ]
        }
      ]
    },
    {
      "cell_type": "markdown",
      "source": [
        "DEFINIÇÃO DA CLASS"
      ],
      "metadata": {
        "id": "nQKhUzZm2HHp"
      }
    },
    {
      "cell_type": "code",
      "source": [
        "class Vampiro():\n",
        "  def __init__(self,nome,geracao,cla,atributos,habilidades,vantagens,qualidades_defeitos,trilha,forca_de_vontade,pontos_de_sangue):\n",
        "    self.nome = nome #feito\n",
        "    self.geracao = geracao # FALTA modificar apartir de antecedentes\n",
        "    self.cla = cla # feito, verifica se nosfratu pra zerar aparencia caso TRUE\n",
        "    self.atributos = atributos # aguardando sistema de pontos\n",
        "    self.habilidades = habilidades# ta funcionando\n",
        "    self.vantagens = vantagens #feito\n",
        "    self.qualidades_defeitos = qualidades_defeitos # esta funcional mas precisa de polimento\n",
        "    self.trilha = trilha\n",
        "    self.forca_de_vontade = forca_de_vontade\n",
        "    self.pontos_de_sangue = pontos_de_sangue\n",
        "\n",
        "  def ficha(self):\n",
        "    print(f'{self.nome}, de {self.geracao} geração, do cla {self.cla}')"
      ],
      "metadata": {
        "id": "tOFBpkPPPW13"
      },
      "execution_count": 151,
      "outputs": []
    },
    {
      "cell_type": "code",
      "execution_count": 152,
      "metadata": {
        "id": "-d-Z6L6qOwq8"
      },
      "outputs": [],
      "source": [
        "#vampiro = Vampiro()\n",
        "#vampiro.ficha()"
      ]
    },
    {
      "cell_type": "markdown",
      "source": [
        "Nome"
      ],
      "metadata": {
        "id": "aBICNeK_Jhhs"
      }
    },
    {
      "cell_type": "code",
      "source": [
        "nome = input('Seu personagem tem nome? ').title()\n",
        "\n",
        "if nome == \"\":\n",
        "    nome = \"Indigente\"\n",
        "    print(nome)\n",
        "else:\n",
        "    print(nome)"
      ],
      "metadata": {
        "colab": {
          "base_uri": "https://localhost:8080/"
        },
        "id": "3IW2_ekMZmht",
        "outputId": "96d0197d-bcd5-4384-ff4e-aad98e265568"
      },
      "execution_count": 153,
      "outputs": [
        {
          "output_type": "stream",
          "name": "stdout",
          "text": [
            "Seu personagem tem nome? claudio\n",
            "Claudio\n"
          ]
        }
      ]
    },
    {
      "cell_type": "markdown",
      "source": [
        "Clã"
      ],
      "metadata": {
        "id": "cC0nmzcMJYnW"
      }
    },
    {
      "cell_type": "code",
      "source": [
        "def escolher_cla():\n",
        "  global cla\n",
        "  cla = input('Seu personagem é de qual cla? ').title()\n",
        "\n",
        "  if cla == \"\":\n",
        "    cla = random.choice(list(lista_cla.keys()))\n",
        "    cla = cla\n",
        "    print(cla)\n",
        "  elif cla in lista_cla:\n",
        "    print(cla)\n",
        "  else:\n",
        "    print('Verifique a lista de clãs')\n",
        "    print(list(lista_cla.keys()))\n",
        "    escolher_cla()\n",
        "\n",
        "escolher_cla()"
      ],
      "metadata": {
        "colab": {
          "base_uri": "https://localhost:8080/"
        },
        "id": "8zIzuNl_iYE1",
        "outputId": "8bb74e51-79c7-43e9-fe14-876b738e9adc"
      },
      "execution_count": 154,
      "outputs": [
        {
          "output_type": "stream",
          "name": "stdout",
          "text": [
            "Seu personagem é de qual cla? \n",
            "Nosferatu\n"
          ]
        }
      ]
    },
    {
      "cell_type": "markdown",
      "source": [
        "Disciplinas"
      ],
      "metadata": {
        "id": "_pX8xKeQ1isY"
      }
    },
    {
      "cell_type": "code",
      "source": [
        "global disciplinas_caitif"
      ],
      "metadata": {
        "id": "ZKgsh_CTdm_-"
      },
      "execution_count": 155,
      "outputs": []
    },
    {
      "cell_type": "code",
      "source": [
        "if cla == \"Caitif\":\n",
        "  while len(lista_cla['Caitif']) < 3: # checa se 'Caitif' tem ao menos 3 disciplines\n",
        "    disciplina = random.choice(list(lista_disciplinas.keys())) # escolhe disciplinas aleatorias\n",
        "    lista_cla['Caitif'][disciplina] = int(0) # define o nivel como 0\n",
        "  print(lista_cla['Caitif'])\n",
        "  disciplinas_caitif = lista_cla['Caitif'].copy()# Cria uma cópia do dicionário\n",
        "  (lista_cla['Caitif']).clear()\n",
        "  disciplinas = disciplinas_caitif\n",
        "else:\n",
        "  disciplinas = lista_cla[cla].copy()\n",
        "\n",
        "for i in range(3):\n",
        "  disciplina = random.choice(list(disciplinas.items()))\n",
        "  if disciplina in disciplinas.items():\n",
        "    disciplinas[disciplina[0]] +=1"
      ],
      "metadata": {
        "id": "yywehftHXLkD"
      },
      "execution_count": 156,
      "outputs": []
    },
    {
      "cell_type": "code",
      "source": [
        "disciplinas"
      ],
      "metadata": {
        "colab": {
          "base_uri": "https://localhost:8080/"
        },
        "id": "_MeUC4kpijDm",
        "outputId": "7d452cbc-d64b-4e5e-ba68-087aecf0f68c"
      },
      "execution_count": 157,
      "outputs": [
        {
          "output_type": "execute_result",
          "data": {
            "text/plain": [
              "{'Ofuscacao': 0, 'Potencia': 1, 'Animalismo': 2}"
            ]
          },
          "metadata": {},
          "execution_count": 157
        }
      ]
    },
    {
      "cell_type": "markdown",
      "source": [
        "Geração"
      ],
      "metadata": {
        "id": "Gajc6rD5JkeA"
      }
    },
    {
      "cell_type": "code",
      "source": [
        "def escolher_geracao():\n",
        "  global geracao #declara a geração globalmente\n",
        "  while True: #loop ate um input valido\n",
        "    try:\n",
        "      geracao_input = input('Seu personagem é de qual geração? ')\n",
        "      if geracao_input == \"\":\n",
        "        geracao = random.randint(8,13)\n",
        "        print(geracao)\n",
        "        break #sai do loop apos sortear uma geração no range\n",
        "      geracao = int(geracao_input) #tenta converter o input pra inteiro\n",
        "      if 8 <= geracao <= 13:\n",
        "        print(geracao)\n",
        "        break #sai do loop apos receber um input valido\n",
        "      else:\n",
        "        print('A geração deve ser um número entre 8 e 13')\n",
        "    except ValueError:\n",
        "      print('Entrada inválida. Por favor, digite um número inteiro.')\n",
        "\n",
        "escolher_geracao()"
      ],
      "metadata": {
        "colab": {
          "base_uri": "https://localhost:8080/"
        },
        "id": "RpWnapAhfinC",
        "outputId": "9f105b0e-7459-4382-a727-5c82e8a31104"
      },
      "execution_count": 158,
      "outputs": [
        {
          "output_type": "stream",
          "name": "stdout",
          "text": [
            "Seu personagem é de qual geração? \n",
            "11\n"
          ]
        }
      ]
    },
    {
      "cell_type": "markdown",
      "source": [
        "Atributos"
      ],
      "metadata": {
        "id": "KcXBcBtdkrAh"
      }
    },
    {
      "cell_type": "markdown",
      "source": [
        "relaçao de atributos para uso das disciplinas, ao gerar ficha a consulta de atributos vai se basear nessa preseleção"
      ],
      "metadata": {
        "id": "RbLCtRMXDJq1"
      }
    },
    {
      "cell_type": "code",
      "source": [
        "testes_disciplinas = {\n",
        "    'Animalismo':{'manipulacao','carisma','animais','sobrevivencia','intimidacao'},#autocontrole\n",
        "    'Auspicios':{'percepcao','empatia','inteligencia','labia','ocultismo'},#força de vontade\n",
        "    'Demencia':{'carisma','empatia','manipulacao','labia','percepcao','ocultismo','intimidacao'},#pontos de sangue\n",
        "    'Dominacao':{'manipulacao','intimidacao','lideranca','raciocinio','labia','carisma'},#força de vontade\n",
        "    'Fortitude':{'vigor'},\n",
        "    'Metamorfose':{'forca'},\n",
        "    'Necromancia':{'percepcao','ocultismo','manipulacao','vigor','empatia','destreza','raciocinio','prontidao','inteligencia'},#Força de Vontade\n",
        "    'Ofuscacao':{'raciocinio','furtividade','manipulacao','performance','carisma'},\n",
        "    'Potencia':{'forca','destreza','esportes','briga'},\n",
        "    'Presença':{'carisma','performance','intimidacao','aparencia','empatia','labia'},#força de vontade\n",
        "    'Quietus':{'vigor','esportes','forca'},#pontos de sangue\n",
        "    'Quimerismo':{'manipulacao','labia'},#força de vontade\n",
        "    'Rapidez':{'destreza','esportes'},\n",
        "    'Serpentis':{'forca','vigor'},\n",
        "    'Taumaturgia':{'oficios','ciencia','vigor','esportes','raciocinio','sobrevivencia'},\n",
        "    'Tenebrosidade':{'furtividade','manipulacao','ocultismo','vigor'},\n",
        "    'Vicissitude':{'inteligencia','medicina','percepcao','destreza','forca','vigor'}\n",
        "}"
      ],
      "metadata": {
        "id": "fmQCigCgniAb"
      },
      "execution_count": 159,
      "outputs": []
    },
    {
      "cell_type": "code",
      "source": [
        "testes_do_cla = []\n",
        "\n",
        "for item in disciplinas:\n",
        "  if item in testes_disciplinas:\n",
        "    testes_do_cla.append(testes_disciplinas[item])\n",
        "    print(testes_disciplinas[item])"
      ],
      "metadata": {
        "colab": {
          "base_uri": "https://localhost:8080/"
        },
        "id": "gwdn3JHJeXpZ",
        "outputId": "9b963322-f7d9-4d59-b99d-fdbe49c56944"
      },
      "execution_count": 160,
      "outputs": [
        {
          "output_type": "stream",
          "name": "stdout",
          "text": [
            "{'raciocinio', 'carisma', 'furtividade', 'performance', 'manipulacao'}\n",
            "{'destreza', 'briga', 'forca', 'esportes'}\n",
            "{'sobrevivencia', 'animais', 'intimidacao', 'carisma', 'manipulacao'}\n"
          ]
        }
      ]
    },
    {
      "cell_type": "code",
      "source": [
        "atributos_teste = []\n",
        "habilidades_teste = []"
      ],
      "metadata": {
        "id": "28pcP0Onir9X"
      },
      "execution_count": 161,
      "outputs": []
    },
    {
      "cell_type": "code",
      "source": [
        "atributos_teste.clear()\n",
        "habilidades_teste.clear()\n",
        "\n",
        "for itens_teste in testes_do_cla:\n",
        "  atributos_teste.extend(list(filter(lambda x: x in [a for b in lista_atributos.values() for a in b], itens_teste)))\n",
        "  habilidades_teste.extend(list(filter(lambda x: x in [a for b in lista_habilidades.values() for a in b], itens_teste)))\n",
        "\n",
        "print(\"Atributos:\", atributos_teste)\n",
        "print(\"Habilidades:\", habilidades_teste)\n"
      ],
      "metadata": {
        "colab": {
          "base_uri": "https://localhost:8080/"
        },
        "id": "YmxrhddK0oKe",
        "outputId": "9958b615-17ab-42b4-d8f0-0bc04b40803d"
      },
      "execution_count": 162,
      "outputs": [
        {
          "output_type": "stream",
          "name": "stdout",
          "text": [
            "Atributos: ['raciocinio', 'carisma', 'manipulacao', 'destreza', 'forca', 'carisma', 'manipulacao']\n",
            "Habilidades: ['furtividade', 'performance', 'briga', 'esportes', 'sobrevivencia', 'animais', 'intimidacao']\n"
          ]
        }
      ]
    },
    {
      "cell_type": "code",
      "source": [
        "testes_do_cla"
      ],
      "metadata": {
        "colab": {
          "base_uri": "https://localhost:8080/"
        },
        "id": "1FPDMUGE5mIw",
        "outputId": "2ab579b1-3a30-4238-da85-677b242f245a"
      },
      "execution_count": 163,
      "outputs": [
        {
          "output_type": "execute_result",
          "data": {
            "text/plain": [
              "[{'carisma', 'furtividade', 'manipulacao', 'performance', 'raciocinio'},\n",
              " {'briga', 'destreza', 'esportes', 'forca'},\n",
              " {'animais', 'carisma', 'intimidacao', 'manipulacao', 'sobrevivencia'}]"
            ]
          },
          "metadata": {},
          "execution_count": 163
        }
      ]
    },
    {
      "cell_type": "code",
      "source": [
        "atributos = {}"
      ],
      "metadata": {
        "id": "Cw-I7Ng-9pkH"
      },
      "execution_count": 164,
      "outputs": []
    },
    {
      "cell_type": "code",
      "source": [
        "atributos.clear()\n",
        "atributos = lista_atributos.copy()\n",
        "\n",
        "for i in atributos_teste:\n",
        "  if i in atributos['fisicos']:\n",
        "    atributos['fisicos'][i] +=1\n",
        "  elif i in atributos['sociais']:\n",
        "    atributos['sociais'][i] +=1\n",
        "  elif i in atributos['mentais']:\n",
        "    atributos['mentais'][i] +=1\n",
        "\n",
        "if cla == 'Nosferatu':\n",
        "  atributos['sociais']['aparencia'] = 0\n",
        "atributos"
      ],
      "metadata": {
        "colab": {
          "base_uri": "https://localhost:8080/"
        },
        "id": "rQxdBhCp29z6",
        "outputId": "b68fb571-5c2a-4a94-a5ae-da4833c8b57a"
      },
      "execution_count": 165,
      "outputs": [
        {
          "output_type": "execute_result",
          "data": {
            "text/plain": [
              "{'fisicos': {'forca': 2, 'destreza': 2, 'vigor': 1},\n",
              " 'sociais': {'carisma': 3, 'manipulacao': 3, 'aparencia': 0},\n",
              " 'mentais': {'percepcao': 1, 'inteligencia': 1, 'raciocinio': 2}}"
            ]
          },
          "metadata": {},
          "execution_count": 165
        }
      ]
    },
    {
      "cell_type": "code",
      "source": [
        "habilidades = lista_habilidades.copy()\n",
        "\n",
        "for i in habilidades_teste:\n",
        "  if i in habilidades['talentos']:\n",
        "    habilidades['talentos'][i] +=1\n",
        "  elif i in habilidades['pericias']:\n",
        "    habilidades['pericias'][i] +=1\n",
        "  elif i in habilidades['conhecimento']:\n",
        "    habilidades['conhecimento'][i] +=1"
      ],
      "metadata": {
        "id": "4B89AlYK6ZVA"
      },
      "execution_count": 166,
      "outputs": []
    },
    {
      "cell_type": "code",
      "source": [
        "habilidades = {tipo: {hab: pont for hab, pont in hab_dict.items() if pont != 0}\n",
        "              for tipo, hab_dict in habilidades.items()}"
      ],
      "metadata": {
        "id": "AJQbqTtr8cJu"
      },
      "execution_count": 167,
      "outputs": []
    },
    {
      "cell_type": "code",
      "source": [
        "habilidades"
      ],
      "metadata": {
        "colab": {
          "base_uri": "https://localhost:8080/"
        },
        "id": "1BgskuHcCkaf",
        "outputId": "645e1fe8-2869-4d13-d4a4-81f3d6d76669"
      },
      "execution_count": 168,
      "outputs": [
        {
          "output_type": "execute_result",
          "data": {
            "text/plain": [
              "{'talentos': {'esportes': 1, 'briga': 1, 'intimidacao': 1},\n",
              " 'pericias': {'animais': 1,\n",
              "  'performance': 1,\n",
              "  'furtividade': 1,\n",
              "  'sobrevivencia': 1},\n",
              " 'conhecimento': {}}"
            ]
          },
          "metadata": {},
          "execution_count": 168
        }
      ]
    },
    {
      "cell_type": "markdown",
      "source": [
        "Apartir dessas listas de **atributos** e **habilidades** serão sorteados os pontos a serem distribuidos"
      ],
      "metadata": {
        "id": "deS2lkhRA9pu"
      }
    },
    {
      "cell_type": "markdown",
      "source": [
        "**VANTAGENS**"
      ],
      "metadata": {
        "id": "Kf8SQAYy2s-L"
      }
    },
    {
      "cell_type": "code",
      "source": [
        "antecedentes = {}\n",
        "virtudes = {}"
      ],
      "metadata": {
        "id": "W5ru7vYdEQuZ"
      },
      "execution_count": 169,
      "outputs": []
    },
    {
      "cell_type": "code",
      "source": [
        "lista_vantagens[\"antecedentes\"]"
      ],
      "metadata": {
        "colab": {
          "base_uri": "https://localhost:8080/"
        },
        "id": "HLKseAmUNjbT",
        "outputId": "e25a0e0a-eaad-414f-d28b-e3898b786d67"
      },
      "execution_count": 170,
      "outputs": [
        {
          "output_type": "execute_result",
          "data": {
            "text/plain": [
              "{'aliados': 0,\n",
              " 'contatos': 0,\n",
              " 'fama': 0,\n",
              " 'geracao': 0,\n",
              " 'rebanho': 0,\n",
              " 'influencia': 0,\n",
              " 'mentor': 0,\n",
              " 'recursos': 0,\n",
              " 'lacaios': 0,\n",
              " 'status': 0}"
            ]
          },
          "metadata": {},
          "execution_count": 170
        }
      ]
    },
    {
      "cell_type": "code",
      "source": [
        "antecedentes.clear()\n",
        "antecedentes = lista_vantagens[\"antecedentes\"].copy()\n",
        "for i in range(5):\n",
        "  antecedente = random.choice(list(antecedentes.items()))\n",
        "  if antecedente in antecedentes.items():\n",
        "    antecedentes[antecedente[0]] += 1\n",
        "  else:\n",
        "    antecedentes[antecedente[0]] = 0\n",
        "\n",
        "for i in list(antecedentes.keys()):\n",
        "  if antecedentes[i] == 0:\n",
        "    del antecedentes[i]\n",
        "\n",
        "antecedentes"
      ],
      "metadata": {
        "id": "ezRXY-2hFD9x",
        "colab": {
          "base_uri": "https://localhost:8080/"
        },
        "outputId": "32be1f7c-8090-4230-cba6-ccb428ab8af5"
      },
      "execution_count": 171,
      "outputs": [
        {
          "output_type": "execute_result",
          "data": {
            "text/plain": [
              "{'contatos': 1, 'rebanho': 1, 'influencia': 1, 'lacaios': 2}"
            ]
          },
          "metadata": {},
          "execution_count": 171
        }
      ]
    },
    {
      "cell_type": "code",
      "source": [
        "virtudes.clear() #começa limpando\n",
        "\n",
        "virtudes = lista_vantagens[\"virtudes\"].copy() # {'consiencia': 1, 'autocontrole': 1, 'coragem': 1}\n",
        "''' copia o dicionario de lista_vantagens['virtudes'] '''\n",
        "\n",
        "\n",
        "\n",
        "for i in range(8): # repete 8x\n",
        "  virtude = random.choice(list(virtudes.items())) # declara a virtude sorteada\n",
        "  if virtude in virtudes.items() and virtudes[virtude[0]] < 5: # verifica a virtude na lista\n",
        "    virtudes[virtude[0]] +=1 #adiciona +1 ponto a virtude\n",
        "\n",
        "\n",
        "\n",
        "virtudes"
      ],
      "metadata": {
        "colab": {
          "base_uri": "https://localhost:8080/"
        },
        "id": "wcyS8sJXN7Lh",
        "outputId": "4ac28d6c-5fac-4d27-b0da-12646023f91e"
      },
      "execution_count": 172,
      "outputs": [
        {
          "output_type": "execute_result",
          "data": {
            "text/plain": [
              "{'consiencia': 4, 'autocontrole': 3, 'coragem': 4}"
            ]
          },
          "metadata": {},
          "execution_count": 172
        }
      ]
    },
    {
      "cell_type": "code",
      "source": [
        "for vantagens, pontuacao in lista_vantagens[\"virtudes\"].items():\n",
        "    print(f\"{vantagens}:{pontuacao}\")"
      ],
      "metadata": {
        "colab": {
          "base_uri": "https://localhost:8080/"
        },
        "id": "3mhhYMCLF2z0",
        "outputId": "f18f2bf6-06a9-404d-c2fb-de1e4b40de05"
      },
      "execution_count": 173,
      "outputs": [
        {
          "output_type": "stream",
          "name": "stdout",
          "text": [
            "consiencia:1\n",
            "autocontrole:1\n",
            "coragem:1\n"
          ]
        }
      ]
    },
    {
      "cell_type": "code",
      "source": [
        "input('Enter para finalizar')\n",
        "print(nome,cla,geracao,\"geração,\",\n",
        "      '\\nAtributos',\n",
        "      '\\nFisicos:',atributos['fisicos'],\n",
        "      '\\nSociais:',atributos['sociais'],\n",
        "      '\\nMentais:',atributos['mentais'],\n",
        "      '\\nHabilidades:',\n",
        "      '\\nTalentos:', habilidades['talentos'],\n",
        "      '\\nPericias:', habilidades['pericias'],\n",
        "      '\\nConhecimentos:', habilidades['conhecimento'],\n",
        "      '\\nVantagens:',\n",
        "      '\\nAntecedentes', antecedentes,\n",
        "      '\\nDisciplinas', disciplinas,\n",
        "      '\\nVirtudes',virtudes,\n",
        "      '\\nQualidades e Defeitos',qed\n",
        "      )"
      ],
      "metadata": {
        "colab": {
          "base_uri": "https://localhost:8080/"
        },
        "id": "BxHXoMu5WLUM",
        "outputId": "d941640a-1ab7-41f6-ca1b-3e805250ebbd"
      },
      "execution_count": 176,
      "outputs": [
        {
          "output_type": "stream",
          "name": "stdout",
          "text": [
            "Enter para finalizar\n",
            "Claudio Nosferatu 11 geração, \n",
            "Atributos \n",
            "Fisicos: {'forca': 2, 'destreza': 2, 'vigor': 1} \n",
            "Sociais: {'carisma': 3, 'manipulacao': 3, 'aparencia': 0} \n",
            "Mentais: {'percepcao': 1, 'inteligencia': 1, 'raciocinio': 2} \n",
            "Habilidades: \n",
            "Talentos: {'esportes': 1, 'briga': 1, 'intimidacao': 1} \n",
            "Pericias: {'animais': 1, 'performance': 1, 'furtividade': 1, 'sobrevivencia': 1} \n",
            "Conhecimentos: {} \n",
            "Vantagens: \n",
            "Antecedentes {'contatos': 1, 'rebanho': 1, 'influencia': 1, 'lacaios': 2} \n",
            "Disciplinas {'Ofuscacao': 0, 'Potencia': 1, 'Animalismo': 2} \n",
            "Virtudes {'consiencia': 4, 'autocontrole': 3, 'coragem': 4} \n",
            "Qualidades e Defeitos {'pele cadavérica': 5, 'temperamento calmo': -3, 'membro de seita sob investigação': 4, 'cabeça quente': 2, 'noção exata do tempo': -1}\n"
          ]
        }
      ]
    }
  ]
}