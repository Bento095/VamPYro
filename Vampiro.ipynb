{
  "nbformat": 4,
  "nbformat_minor": 0,
  "metadata": {
    "colab": {
      "provenance": [],
      "authorship_tag": "ABX9TyPVph/c04UkAHcvKlOqxEG3",
      "include_colab_link": true
    },
    "kernelspec": {
      "name": "python3",
      "display_name": "Python 3"
    },
    "language_info": {
      "name": "python"
    }
  },
  "cells": [
    {
      "cell_type": "markdown",
      "metadata": {
        "id": "view-in-github",
        "colab_type": "text"
      },
      "source": [
        "<a href=\"https://colab.research.google.com/github/Bento095/VamPYro/blob/main/Vampiro.ipynb\" target=\"_parent\"><img src=\"https://colab.research.google.com/assets/colab-badge.svg\" alt=\"Open In Colab\"/></a>"
      ]
    },
    {
      "cell_type": "markdown",
      "source": [
        "# Bem-vindo ao gerador de fichas de NPC para Vampire: The Masquerade, 3ª edição!\n",
        "\n",
        "## Execução: Para gerar a ficha, clique em \"Ambiente de Execução/Executar Tudo\" (ou pressione Ctrl+F9).\n",
        "\n",
        "## Instruções de Uso:\n",
        "Preencha os campos ou não, no mínimo três cliques em 'ENTER' gerarão uma ficha utilizável.\n",
        "\n",
        "## Personalização: A ficha gerada é apenas uma sugestão.\n",
        " Sinta-se à vontade para modificar qualquer informação após a geração.\n",
        "\n",
        "Resultado: A ficha finalizada será exibida ao final desta página.\n",
        "\n",
        "Uma versão em Django estará disponível no futuro."
      ],
      "metadata": {
        "id": "79XHUFTw8Fih"
      }
    },
    {
      "cell_type": "markdown",
      "source": [
        "# Bloco do código"
      ],
      "metadata": {
        "id": "ebF5HU4cCif-"
      }
    },
    {
      "cell_type": "markdown",
      "source": [
        "## LISTAS INICIAIS"
      ],
      "metadata": {
        "id": "rThvUWlF1VEn"
      }
    },
    {
      "cell_type": "code",
      "source": [
        "import random"
      ],
      "metadata": {
        "id": "uFxXZjepa_PK"
      },
      "execution_count": 1510,
      "outputs": []
    },
    {
      "cell_type": "code",
      "source": [
        "lista_cla = {\n",
        "    \"Brujah\":{\"Rapidez\":0,\"Potencia\":0,\"Presença\":0},\n",
        "    \"Gangrel\":{\"Animalismo\":0,\"Metamorfose\":0,\"Fortitude\":0},\n",
        "    \"Malkavian\":{\"Demencia\":0,\"Auspicios\":0,\"Ofuscacao\":0},\n",
        "    \"Nosferatu\":{\"Ofuscacao\":0,\"Potencia\":0,\"Animalismo\":0},\n",
        "    \"Toreador\":{\"Auspicios\":0,\"Rapidez\":0,\"Presença\":0},\n",
        "    \"Tremere\":{\"Auspicios\":0,\"Dominacao\": 0,\"Taumaturgia\": 0},\n",
        "    \"Ventrue\":{\"Dominacao\": 0,\"Fortitude\":0,\"Presença\":0},\n",
        "    \"Tzimisce\":{\"Vicissitude\":0,\"Animalismo\":0,\"Auspicios\":0},\n",
        "    \"Lasombra\":{\"Tenebrosidade\":0,\"Dominacao\": 0,\"Potencia\":0},\n",
        "    \"Giovanni\":{\"Necromancia\": 0,\"Dominacao\": 0,\"Potencia\":0},\n",
        "    \"Assamita\":{\"Quietus\":0,\"Rapidez\":0,\"Ofuscacao\":0},\n",
        "    \"Setita\":{\"Serpentis\":0,\"Ofuscacao\":0,\"Presença\":0},\n",
        "    \"Ravnos\":{\"Quimerismo\":0,\"Animalismo\":0,\"Fortitude\":0},\n",
        "    \"Caitif\":{}\n",
        "}"
      ],
      "metadata": {
        "id": "yNLMuAXRzm6O"
      },
      "execution_count": 1511,
      "outputs": []
    },
    {
      "cell_type": "code",
      "source": [
        "'''for disciplina, pontuacao in lista_cla[\"Brujah\"].items():\n",
        "    print(f\"{disciplina}:{pontuacao}\")'''"
      ],
      "metadata": {
        "colab": {
          "base_uri": "https://localhost:8080/",
          "height": 35
        },
        "id": "6my9SoIL370y",
        "outputId": "5f0ed439-6653-4773-a8b8-a4f6eb251882"
      },
      "execution_count": 1512,
      "outputs": [
        {
          "output_type": "execute_result",
          "data": {
            "text/plain": [
              "'for disciplina, pontuacao in lista_cla[\"Brujah\"].items():\\n    print(f\"{disciplina}:{pontuacao}\")'"
            ],
            "application/vnd.google.colaboratory.intrinsic+json": {
              "type": "string"
            }
          },
          "metadata": {},
          "execution_count": 1512
        }
      ]
    },
    {
      "cell_type": "code",
      "source": [
        "lista_disciplinas = {\n",
        "    \"Animalismo\": 0,\n",
        "    \"Auspícios\": 0,\n",
        "    \"Demencia\": 0,\n",
        "    \"Dominacao\": 0,\n",
        "    \"Fortitude\": 0,\n",
        "    \"Metamorfose\": 0,\n",
        "    \"Necromancia\": 0,\n",
        "    \"Ofuscacao\": 0,\n",
        "    \"Potencia\": 0,\n",
        "    \"Presença\": 0,\n",
        "    \"Quietus\": 0,\n",
        "    \"Quimerismo\": 0,\n",
        "    \"Rapidez\": 0,\n",
        "    \"Serpentis\": 0,\n",
        "    \"Taumaturgia\": 0,\n",
        "    \"Tenebrosidade\": 0,\n",
        "    \"Vicissitude\": 0\n",
        "}"
      ],
      "metadata": {
        "id": "Qo-qRhwDjOJh"
      },
      "execution_count": 1513,
      "outputs": []
    },
    {
      "cell_type": "code",
      "source": [
        "lista_atributos = {\n",
        "    \"fisicos\": {\n",
        "        \"forca\": 1,\n",
        "        \"destreza\": 1,\n",
        "        \"vigor\": 1},\n",
        "    \"sociais\": {\n",
        "        \"carisma\": 1,\n",
        "        \"manipulacao\": 1,\n",
        "        \"aparencia\": 1},\n",
        "    \"mentais\": {\n",
        "        \"percepcao\": 1,\n",
        "        \"inteligencia\": 1,\n",
        "        \"raciocinio\": 1}\n",
        "}"
      ],
      "metadata": {
        "id": "NfM6lE_Pikpn"
      },
      "execution_count": 1514,
      "outputs": []
    },
    {
      "cell_type": "code",
      "source": [
        "'''for atributo, pontuacao in lista_atributos[\"fisicos\"].items():\n",
        "    print(f\"{atributo}:{pontuacao}\")'''"
      ],
      "metadata": {
        "colab": {
          "base_uri": "https://localhost:8080/",
          "height": 35
        },
        "id": "ry3SaRwvhKg-",
        "outputId": "10d57fa5-0416-45f8-a64f-ea18b76f5aaf"
      },
      "execution_count": 1515,
      "outputs": [
        {
          "output_type": "execute_result",
          "data": {
            "text/plain": [
              "'for atributo, pontuacao in lista_atributos[\"fisicos\"].items():\\n    print(f\"{atributo}:{pontuacao}\")'"
            ],
            "application/vnd.google.colaboratory.intrinsic+json": {
              "type": "string"
            }
          },
          "metadata": {},
          "execution_count": 1515
        }
      ]
    },
    {
      "cell_type": "code",
      "source": [
        "lista_habilidades = {\n",
        "    \"talentos\": {\n",
        "        'prontidao': 0,\n",
        "        'esportes': 0,\n",
        "        'briga': 0,\n",
        "        'esquiva': 0,\n",
        "        'empatia': 0,\n",
        "        'expressao': 0,\n",
        "        'intimidacao': 0,\n",
        "        'lideranca': 0,\n",
        "        'manha': 0,\n",
        "        'labia': 0},\n",
        "    \"pericias\": {\n",
        "        'animais': 0,\n",
        "        'oficios': 0,\n",
        "        'conducao': 0,\n",
        "        'etiqueta': 0,\n",
        "        'armas_de_fogo': 0,\n",
        "        'armas_brancas': 0,\n",
        "        'performance': 0,\n",
        "        'seguranca': 0,\n",
        "        'furtividade': 0,\n",
        "        'sobrevivencia': 0},\n",
        "    \"conhecimento\": {\n",
        "        'academicos': 0,\n",
        "        'computador': 0,\n",
        "        'financas': 0,\n",
        "        'investigacao': 0,\n",
        "        'direito': 0,\n",
        "        'linguistica': 0,\n",
        "        'medicina': 0,\n",
        "        'ocultismo': 0,\n",
        "        'politica': 0,\n",
        "        'ciencia': 0}\n",
        "}"
      ],
      "metadata": {
        "id": "UQT9twHpfvtU"
      },
      "execution_count": 1516,
      "outputs": []
    },
    {
      "cell_type": "code",
      "source": [
        "'''for habilidade, pontuacao in lista_habilidades[\"talentos\"].items():\n",
        "    print(f\"{habilidade}:{pontuacao}\")'''"
      ],
      "metadata": {
        "colab": {
          "base_uri": "https://localhost:8080/",
          "height": 35
        },
        "id": "wcyI_Bpu4nxk",
        "outputId": "b7e74b08-a9fa-45aa-ea1a-819e42fdb59d"
      },
      "execution_count": 1517,
      "outputs": [
        {
          "output_type": "execute_result",
          "data": {
            "text/plain": [
              "'for habilidade, pontuacao in lista_habilidades[\"talentos\"].items():\\n    print(f\"{habilidade}:{pontuacao}\")'"
            ],
            "application/vnd.google.colaboratory.intrinsic+json": {
              "type": "string"
            }
          },
          "metadata": {},
          "execution_count": 1517
        }
      ]
    },
    {
      "cell_type": "code",
      "source": [
        "lista_vantagens = {\n",
        "    'antecedentes':{'aliados':0,'contatos':0,'fama':0,'geracao':0,'rebanho':0,'influencia':0,'mentor':0,'recursos':0,'lacaios':0,'status':0},\n",
        "    'virtudes':{'consiencia':1,'autocontrole':1,'coragem':1}\n",
        "}"
      ],
      "metadata": {
        "id": "QHTdEPZu_2dM"
      },
      "execution_count": 1518,
      "outputs": []
    },
    {
      "cell_type": "code",
      "source": [
        "'''for vantagens, pontuacao in lista_vantagens[\"antecedentes\"].items():\n",
        "    print(f\"{vantagens}:{pontuacao}\")'''"
      ],
      "metadata": {
        "colab": {
          "base_uri": "https://localhost:8080/",
          "height": 35
        },
        "id": "ZnasHlrNDW2S",
        "outputId": "3f5c458b-ac1b-4526-b6dd-08d6d1b5000d"
      },
      "execution_count": 1519,
      "outputs": [
        {
          "output_type": "execute_result",
          "data": {
            "text/plain": [
              "'for vantagens, pontuacao in lista_vantagens[\"antecedentes\"].items():\\n    print(f\"{vantagens}:{pontuacao}\")'"
            ],
            "application/vnd.google.colaboratory.intrinsic+json": {
              "type": "string"
            }
          },
          "metadata": {},
          "execution_count": 1519
        }
      ]
    },
    {
      "cell_type": "code",
      "source": [
        "lista_qed = {\n",
        "    'sentidos aguçados':-1, 'ambidestro':-1, 'ingerir comida':-1, 'equilibrio perfeito':-1, 'rubror de saude':-2, 'voz encantadora':-2,\n",
        "    'temerario':-3, 'digestão eficiente':-3, 'cheiro de tumulo':1, 'deficiencia auditiva':1,\n",
        "    'mordida infecciosa':2, 'deficiencia visual':1, 'caolho':2, 'desfigurado':2, 'deformidade':3,\n",
        "    'ferimento permanente':3, 'cura demorada':3, 'vicio':3, 'sangue fraco':4, 'portador de doença contagiosa':4,\n",
        "    'pele cadavérica':5, 'bom senso':-1, 'concentração':-1, 'noção exata do tempo':-1, 'codigo de honra':-2,\n",
        "    'memoria eidetica':-2, 'sono leve':-2, 'linguista nato':-2, 'temperamento calmo':-3, 'vontade de ferro':-3, 'sono pesado':1,\n",
        "    'pesadelos':1, 'fobia':2, 'exclusao de presa':1, 'timidez':1, 'coração mole':1, 'dificuldade de fala':1, 'bairrismo':2, 'cabeça quente':2,\n",
        "    'vingança':2, 'amnésia':1, 'lunatico':2, 'vontade fraca':3, 'consumo conspícuo':4, 'senhor de prestígio':-1, 'lider nato':-1,\n",
        "    'divida de gratidão':1, 'senhor indigno':1, 'segredo sombrio':1, 'identidade trocada':1, 'ressentimento do senhor':1, 'inimigo':1, 'caçado':4,\n",
        "    'membro de seita sob investigação':4, 'médium':-2, 'resistencia a magia':-2, 'habilidade oracular':-3, 'mentor espiritual':-3,\n",
        "    'imunidade ao laço de sangue':-3, 'sorte':-3, 'amor verdadeiro':-4, 'nove vidas':-6, 'fé verdadeira':-7, 'toque de congelamento':1,\n",
        "    'repulsa ao alho':1, 'amaldiçoado':1, 'imagem sem reflexo':1, 'presença sinistra':2, 'repulsa a cruzes':3, 'incapacidade de cruzar agua corrente':3,\n",
        "    'assombrado':3, 'aperto dos amaldiçoados':4, 'futuro negro':5, 'sensibilidade a luz':5\n",
        "} # Qualidades e Defeitos\n",
        "# alguns foram removidos para nao impactar a limitação de narrativa, demais com multipla escolha em seu custo estao utilizando o menor, em caso de conflito, fica a escolha do mestre\n",
        "\n",
        "removidos = {\n",
        "    'corpo grande':-4, 'estatura baixa':1, 'criança':3, 'aleijado':3, 'monstruoso':3, 'mudo':4, 'surdez':4,'14 geração':2, 'cegueira':6\n",
        "}"
      ],
      "metadata": {
        "id": "uehd8TMwSTZx"
      },
      "execution_count": 1520,
      "outputs": []
    },
    {
      "cell_type": "code",
      "source": [
        "def escolher_nome():\n",
        "  print('Olá, espaço em branco tera um nome padrão!')\n",
        "\n",
        "  global nome\n",
        "\n",
        "  nome = input('Nome do personagem: ').title()\n",
        "  if nome == \"\":\n",
        "      nome = \"Indigente\"\n",
        "      print(nome)\n",
        "  else:\n",
        "      print(nome)"
      ],
      "metadata": {
        "id": "3IW2_ekMZmht"
      },
      "execution_count": 1521,
      "outputs": []
    },
    {
      "cell_type": "markdown",
      "source": [
        "# Nome"
      ],
      "metadata": {
        "id": "aBICNeK_Jhhs"
      }
    },
    {
      "cell_type": "code",
      "source": [
        "escolher_nome()"
      ],
      "metadata": {
        "colab": {
          "base_uri": "https://localhost:8080/"
        },
        "id": "544Q4QolD3rc",
        "outputId": "c60e0e31-3c8d-4fa4-eb70-010d5748a87b"
      },
      "execution_count": 1522,
      "outputs": [
        {
          "output_type": "stream",
          "name": "stdout",
          "text": [
            "Olá, espaço em branco tera um nome padrão!\n",
            "Nome do personagem: claudio\n",
            "Claudio\n"
          ]
        }
      ]
    },
    {
      "cell_type": "markdown",
      "source": [
        "#### Código"
      ],
      "metadata": {
        "id": "2fhjbj9mEhxM"
      }
    },
    {
      "cell_type": "code",
      "source": [
        "def escolher_cla():\n",
        "  global cla\n",
        "  cla = input('Cla do personagem: ').title()\n",
        "\n",
        "  if cla == \"\":\n",
        "    cla = random.choice(list(lista_cla.keys()))\n",
        "    cla = cla\n",
        "    print(cla)\n",
        "  elif cla in lista_cla:\n",
        "    print(cla)\n",
        "  else:\n",
        "    print('Verifique a lista de clãs')\n",
        "    print(list(lista_cla.keys()))\n",
        "    escolher_cla()\n",
        "\n"
      ],
      "metadata": {
        "id": "8zIzuNl_iYE1"
      },
      "execution_count": 1561,
      "outputs": []
    },
    {
      "cell_type": "markdown",
      "source": [
        "# Clã"
      ],
      "metadata": {
        "id": "cC0nmzcMJYnW"
      }
    },
    {
      "cell_type": "code",
      "source": [
        "escolher_cla()"
      ],
      "metadata": {
        "colab": {
          "base_uri": "https://localhost:8080/"
        },
        "id": "e8eagwheEv_z",
        "outputId": "d0194378-262d-4a6a-8455-84df805ad851"
      },
      "execution_count": 1564,
      "outputs": [
        {
          "output_type": "stream",
          "name": "stdout",
          "text": [
            "Cla do personagem: \n",
            "Lasombra\n"
          ]
        }
      ]
    },
    {
      "cell_type": "markdown",
      "source": [
        "### Disciplinas e mais código"
      ],
      "metadata": {
        "id": "_pX8xKeQ1isY"
      }
    },
    {
      "cell_type": "code",
      "source": [
        "global disciplinas_caitif"
      ],
      "metadata": {
        "id": "ZKgsh_CTdm_-"
      },
      "execution_count": 1525,
      "outputs": []
    },
    {
      "cell_type": "code",
      "source": [
        "if cla == \"Caitif\":\n",
        "  while len(lista_cla['Caitif']) < 3: # checa se 'Caitif' tem ao menos 3 disciplines\n",
        "    disciplina = random.choice(list(lista_disciplinas.keys())) # escolhe disciplinas aleatorias\n",
        "    lista_cla['Caitif'][disciplina] = int(0) # define o nivel como 0\n",
        "  print(lista_cla['Caitif'])\n",
        "  disciplinas_caitif = lista_cla['Caitif'].copy()# Cria uma cópia do dicionário\n",
        "  (lista_cla['Caitif']).clear()\n",
        "  disciplinas = disciplinas_caitif\n",
        "else:\n",
        "  disciplinas = lista_cla[cla].copy()\n",
        "\n",
        "for i in range(3):\n",
        "  disciplina = random.choice(list(disciplinas.items()))\n",
        "  if disciplina in disciplinas.items():\n",
        "    disciplinas[disciplina[0]] +=1"
      ],
      "metadata": {
        "id": "yywehftHXLkD"
      },
      "execution_count": 1526,
      "outputs": []
    },
    {
      "cell_type": "code",
      "source": [
        "disciplinas"
      ],
      "metadata": {
        "colab": {
          "base_uri": "https://localhost:8080/"
        },
        "id": "_MeUC4kpijDm",
        "outputId": "9b3a80ac-dea3-4b3f-f936-07b3d76da6ee"
      },
      "execution_count": 1527,
      "outputs": [
        {
          "output_type": "execute_result",
          "data": {
            "text/plain": [
              "{'Ofuscacao': 2, 'Potencia': 0, 'Animalismo': 1}"
            ]
          },
          "metadata": {},
          "execution_count": 1527
        }
      ]
    },
    {
      "cell_type": "markdown",
      "source": [
        "Atributos"
      ],
      "metadata": {
        "id": "KcXBcBtdkrAh"
      }
    },
    {
      "cell_type": "markdown",
      "source": [
        "relaçao de atributos para uso das disciplinas, ao gerar ficha a consulta de atributos vai se basear nessa preseleção"
      ],
      "metadata": {
        "id": "RbLCtRMXDJq1"
      }
    },
    {
      "cell_type": "code",
      "source": [
        "testes_disciplinas = {\n",
        "    'Animalismo':{'manipulacao','carisma','animais','sobrevivencia','intimidacao'},#autocontrole\n",
        "    'Auspicios':{'percepcao','empatia','inteligencia','labia','ocultismo'},#força de vontade\n",
        "    'Demencia':{'carisma','empatia','manipulacao','labia','percepcao','ocultismo','intimidacao'},#pontos de sangue\n",
        "    'Dominacao':{'manipulacao','intimidacao','lideranca','raciocinio','labia','carisma'},#força de vontade\n",
        "    'Fortitude':{'vigor'},\n",
        "    'Metamorfose':{'forca'},\n",
        "    'Necromancia':{'percepcao','ocultismo','manipulacao','vigor','empatia','destreza','raciocinio','prontidao','inteligencia'},#Força de Vontade\n",
        "    'Ofuscacao':{'raciocinio','furtividade','manipulacao','performance','carisma'},\n",
        "    'Potencia':{'forca','destreza','esportes','briga'},\n",
        "    'Presença':{'carisma','performance','intimidacao','aparencia','empatia','labia'},#força de vontade\n",
        "    'Quietus':{'vigor','esportes','forca'},#pontos de sangue\n",
        "    'Quimerismo':{'manipulacao','labia'},#força de vontade\n",
        "    'Rapidez':{'destreza','esportes'},\n",
        "    'Serpentis':{'forca','vigor'},\n",
        "    'Taumaturgia':{'oficios','ciencia','vigor','esportes','raciocinio','sobrevivencia'},\n",
        "    'Tenebrosidade':{'furtividade','manipulacao','ocultismo','vigor'},\n",
        "    'Vicissitude':{'inteligencia','medicina','percepcao','destreza','forca','vigor'} #levando em consideração que moldar a carne seja = medicina\n",
        "}"
      ],
      "metadata": {
        "id": "fmQCigCgniAb"
      },
      "execution_count": 1528,
      "outputs": []
    },
    {
      "cell_type": "code",
      "source": [
        "testes_do_cla = []\n",
        "\n",
        "for item in disciplinas:\n",
        "  if item in testes_disciplinas:\n",
        "    testes_do_cla.append(testes_disciplinas[item])\n",
        "    print(testes_disciplinas[item])"
      ],
      "metadata": {
        "colab": {
          "base_uri": "https://localhost:8080/"
        },
        "id": "gwdn3JHJeXpZ",
        "outputId": "896bd8cf-e27d-4380-8970-29624ed989ac"
      },
      "execution_count": 1529,
      "outputs": [
        {
          "output_type": "stream",
          "name": "stdout",
          "text": [
            "{'manipulacao', 'raciocinio', 'carisma', 'performance', 'furtividade'}\n",
            "{'briga', 'esportes', 'destreza', 'forca'}\n",
            "{'manipulacao', 'carisma', 'intimidacao', 'animais', 'sobrevivencia'}\n"
          ]
        }
      ]
    },
    {
      "cell_type": "code",
      "source": [
        "atributos_teste = []\n",
        "habilidades_teste = []"
      ],
      "metadata": {
        "id": "28pcP0Onir9X"
      },
      "execution_count": 1530,
      "outputs": []
    },
    {
      "cell_type": "code",
      "source": [
        "atributos_teste.clear()\n",
        "habilidades_teste.clear()\n",
        "\n",
        "for itens_teste in testes_do_cla:\n",
        "  atributos_teste.extend(list(filter(lambda x: x in [a for b in lista_atributos.values() for a in b], itens_teste)))\n",
        "  habilidades_teste.extend(list(filter(lambda x: x in [a for b in lista_habilidades.values() for a in b], itens_teste)))\n",
        "\n",
        "print(\"Atributos:\", atributos_teste)\n",
        "print(\"Habilidades:\", habilidades_teste)\n"
      ],
      "metadata": {
        "colab": {
          "base_uri": "https://localhost:8080/"
        },
        "id": "YmxrhddK0oKe",
        "outputId": "05b694b7-11f7-4ba2-ef42-482e94489ab4"
      },
      "execution_count": 1531,
      "outputs": [
        {
          "output_type": "stream",
          "name": "stdout",
          "text": [
            "Atributos: ['manipulacao', 'raciocinio', 'carisma', 'destreza', 'forca', 'manipulacao', 'carisma']\n",
            "Habilidades: ['performance', 'furtividade', 'briga', 'esportes', 'intimidacao', 'animais', 'sobrevivencia']\n"
          ]
        }
      ]
    },
    {
      "cell_type": "code",
      "source": [
        "testes_do_cla"
      ],
      "metadata": {
        "colab": {
          "base_uri": "https://localhost:8080/"
        },
        "id": "1FPDMUGE5mIw",
        "outputId": "fed3ccdf-e371-4509-884a-89dbc8696921"
      },
      "execution_count": 1532,
      "outputs": [
        {
          "output_type": "execute_result",
          "data": {
            "text/plain": [
              "[{'carisma', 'furtividade', 'manipulacao', 'performance', 'raciocinio'},\n",
              " {'briga', 'destreza', 'esportes', 'forca'},\n",
              " {'animais', 'carisma', 'intimidacao', 'manipulacao', 'sobrevivencia'}]"
            ]
          },
          "metadata": {},
          "execution_count": 1532
        }
      ]
    },
    {
      "cell_type": "code",
      "source": [
        "atributos = {}"
      ],
      "metadata": {
        "id": "Cw-I7Ng-9pkH"
      },
      "execution_count": 1533,
      "outputs": []
    },
    {
      "cell_type": "code",
      "source": [
        "atributos.clear()\n",
        "atributos = lista_atributos.copy()\n",
        "\n",
        "for i in atributos_teste:\n",
        "  if i in atributos['fisicos']:\n",
        "    atributos['fisicos'][i] +=1\n",
        "  elif i in atributos['sociais']:\n",
        "    atributos['sociais'][i] +=1\n",
        "  elif i in atributos['mentais']:\n",
        "    atributos['mentais'][i] +=1\n",
        "\n",
        "if cla == 'Nosferatu':\n",
        "  atributos['sociais']['aparencia'] = 0\n",
        "atributos"
      ],
      "metadata": {
        "colab": {
          "base_uri": "https://localhost:8080/"
        },
        "id": "rQxdBhCp29z6",
        "outputId": "314320c1-f41b-4dbb-a6f4-8bd940934a9f"
      },
      "execution_count": 1534,
      "outputs": [
        {
          "output_type": "execute_result",
          "data": {
            "text/plain": [
              "{'fisicos': {'forca': 2, 'destreza': 2, 'vigor': 1},\n",
              " 'sociais': {'carisma': 3, 'manipulacao': 3, 'aparencia': 0},\n",
              " 'mentais': {'percepcao': 1, 'inteligencia': 1, 'raciocinio': 2}}"
            ]
          },
          "metadata": {},
          "execution_count": 1534
        }
      ]
    },
    {
      "cell_type": "code",
      "source": [
        "habilidades = lista_habilidades.copy()\n",
        "\n",
        "for i in habilidades_teste:\n",
        "  if i in habilidades['talentos']:\n",
        "    habilidades['talentos'][i] +=1\n",
        "  elif i in habilidades['pericias']:\n",
        "    habilidades['pericias'][i] +=1\n",
        "  elif i in habilidades['conhecimento']:\n",
        "    habilidades['conhecimento'][i] +=1"
      ],
      "metadata": {
        "id": "4B89AlYK6ZVA"
      },
      "execution_count": 1535,
      "outputs": []
    },
    {
      "cell_type": "markdown",
      "source": [
        "Apartir dessas listas de **atributos** e **habilidades** serão sorteados os pontos a serem distribuidos"
      ],
      "metadata": {
        "id": "deS2lkhRA9pu"
      }
    },
    {
      "cell_type": "markdown",
      "source": [
        "**VANTAGENS**"
      ],
      "metadata": {
        "id": "Kf8SQAYy2s-L"
      }
    },
    {
      "cell_type": "code",
      "source": [
        "antecedentes = {}\n",
        "virtudes = {}"
      ],
      "metadata": {
        "id": "W5ru7vYdEQuZ"
      },
      "execution_count": 1536,
      "outputs": []
    },
    {
      "cell_type": "code",
      "source": [
        "lista_vantagens[\"antecedentes\"]"
      ],
      "metadata": {
        "colab": {
          "base_uri": "https://localhost:8080/"
        },
        "id": "HLKseAmUNjbT",
        "outputId": "fe3e679a-744d-4557-a8a2-333af5911075"
      },
      "execution_count": 1537,
      "outputs": [
        {
          "output_type": "execute_result",
          "data": {
            "text/plain": [
              "{'aliados': 0,\n",
              " 'contatos': 0,\n",
              " 'fama': 0,\n",
              " 'geracao': 0,\n",
              " 'rebanho': 0,\n",
              " 'influencia': 0,\n",
              " 'mentor': 0,\n",
              " 'recursos': 0,\n",
              " 'lacaios': 0,\n",
              " 'status': 0}"
            ]
          },
          "metadata": {},
          "execution_count": 1537
        }
      ]
    },
    {
      "cell_type": "code",
      "source": [
        "antecedentes.clear()\n",
        "antecedentes = lista_vantagens[\"antecedentes\"].copy()\n",
        "for i in range(5):\n",
        "  antecedente = random.choice(list(antecedentes.items()))\n",
        "  if antecedente in antecedentes.items():\n",
        "    antecedentes[antecedente[0]] += 1\n",
        "  else:\n",
        "    antecedentes[antecedente[0]] = 0\n",
        "\n",
        "for i in list(antecedentes.keys()):\n",
        "  if antecedentes[i] == 0:\n",
        "    del antecedentes[i]\n",
        "\n",
        "antecedentes"
      ],
      "metadata": {
        "id": "ezRXY-2hFD9x",
        "colab": {
          "base_uri": "https://localhost:8080/"
        },
        "outputId": "2749b776-9b7e-4c48-b37d-d09116fbd32a"
      },
      "execution_count": 1538,
      "outputs": [
        {
          "output_type": "execute_result",
          "data": {
            "text/plain": [
              "{'aliados': 1, 'contatos': 1, 'fama': 1, 'influencia': 1, 'recursos': 1}"
            ]
          },
          "metadata": {},
          "execution_count": 1538
        }
      ]
    },
    {
      "cell_type": "code",
      "source": [
        "virtudes.clear() #começa limpando\n",
        "\n",
        "virtudes = lista_vantagens[\"virtudes\"].copy() # {'consiencia': 1, 'autocontrole': 1, 'coragem': 1}\n",
        "''' copia o dicionario de lista_vantagens['virtudes'] '''\n",
        "\n",
        "for i in range(8): # repete 8x\n",
        "  virtude = random.choice(list(virtudes.items())) # declara a virtude sorteada\n",
        "  if virtude in virtudes.items() and virtudes[virtude[0]] < 5: # verifica a virtude na lista\n",
        "    virtudes[virtude[0]] +=1 #adiciona +1 ponto a virtude\n",
        "\n",
        "virtudes"
      ],
      "metadata": {
        "colab": {
          "base_uri": "https://localhost:8080/"
        },
        "id": "wcyS8sJXN7Lh",
        "outputId": "617eaa34-e1f0-4073-fcfb-aea6501ce840"
      },
      "execution_count": 1539,
      "outputs": [
        {
          "output_type": "execute_result",
          "data": {
            "text/plain": [
              "{'consiencia': 3, 'autocontrole': 5, 'coragem': 3}"
            ]
          },
          "metadata": {},
          "execution_count": 1539
        }
      ]
    },
    {
      "cell_type": "code",
      "source": [
        "for vantagens, pontuacao in lista_vantagens[\"virtudes\"].items():\n",
        "    print(f\"{vantagens}:{pontuacao}\")"
      ],
      "metadata": {
        "colab": {
          "base_uri": "https://localhost:8080/"
        },
        "id": "3mhhYMCLF2z0",
        "outputId": "dedd4129-6aa6-4e86-b408-827a0b047975"
      },
      "execution_count": 1540,
      "outputs": [
        {
          "output_type": "stream",
          "name": "stdout",
          "text": [
            "consiencia:1\n",
            "autocontrole:1\n",
            "coragem:1\n"
          ]
        }
      ]
    },
    {
      "cell_type": "markdown",
      "source": [
        "QUALIDADES E DEFEITOS"
      ],
      "metadata": {
        "id": "Ottn7kkswJ0Y"
      }
    },
    {
      "cell_type": "code",
      "source": [
        "qed = {} #qualidades e defeitos\n"
      ],
      "metadata": {
        "id": "5a5TfbFLgXGM"
      },
      "execution_count": 1541,
      "outputs": []
    },
    {
      "cell_type": "code",
      "source": [
        "qed.clear()\n",
        "pontos_extras = 15\n",
        "for i in range(5):\n",
        "  caracteristica = random.choice(list(lista_qed.items()))\n",
        "  if caracteristica not in qed.items():\n",
        "    qed[caracteristica[0]] = caracteristica[1]\n",
        "\n",
        "pontos_extras += sum(qed.values())\n",
        "\n",
        "print(qed, 'pontos extras =',pontos_extras)"
      ],
      "metadata": {
        "colab": {
          "base_uri": "https://localhost:8080/"
        },
        "id": "c79YDV71hbgi",
        "outputId": "530d51ae-d805-4801-b8af-56f4c807443f"
      },
      "execution_count": 1542,
      "outputs": [
        {
          "output_type": "stream",
          "name": "stdout",
          "text": [
            "{'imunidade ao laço de sangue': -3, 'ressentimento do senhor': 1, 'mordida infecciosa': 2, 'pesadelos': 1, 'habilidade oracular': -3} pontos extras = 13\n"
          ]
        }
      ]
    },
    {
      "cell_type": "markdown",
      "source": [
        "HUMANIDADE"
      ],
      "metadata": {
        "id": "tCcmet73wcM9"
      }
    },
    {
      "cell_type": "code",
      "source": [
        "humanidade = virtudes['consiencia'] + virtudes['autocontrole']\n",
        "humanidade"
      ],
      "metadata": {
        "colab": {
          "base_uri": "https://localhost:8080/"
        },
        "id": "XxKXCTMawiYW",
        "outputId": "211a2296-4270-4f7a-88f1-2caefff8a1d6"
      },
      "execution_count": 1543,
      "outputs": [
        {
          "output_type": "execute_result",
          "data": {
            "text/plain": [
              "8"
            ]
          },
          "metadata": {},
          "execution_count": 1543
        }
      ]
    },
    {
      "cell_type": "markdown",
      "source": [
        "FORÇA DE VONTADE"
      ],
      "metadata": {
        "id": "yvawl4yUwi1Z"
      }
    },
    {
      "cell_type": "code",
      "source": [
        "forca_de_vontade = virtudes['coragem']\n",
        "forca_de_vontade"
      ],
      "metadata": {
        "colab": {
          "base_uri": "https://localhost:8080/"
        },
        "id": "m1nqzl9nwlXn",
        "outputId": "124f3811-d298-4b78-9c6f-22824c20ad69"
      },
      "execution_count": 1544,
      "outputs": [
        {
          "output_type": "execute_result",
          "data": {
            "text/plain": [
              "3"
            ]
          },
          "metadata": {},
          "execution_count": 1544
        }
      ]
    },
    {
      "cell_type": "markdown",
      "source": [
        "PONTOS DE SANGUE"
      ],
      "metadata": {
        "id": "nxyjrAJ8wlqT"
      }
    },
    {
      "cell_type": "code",
      "source": [
        "d10 = list(range(1,11))\n",
        "pontos_de_sangue = random.choice(d10)\n",
        "pontos_de_sangue"
      ],
      "metadata": {
        "colab": {
          "base_uri": "https://localhost:8080/"
        },
        "id": "U-RnzLKBwrOk",
        "outputId": "f7107684-56d7-4571-b26f-21a6c8915679"
      },
      "execution_count": 1545,
      "outputs": [
        {
          "output_type": "execute_result",
          "data": {
            "text/plain": [
              "8"
            ]
          },
          "metadata": {},
          "execution_count": 1545
        }
      ]
    },
    {
      "cell_type": "markdown",
      "source": [
        "GERAÇÃO"
      ],
      "metadata": {
        "id": "Gajc6rD5JkeA"
      }
    },
    {
      "cell_type": "code",
      "source": [
        "geracao = 13\n",
        "\n",
        "if 'geracao' in antecedentes:\n",
        "  geracao -= antecedentes['geracao']\n",
        "  print(geracao)\n"
      ],
      "metadata": {
        "id": "RpWnapAhfinC"
      },
      "execution_count": 1546,
      "outputs": []
    },
    {
      "cell_type": "markdown",
      "source": [
        "Distribuição de pontos\n"
      ],
      "metadata": {
        "id": "pTDX7yvwX77i"
      }
    },
    {
      "cell_type": "code",
      "source": [
        "pontos_extras"
      ],
      "metadata": {
        "colab": {
          "base_uri": "https://localhost:8080/"
        },
        "id": "DeuNg8osXbDG",
        "outputId": "1f969539-04fe-481a-8aea-96680c98228c"
      },
      "execution_count": 1547,
      "outputs": [
        {
          "output_type": "execute_result",
          "data": {
            "text/plain": [
              "13"
            ]
          },
          "metadata": {},
          "execution_count": 1547
        }
      ]
    },
    {
      "cell_type": "code",
      "source": [
        "custo_disciplinas = -7\n",
        "custo_atributos = -5\n",
        "custo_habilidades = -2\n",
        "custo_virtudes = -2\n",
        "custo_antecedentes = -1\n",
        "custo_humanidade = -1\n",
        "custo_forca_de_vontade = -1\n"
      ],
      "metadata": {
        "id": "yq4rigJLp7W5"
      },
      "execution_count": 1548,
      "outputs": []
    },
    {
      "cell_type": "code",
      "source": [
        "#recuperar pontos gastos em atributos,habilidades\n",
        "pontos_preset_atributos = sum(atributos['fisicos'].values())-3,sum(atributos['sociais'].values())-3,sum(atributos['mentais'].values())-3\n",
        "pontos_preset_atributos"
      ],
      "metadata": {
        "colab": {
          "base_uri": "https://localhost:8080/"
        },
        "id": "0zWBMcEXY1Us",
        "outputId": "5bf7838f-f988-4e3b-f892-868455bc0ac4"
      },
      "execution_count": 1549,
      "outputs": [
        {
          "output_type": "execute_result",
          "data": {
            "text/plain": [
              "(2, 3, 1)"
            ]
          },
          "metadata": {},
          "execution_count": 1549
        }
      ]
    },
    {
      "cell_type": "markdown",
      "source": [
        "definindo se atributos são menor q 4, caso negativo, descontado de pontos extra a compra desse ponto"
      ],
      "metadata": {
        "id": "U_rZagoZfbED"
      }
    },
    {
      "cell_type": "code",
      "source": [
        "if (sum(atributos['fisicos'].values())-3 >= 4 and sum(atributos['sociais'].values())-3 >= 4) or (sum(atributos['fisicos'].values())-3 >= 4  and sum(atributos['mentais'].values())-3 >= 4) or (sum(atributos['sociais'].values())-3 >= 4 and sum(atributos['mentais'].values())-3 >= 4):\n",
        "  pontos_extras += custo_atributos\n",
        "pontos_extras"
      ],
      "metadata": {
        "colab": {
          "base_uri": "https://localhost:8080/"
        },
        "id": "q2YH8nN_YNLw",
        "outputId": "e6cba3da-15d2-4840-dba9-d248a5259749"
      },
      "execution_count": 1550,
      "outputs": [
        {
          "output_type": "execute_result",
          "data": {
            "text/plain": [
              "13"
            ]
          },
          "metadata": {},
          "execution_count": 1550
        }
      ]
    },
    {
      "cell_type": "code",
      "source": [
        "pontos_atributos = [7,5,3] # pontos para atributos"
      ],
      "metadata": {
        "id": "30AnUE2AcX5G"
      },
      "execution_count": 1551,
      "outputs": []
    },
    {
      "cell_type": "code",
      "source": [
        "# Define a função para distribuir pontos de atributos\n",
        "def distribuir_pontos_atributos():\n",
        "    \"\"\"\n",
        "    Distribui pontos de atributos aleatoriamente para um personagem,\n",
        "    considerando limites e regras específicas.\n",
        "    \"\"\"\n",
        "    global atributos, pontos_preset_atributos  # Acessa variáveis globais\n",
        "\n",
        "    # Cria uma lista com as categorias de atributos (físicos, sociais, mentais)\n",
        "    categorias_disponiveis = list(atributos.keys())\n",
        "\n",
        "    # Embaralha a ordem dos pontos a serem distribuídos ([7, 5, 3])\n",
        "    random.shuffle(pontos_atributos)\n",
        "\n",
        "    # Cria uma cópia da lista de pontos para evitar modificá-la diretamente\n",
        "    pontos_atributos_copia = pontos_atributos.copy()\n",
        "\n",
        "    # Itera pelas 3 categorias de atributos (físicos, sociais, mentais)\n",
        "    for i in range(3):\n",
        "        # Define a quantidade de pontos para a categoria atual\n",
        "        ponto = pontos_atributos_copia[i]\n",
        "\n",
        "        # Subtrai os pontos já gastos na categoria\n",
        "        ponto -= pontos_preset_atributos[i]\n",
        "\n",
        "        # Se não há mais pontos para distribuir na categoria, pula para a próxima\n",
        "        if ponto <= 0:\n",
        "            continue\n",
        "\n",
        "        # Define a categoria de atributo atual (físicos, sociais ou mentais)\n",
        "        categoria_escolhida = list(atributos.keys())[i]\n",
        "\n",
        "        # Distribui pontos na categoria enquanto houver pontos disponíveis\n",
        "        while ponto > 0:\n",
        "            # Cria uma lista de atributos disponíveis para receber pontos\n",
        "            # (valor menor que 5 e respeitando a regra do Nosferatu)\n",
        "            atributos_disponiveis = [\n",
        "                atributo for atributo, valor in atributos[categoria_escolhida].items()\n",
        "                if valor < 5 and (cla != 'Nosferatu' or atributo != 'aparencia')\n",
        "            ]\n",
        "\n",
        "            # Se não houver mais atributos disponíveis na categoria, sai do loop\n",
        "            if not atributos_disponiveis:\n",
        "                break\n",
        "\n",
        "            # Escolhe aleatoriamente um atributo da lista de atributos disponíveis\n",
        "            atributo_escolhido = random.choice(atributos_disponiveis)\n",
        "\n",
        "            # Adiciona 1 ponto ao atributo escolhido\n",
        "            atributos[categoria_escolhida][atributo_escolhido] += 1\n",
        "\n",
        "            # Diminui 1 da quantidade de pontos disponíveis para a categoria\n",
        "            ponto -= 1"
      ],
      "metadata": {
        "id": "et0zuZGKmMCn"
      },
      "execution_count": 1552,
      "outputs": []
    },
    {
      "cell_type": "code",
      "source": [
        "print(\"Antes:\", atributos)  # Imprime o dicionário antes da distribuição\n",
        "distribuir_pontos_atributos()\n",
        "print(\"Depois:\", atributos)  # Imprime o dicionário depois da distribuição"
      ],
      "metadata": {
        "colab": {
          "base_uri": "https://localhost:8080/"
        },
        "id": "yFZSN2npMTZJ",
        "outputId": "66e45730-f0cb-49f3-b752-f15d9e185bea"
      },
      "execution_count": 1553,
      "outputs": [
        {
          "output_type": "stream",
          "name": "stdout",
          "text": [
            "Antes: {'fisicos': {'forca': 2, 'destreza': 2, 'vigor': 1}, 'sociais': {'carisma': 3, 'manipulacao': 3, 'aparencia': 0}, 'mentais': {'percepcao': 1, 'inteligencia': 1, 'raciocinio': 2}}\n",
            "Depois: {'fisicos': {'forca': 4, 'destreza': 3, 'vigor': 3}, 'sociais': {'carisma': 3, 'manipulacao': 3, 'aparencia': 0}, 'mentais': {'percepcao': 3, 'inteligencia': 2, 'raciocinio': 3}}\n"
          ]
        }
      ]
    },
    {
      "cell_type": "code",
      "source": [
        "pontos_habilidades = [13,9,5] #pontos para habilidades\n"
      ],
      "metadata": {
        "id": "LU72S5kPgFoi"
      },
      "execution_count": 1554,
      "outputs": []
    },
    {
      "cell_type": "code",
      "source": [
        "pontos_preset_habilidades = sum(habilidades['talentos'].values()),sum(habilidades['pericias'].values()),sum(habilidades['conhecimento'].values())\n",
        "pontos_preset_habilidades"
      ],
      "metadata": {
        "id": "mBgF4ELTgPtu",
        "colab": {
          "base_uri": "https://localhost:8080/"
        },
        "outputId": "dcea22c0-264c-4fcc-b5b2-f1c4b70e83de"
      },
      "execution_count": 1555,
      "outputs": [
        {
          "output_type": "execute_result",
          "data": {
            "text/plain": [
              "(3, 4, 0)"
            ]
          },
          "metadata": {},
          "execution_count": 1555
        }
      ]
    },
    {
      "cell_type": "code",
      "source": [
        "def distribuir_pontos_habilidades():\n",
        "    \"\"\"\n",
        "    Distribui pontos de habilidades aleatoriamente para um personagem,\n",
        "    considerando limites e regras específicas.\n",
        "    \"\"\"\n",
        "    global habilidades, pontos_preset_habilidades  # Acessa variáveis globais\n",
        "\n",
        "    categorias_disponiveis = list(habilidades.keys())  # Cria uma lista com as categorias de habilidades\n",
        "\n",
        "    random.shuffle(pontos_habilidades)  # Embaralha a ordem dos pontos a serem distribuídos\n",
        "\n",
        "    pontos_habilidades_copia = pontos_habilidades.copy()\n",
        "\n",
        "    for i in range(3):\n",
        "        ponto = pontos_habilidades_copia[i]\n",
        "        ponto -= pontos_preset_habilidades[i]\n",
        "\n",
        "        if ponto <= 0:\n",
        "            continue\n",
        "\n",
        "        categoria_escolhida = list(habilidades.keys())[i]\n",
        "\n",
        "        while ponto > 0:\n",
        "            habilidades_disponiveis = [\n",
        "                habilidade for habilidade, valor in habilidades[categoria_escolhida].items()\n",
        "                if valor < 5\n",
        "            ]\n",
        "\n",
        "            if not habilidades_disponiveis:\n",
        "                break\n",
        "\n",
        "            habilidade_escolhida = random.choice(habilidades_disponiveis)\n",
        "            habilidades[categoria_escolhida][habilidade_escolhida] += 1\n",
        "            ponto -= 1"
      ],
      "metadata": {
        "id": "J1Sc8NUkx_7S"
      },
      "execution_count": 1556,
      "outputs": []
    },
    {
      "cell_type": "code",
      "source": [
        "print(\"Antes:\", habilidades)  # Imprime o dicionário antes da distribuição\n",
        "distribuir_pontos_habilidades()\n",
        "habilidades = {tipo: {hab: pont for hab, pont in hab_dict.items() if pont != 0}\n",
        "              for tipo, hab_dict in habilidades.items()}\n",
        "print(\"Depois:\", habilidades)  # Imprime o dicionário depois da distribuição"
      ],
      "metadata": {
        "colab": {
          "base_uri": "https://localhost:8080/"
        },
        "id": "rRh-H140y8dX",
        "outputId": "b7e2a5d8-a1f9-4270-9a06-c3e1ba373129"
      },
      "execution_count": 1557,
      "outputs": [
        {
          "output_type": "stream",
          "name": "stdout",
          "text": [
            "Antes: {'talentos': {'prontidao': 0, 'esportes': 1, 'briga': 1, 'esquiva': 0, 'empatia': 0, 'expressao': 0, 'intimidacao': 1, 'lideranca': 0, 'manha': 0, 'labia': 0}, 'pericias': {'animais': 1, 'oficios': 0, 'conducao': 0, 'etiqueta': 0, 'armas_de_fogo': 0, 'armas_brancas': 0, 'performance': 1, 'seguranca': 0, 'furtividade': 1, 'sobrevivencia': 1}, 'conhecimento': {'academicos': 0, 'computador': 0, 'financas': 0, 'investigacao': 0, 'direito': 0, 'linguistica': 0, 'medicina': 0, 'ocultismo': 0, 'politica': 0, 'ciencia': 0}}\n",
            "Depois: {'talentos': {'esportes': 2, 'briga': 1, 'intimidacao': 2}, 'pericias': {'animais': 2, 'etiqueta': 1, 'armas_de_fogo': 1, 'performance': 1, 'seguranca': 2, 'furtividade': 1, 'sobrevivencia': 1}, 'conhecimento': {'investigacao': 4, 'linguistica': 1, 'medicina': 2, 'ocultismo': 4, 'politica': 1, 'ciencia': 1}}\n"
          ]
        }
      ]
    },
    {
      "cell_type": "markdown",
      "source": [
        "Custos de pontos bonus\n",
        "\n",
        "Atributo 5 pontos de bónus por ponto\n",
        "\n",
        "Habilidade 2 pontos de bónus por ponto\n",
        "\n",
        "Disciplina 7 pontos de bónus por ponto\n",
        "\n",
        "Antecedentes l ponto de bónus por ponto\n",
        "\n",
        "Virtudes 2 pontos de bónus por ponto\n",
        "\n",
        "Humanidade l ponto de bónus por ponto\n",
        "\n",
        "Força de Vontade l ponto de bónus por ponto\n"
      ],
      "metadata": {
        "id": "qc1HcfLmXPhs"
      }
    },
    {
      "cell_type": "code",
      "source": [
        "pontos_extras"
      ],
      "metadata": {
        "colab": {
          "base_uri": "https://localhost:8080/"
        },
        "id": "FtYlg9Ex0Kae",
        "outputId": "4e19c98f-11fb-4e61-adfd-47b72985d3c8"
      },
      "execution_count": 1558,
      "outputs": [
        {
          "output_type": "execute_result",
          "data": {
            "text/plain": [
              "13"
            ]
          },
          "metadata": {},
          "execution_count": 1558
        }
      ]
    },
    {
      "cell_type": "code",
      "source": [
        "def gerar_ficha():\n",
        "  vampiro = Vampiro(nome, geracao, cla, atributos, habilidades, vantagens, qed, \"Humanidade\", forca_de_vontade, pontos_de_sangue)\n",
        "\n",
        "  input('Enter para finalizar')\n",
        "  vampiro.ficha()"
      ],
      "metadata": {
        "id": "T1Bgwewq3rrx"
      },
      "execution_count": 1565,
      "outputs": []
    },
    {
      "cell_type": "markdown",
      "source": [
        "# FICHA"
      ],
      "metadata": {
        "id": "H4s8DWEHDHx4"
      }
    },
    {
      "cell_type": "code",
      "source": [
        "gerar_ficha()"
      ],
      "metadata": {
        "colab": {
          "base_uri": "https://localhost:8080/"
        },
        "id": "KIGpXE5DFb2A",
        "outputId": "a474514e-c56b-49f8-c7dc-13473db57032"
      },
      "execution_count": 1566,
      "outputs": [
        {
          "output_type": "stream",
          "name": "stdout",
          "text": [
            "Enter para finalizar\n",
            "\n",
            "Claudio, Lasombra, 13ª geração,\n",
            "Atributos:\n",
            "  Físicos: {'forca': 4, 'destreza': 3, 'vigor': 3}\n",
            "  Sociais: {'carisma': 3, 'manipulacao': 3, 'aparencia': 0}\n",
            "  Mentais: {'percepcao': 3, 'inteligencia': 2, 'raciocinio': 3}\n",
            "Habilidades:\n",
            "  Talentos: {'esportes': 2, 'briga': 1, 'intimidacao': 2}\n",
            "  Perícias: {'animais': 2, 'etiqueta': 1, 'armas_de_fogo': 1, 'performance': 1, 'seguranca': 2, 'furtividade': 1, 'sobrevivencia': 1}\n",
            "  Conhecimentos: {'investigacao': 4, 'linguistica': 1, 'medicina': 2, 'ocultismo': 4, 'politica': 1, 'ciencia': 1}\n",
            "Vantagens:\n",
            "  Antecedentes: {'aliados': 1, 'contatos': 1, 'fama': 1, 'influencia': 1, 'recursos': 1}\n",
            "  Disciplinas: {'Ofuscacao': 2, 'Potencia': 0, 'Animalismo': 1}\n",
            "  Virtudes: {'consiencia': 3, 'autocontrole': 5, 'coragem': 3}\n",
            "Qualidades e Defeitos: {'imunidade ao laço de sangue': -3, 'ressentimento do senhor': 1, 'mordida infecciosa': 2, 'pesadelos': 1, 'habilidade oracular': -3}\n",
            "Humanidade: 8 | Força de Vontade: 3 | Pontos de Sangue: 8\n",
            "\n"
          ]
        }
      ]
    }
  ]
}